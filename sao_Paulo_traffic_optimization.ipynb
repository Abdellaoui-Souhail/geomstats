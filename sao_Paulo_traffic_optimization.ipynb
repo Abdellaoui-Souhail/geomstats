{
 "cells": [
  {
   "cell_type": "markdown",
   "metadata": {},
   "source": [
    "# Optimization of Sao Paulo traffic"
   ]
  },
  {
   "cell_type": "markdown",
   "metadata": {},
   "source": [
    "Lead author: Jules Deschamps.\n",
    "\n",
    "This notebook presents a simple use case of *information geometry*, in the context of *traffic optimization* in Sao Paulo.\n",
    "We rely on a dataset listing all traffic jams in Sao Paulo for the past two decades (their location, date, their size, their duration, i.e. how long the traffic was jammed) to propose a solution involving information geometry.\n",
    "\n",
    "This analysis relies heavily on the geometry of the *Gamma manifold*, which is particularly adapted to addressing this situation, as seen later on."
   ]
  },
  {
   "cell_type": "markdown",
   "metadata": {},
   "source": [
    "<center>\n",
    "    <img src='_63032028_jam_ap624.jpg' width=600px>\n",
    "</center>"
   ]
  },
  {
   "cell_type": "markdown",
   "metadata": {},
   "source": [
    "<center>\n",
    "    Figure 1: Sao Paulo: A city with 180km traffic jams -- BBC News\n",
    "</center>"
   ]
  },
  {
   "cell_type": "markdown",
   "metadata": {},
   "source": [
    "# 1. Introduction and Motivation"
   ]
  },
  {
   "cell_type": "markdown",
   "metadata": {},
   "source": [
    "40% of São Paulo residents own a motor vehicle. While this is lower than cities in the United States, it is still higher than most other Latin American cities and São Paulo’s infrastructure was not built to accommodate such a large number of private vehicles. As The Urban Mobility Research Network of São Paulo found, some São Paulo residents spend one month per year in traffic, or 2.4 hours per day. As car ownership increases, and with it further congestion, this time spent in traffic will only grow. In that regard, considering the increase in car ownership and air pollution, even though widening roads only brings a temporary solution, it can alleviate Brazilians of the absurd amount of time they spend in traffic.\n",
    "\n",
    "In the role of Sao Paulo's city planners, we have been granted a certain amount of resources to solve the congestion problem of Sao Paulo. The issue at hand becomes that of choosing which roads to renovate. More formally, the goal is eventually to reduce the mean expected congestion time in traffic."
   ]
  },
  {
   "cell_type": "markdown",
   "metadata": {},
   "source": [
    "### Setup"
   ]
  },
  {
   "cell_type": "code",
   "execution_count": 1,
   "metadata": {},
   "outputs": [
    {
     "name": "stderr",
     "output_type": "stream",
     "text": [
      "INFO: Using pytorch backend\n"
     ]
    },
    {
     "data": {
      "text/plain": [
       "<torch._C.Generator at 0x28ace240a10>"
      ]
     },
     "execution_count": 1,
     "metadata": {},
     "output_type": "execute_result"
    }
   ],
   "source": [
    "import warnings\n",
    "\n",
    "warnings.filterwarnings(\"ignore\")\n",
    "\n",
    "import geomstats.backend as gs\n",
    "import pandas as pd\n",
    "from tqdm import tqdm\n",
    "\n",
    "gs.random.seed(2021)"
   ]
  },
  {
   "cell_type": "markdown",
   "metadata": {},
   "source": [
    "# 2. Dataset description"
   ]
  },
  {
   "cell_type": "markdown",
   "metadata": {},
   "source": [
    "We have at our disposal a dataset containing traffic jam size measurements by CET at several locations on São Paulo between 2001 and 2019, with more than 5M entries.\n",
    "\n",
    "Available columns:\n",
    "- passage (str) - Name of the passage\n",
    "- direction (str)\n",
    "- type (str) - Indicates if the passage is an expressway (E)\n",
    "- region (str) - São Paulo region\n",
    "- timestamp (datetime) - When the traffic jam was measured (UTC-4)\n",
    "- jam_size (int) - Traffic jam in meters\n",
    "- segment (str) - Where the passage is located\n",
    "\n",
    "Our modeling does not take into account the fact that many of the passages/roads must have been renovated between 2001 and 2019. Similarly, the dataset does not offer information on the width of given roads (even though we could base it off of the type of the road), and therefore on their flow rate: this is an obvious flaw in our analysis but it is easy to fix if the relevant data can be accessed."
   ]
  },
  {
   "cell_type": "markdown",
   "metadata": {},
   "source": [
    "## Reading the dataset"
   ]
  },
  {
   "cell_type": "code",
   "execution_count": 2,
   "metadata": {},
   "outputs": [
    {
     "data": {
      "text/html": [
       "<div>\n",
       "<style scoped>\n",
       "    .dataframe tbody tr th:only-of-type {\n",
       "        vertical-align: middle;\n",
       "    }\n",
       "\n",
       "    .dataframe tbody tr th {\n",
       "        vertical-align: top;\n",
       "    }\n",
       "\n",
       "    .dataframe thead th {\n",
       "        text-align: right;\n",
       "    }\n",
       "</style>\n",
       "<table border=\"1\" class=\"dataframe\">\n",
       "  <thead>\n",
       "    <tr style=\"text-align: right;\">\n",
       "      <th></th>\n",
       "      <th>index</th>\n",
       "      <th>passage</th>\n",
       "      <th>direction</th>\n",
       "      <th>type</th>\n",
       "      <th>region</th>\n",
       "      <th>timestamp</th>\n",
       "      <th>jam_size</th>\n",
       "      <th>segment</th>\n",
       "    </tr>\n",
       "  </thead>\n",
       "  <tbody>\n",
       "    <tr>\n",
       "      <th>0</th>\n",
       "      <td>0</td>\n",
       "      <td>Jânio Quadros, Túnel</td>\n",
       "      <td>unico//</td>\n",
       "      <td>NaN</td>\n",
       "      <td>OESTE</td>\n",
       "      <td>2015-01-04 14:30:00</td>\n",
       "      <td>799</td>\n",
       "      <td>De OSCAR AMERICANO até  JUSCELINO KUBITSCHEK</td>\n",
       "    </tr>\n",
       "    <tr>\n",
       "      <th>1</th>\n",
       "      <td>1</td>\n",
       "      <td>Juscelino Kubitschek, Av Pres</td>\n",
       "      <td>Ibirapuera/Pinheiros</td>\n",
       "      <td>NaN</td>\n",
       "      <td>SUL</td>\n",
       "      <td>2015-01-04 14:30:00</td>\n",
       "      <td>260</td>\n",
       "      <td>De  Emboque Túnel Jânio Quadros até 290 m depo...</td>\n",
       "    </tr>\n",
       "    <tr>\n",
       "      <th>2</th>\n",
       "      <td>2</td>\n",
       "      <td>Jânio Quadros, Túnel</td>\n",
       "      <td>unico//</td>\n",
       "      <td>NaN</td>\n",
       "      <td>OESTE</td>\n",
       "      <td>2015-01-04 15:00:00</td>\n",
       "      <td>799</td>\n",
       "      <td>De OSCAR AMERICANO até  JUSCELINO KUBITSCHEK</td>\n",
       "    </tr>\n",
       "    <tr>\n",
       "      <th>3</th>\n",
       "      <td>3</td>\n",
       "      <td>Juscelino Kubitschek, Av Pres</td>\n",
       "      <td>Ibirapuera/Pinheiros</td>\n",
       "      <td>NaN</td>\n",
       "      <td>SUL</td>\n",
       "      <td>2015-01-04 15:00:00</td>\n",
       "      <td>260</td>\n",
       "      <td>De  Emboque Túnel Jânio Quadros até 290 m depo...</td>\n",
       "    </tr>\n",
       "    <tr>\n",
       "      <th>4</th>\n",
       "      <td>4</td>\n",
       "      <td>Jânio Quadros, Túnel</td>\n",
       "      <td>unico//</td>\n",
       "      <td>NaN</td>\n",
       "      <td>OESTE</td>\n",
       "      <td>2015-01-04 15:30:00</td>\n",
       "      <td>799</td>\n",
       "      <td>De OSCAR AMERICANO até  JUSCELINO KUBITSCHEK</td>\n",
       "    </tr>\n",
       "    <tr>\n",
       "      <th>...</th>\n",
       "      <td>...</td>\n",
       "      <td>...</td>\n",
       "      <td>...</td>\n",
       "      <td>...</td>\n",
       "      <td>...</td>\n",
       "      <td>...</td>\n",
       "      <td>...</td>\n",
       "      <td>...</td>\n",
       "    </tr>\n",
       "    <tr>\n",
       "      <th>5223443</th>\n",
       "      <td>230195</td>\n",
       "      <td>Marginal Pinheiros</td>\n",
       "      <td>Interlagos/Castelo</td>\n",
       "      <td>A</td>\n",
       "      <td>OESTE</td>\n",
       "      <td>2018-09-30 18:30:00</td>\n",
       "      <td>3820</td>\n",
       "      <td>De CIDADE UNIVERSITARIA até 350 m depois de JU...</td>\n",
       "    </tr>\n",
       "    <tr>\n",
       "      <th>5223444</th>\n",
       "      <td>230196</td>\n",
       "      <td>Marginal Pinheiros</td>\n",
       "      <td>Interlagos/Castelo</td>\n",
       "      <td>E</td>\n",
       "      <td>OESTE</td>\n",
       "      <td>2018-09-30 19:00:00</td>\n",
       "      <td>4640</td>\n",
       "      <td>De CIDADE UNIVERSITARIA até 700 m depois de QU...</td>\n",
       "    </tr>\n",
       "    <tr>\n",
       "      <th>5223445</th>\n",
       "      <td>230197</td>\n",
       "      <td>Marginal Pinheiros</td>\n",
       "      <td>Interlagos/Castelo</td>\n",
       "      <td>A</td>\n",
       "      <td>OESTE</td>\n",
       "      <td>2018-09-30 19:00:00</td>\n",
       "      <td>3820</td>\n",
       "      <td>De CIDADE UNIVERSITARIA até 350 m depois de JU...</td>\n",
       "    </tr>\n",
       "    <tr>\n",
       "      <th>5223446</th>\n",
       "      <td>230198</td>\n",
       "      <td>Marginal Pinheiros</td>\n",
       "      <td>Interlagos/Castelo</td>\n",
       "      <td>E</td>\n",
       "      <td>OESTE</td>\n",
       "      <td>2018-09-30 19:30:00</td>\n",
       "      <td>4640</td>\n",
       "      <td>De CIDADE UNIVERSITARIA até 700 m depois de QU...</td>\n",
       "    </tr>\n",
       "    <tr>\n",
       "      <th>5223447</th>\n",
       "      <td>230199</td>\n",
       "      <td>Marginal Pinheiros</td>\n",
       "      <td>Interlagos/Castelo</td>\n",
       "      <td>A</td>\n",
       "      <td>OESTE</td>\n",
       "      <td>2018-09-30 19:30:00</td>\n",
       "      <td>3820</td>\n",
       "      <td>De CIDADE UNIVERSITARIA até 350 m depois de JU...</td>\n",
       "    </tr>\n",
       "  </tbody>\n",
       "</table>\n",
       "<p>5223448 rows × 8 columns</p>\n",
       "</div>"
      ],
      "text/plain": [
       "          index                                   passage  \\\n",
       "0             0  Jânio Quadros, Túnel                       \n",
       "1             1  Juscelino Kubitschek, Av Pres              \n",
       "2             2  Jânio Quadros, Túnel                       \n",
       "3             3  Juscelino Kubitschek, Av Pres              \n",
       "4             4  Jânio Quadros, Túnel                       \n",
       "...         ...                                       ...   \n",
       "5223443  230195  Marginal Pinheiros                         \n",
       "5223444  230196  Marginal Pinheiros                         \n",
       "5223445  230197  Marginal Pinheiros                         \n",
       "5223446  230198  Marginal Pinheiros                         \n",
       "5223447  230199  Marginal Pinheiros                         \n",
       "\n",
       "                                        direction type region  \\\n",
       "0        unico//                                   NaN  OESTE   \n",
       "1        Ibirapuera/Pinheiros                      NaN    SUL   \n",
       "2        unico//                                   NaN  OESTE   \n",
       "3        Ibirapuera/Pinheiros                      NaN    SUL   \n",
       "4        unico//                                   NaN  OESTE   \n",
       "...                                           ...  ...    ...   \n",
       "5223443  Interlagos/Castelo                          A  OESTE   \n",
       "5223444  Interlagos/Castelo                          E  OESTE   \n",
       "5223445  Interlagos/Castelo                          A  OESTE   \n",
       "5223446  Interlagos/Castelo                          E  OESTE   \n",
       "5223447  Interlagos/Castelo                          A  OESTE   \n",
       "\n",
       "                  timestamp  jam_size  \\\n",
       "0       2015-01-04 14:30:00       799   \n",
       "1       2015-01-04 14:30:00       260   \n",
       "2       2015-01-04 15:00:00       799   \n",
       "3       2015-01-04 15:00:00       260   \n",
       "4       2015-01-04 15:30:00       799   \n",
       "...                     ...       ...   \n",
       "5223443 2018-09-30 18:30:00      3820   \n",
       "5223444 2018-09-30 19:00:00      4640   \n",
       "5223445 2018-09-30 19:00:00      3820   \n",
       "5223446 2018-09-30 19:30:00      4640   \n",
       "5223447 2018-09-30 19:30:00      3820   \n",
       "\n",
       "                                                   segment  \n",
       "0             De OSCAR AMERICANO até  JUSCELINO KUBITSCHEK  \n",
       "1        De  Emboque Túnel Jânio Quadros até 290 m depo...  \n",
       "2             De OSCAR AMERICANO até  JUSCELINO KUBITSCHEK  \n",
       "3        De  Emboque Túnel Jânio Quadros até 290 m depo...  \n",
       "4             De OSCAR AMERICANO até  JUSCELINO KUBITSCHEK  \n",
       "...                                                    ...  \n",
       "5223443  De CIDADE UNIVERSITARIA até 350 m depois de JU...  \n",
       "5223444  De CIDADE UNIVERSITARIA até 700 m depois de QU...  \n",
       "5223445  De CIDADE UNIVERSITARIA até 350 m depois de JU...  \n",
       "5223446  De CIDADE UNIVERSITARIA até 700 m depois de QU...  \n",
       "5223447  De CIDADE UNIVERSITARIA até 350 m depois de JU...  \n",
       "\n",
       "[5223448 rows x 8 columns]"
      ]
     },
     "execution_count": 2,
     "metadata": {},
     "output_type": "execute_result"
    }
   ],
   "source": [
    "ds = pd.read_feather(\"sao_paulo-traffic_jams.feather\")\n",
    "ds"
   ]
  },
  {
   "cell_type": "markdown",
   "metadata": {},
   "source": [
    "## Pre-processing the dataset"
   ]
  },
  {
   "cell_type": "markdown",
   "metadata": {},
   "source": [
    "Some of the columns of the dataset are not necessary for our study: let alone __index__, __type__ and __segment__ do not seem to add any value to the table in our case. In addition, the times (__timestamp__) at which jams are occurring are not relevant in that specific format: it would make much more sense to have the duration of given jam. For reasons we will explain later, we alos decide to drop the __jam_size__ column.\n",
    "\n",
    "We would want to transform the original dataset so as to access a more relevant table, with features:\n",
    "- name of the road (primary key = passage + direction for instance, segments are regrouped within same key)\n",
    "- date (day only)\n",
    "- duration of the traffic jam\n"
   ]
  },
  {
   "cell_type": "code",
   "execution_count": 3,
   "metadata": {},
   "outputs": [],
   "source": [
    "def datetime_to_hours(time):\n",
    "    return time.hour + time.minute/60\n",
    "\n",
    "ds[\"date\"], ds[\"time\"] = pd.to_datetime(ds['timestamp']).dt.date, (pd.to_datetime(ds['timestamp']).dt.time).apply(datetime_to_hours)\n",
    "ds = ds.drop(['index', 'region', 'type', 'timestamp', 'jam_size', 'segment'], axis=1)"
   ]
  },
  {
   "cell_type": "markdown",
   "metadata": {},
   "source": [
    "The list *points* concatenates all primary keys."
   ]
  },
  {
   "cell_type": "code",
   "execution_count": 4,
   "metadata": {},
   "outputs": [
    {
     "name": "stdout",
     "output_type": "stream",
     "text": [
      "There are 474 primary keys.\n"
     ]
    }
   ],
   "source": [
    "roads = list(ds.groupby(['passage', 'direction']).groups)\n",
    "print(f\"There are {len(roads)} primary keys.\")"
   ]
  },
  {
   "cell_type": "markdown",
   "metadata": {},
   "source": [
    "\n",
    "An additional dictionary giving the frequency of traffic jams for each road would be convenient to understand which roads are in most need for renovation. Here *jam_count* counts the number of traffic jams that have occurred for each road between 2001 and 2019."
   ]
  },
  {
   "cell_type": "code",
   "execution_count": 5,
   "metadata": {},
   "outputs": [],
   "source": [
    "def ranges(nums):\n",
    "    nums = sorted(set(nums))\n",
    "    gaps = [[s, e] for s, e in zip(nums, nums[1:]) if s+1 < e]\n",
    "    edges = iter(nums[:1] + sum(gaps, []) + nums[-1:])\n",
    "    sequences = list(zip(edges, edges))\n",
    "    consecutives = [sequence[-1] - sequence[0] + 1.0 for sequence in sequences]\n",
    "    return gs.array(consecutives)"
   ]
  },
  {
   "cell_type": "code",
   "execution_count": 6,
   "metadata": {},
   "outputs": [
    {
     "name": "stderr",
     "output_type": "stream",
     "text": [
      "100%|█████████▉| 472/474 [33:51<00:15,  7.51s/it]  "
     ]
    }
   ],
   "source": [
    "passages, directions, dates, durations = [], [], [], []\n",
    "\n",
    "jam_count = dict.fromkeys([key[0] + key[1] for key in roads], 0)\n",
    "\n",
    "LENGTH = len(roads)\n",
    "\n",
    "pbar = tqdm(total=LENGTH)\n",
    "\n",
    "for point in roads:\n",
    "    pbar.update(n=1)\n",
    "    passage, direction = point\n",
    "    dataframe = ds.loc[(ds[\"passage\"] == passage) & (ds[\"direction\"] == direction)]\n",
    "    for date in dataframe[\"date\"].unique():\n",
    "        times = 2.0 * gs.array(list(dataframe.loc[dataframe[\"date\"] == date][\"time\"]))\n",
    "        jam_count[passage + direction] += len(times)\n",
    "        congestion_times = .5 * ranges(times)\n",
    "        for duration in congestion_times:\n",
    "            try:\n",
    "                passages.append(passage)\n",
    "                directions.append(direction)\n",
    "                dates.append(date)\n",
    "                durations.append(duration)\n",
    "            except:\n",
    "                continue"
   ]
  },
  {
   "cell_type": "code",
   "execution_count": 7,
   "metadata": {},
   "outputs": [
    {
     "data": {
      "text/html": [
       "<div>\n",
       "<style scoped>\n",
       "    .dataframe tbody tr th:only-of-type {\n",
       "        vertical-align: middle;\n",
       "    }\n",
       "\n",
       "    .dataframe tbody tr th {\n",
       "        vertical-align: top;\n",
       "    }\n",
       "\n",
       "    .dataframe thead th {\n",
       "        text-align: right;\n",
       "    }\n",
       "</style>\n",
       "<table border=\"1\" class=\"dataframe\">\n",
       "  <thead>\n",
       "    <tr style=\"text-align: right;\">\n",
       "      <th></th>\n",
       "      <th>passage</th>\n",
       "      <th>direction</th>\n",
       "      <th>date</th>\n",
       "      <th>duration</th>\n",
       "    </tr>\n",
       "  </thead>\n",
       "  <tbody>\n",
       "    <tr>\n",
       "      <th>0</th>\n",
       "      <td>Abraão Ribeiro, Av Dr (F)</td>\n",
       "      <td>Bairro/Centro</td>\n",
       "      <td>2005-01-12</td>\n",
       "      <td>tensor(1.)</td>\n",
       "    </tr>\n",
       "    <tr>\n",
       "      <th>1</th>\n",
       "      <td>Abraão Ribeiro, Av Dr (F)</td>\n",
       "      <td>Bairro/Centro</td>\n",
       "      <td>2005-01-20</td>\n",
       "      <td>tensor(1.5000)</td>\n",
       "    </tr>\n",
       "    <tr>\n",
       "      <th>2</th>\n",
       "      <td>Abraão Ribeiro, Av Dr (F)</td>\n",
       "      <td>Bairro/Centro</td>\n",
       "      <td>2005-01-21</td>\n",
       "      <td>tensor(1.5000)</td>\n",
       "    </tr>\n",
       "    <tr>\n",
       "      <th>3</th>\n",
       "      <td>Abraão Ribeiro, Av Dr (F)</td>\n",
       "      <td>Bairro/Centro</td>\n",
       "      <td>2005-02-24</td>\n",
       "      <td>tensor(4.5000)</td>\n",
       "    </tr>\n",
       "    <tr>\n",
       "      <th>4</th>\n",
       "      <td>Abraão Ribeiro, Av Dr (F)</td>\n",
       "      <td>Bairro/Centro</td>\n",
       "      <td>2005-02-28</td>\n",
       "      <td>tensor(2.)</td>\n",
       "    </tr>\n",
       "    <tr>\n",
       "      <th>...</th>\n",
       "      <td>...</td>\n",
       "      <td>...</td>\n",
       "      <td>...</td>\n",
       "      <td>...</td>\n",
       "    </tr>\n",
       "    <tr>\n",
       "      <th>650519</th>\n",
       "      <td>Xangai, Vd</td>\n",
       "      <td>unico//</td>\n",
       "      <td>2004-01-16</td>\n",
       "      <td>tensor(3.5000)</td>\n",
       "    </tr>\n",
       "    <tr>\n",
       "      <th>650520</th>\n",
       "      <td>Xangai, Vd</td>\n",
       "      <td>unico//</td>\n",
       "      <td>2004-03-24</td>\n",
       "      <td>tensor(4.)</td>\n",
       "    </tr>\n",
       "    <tr>\n",
       "      <th>650521</th>\n",
       "      <td>Xangai, Vd</td>\n",
       "      <td>unico//</td>\n",
       "      <td>2004-03-26</td>\n",
       "      <td>tensor(2.)</td>\n",
       "    </tr>\n",
       "    <tr>\n",
       "      <th>650522</th>\n",
       "      <td>Xangai, Vd</td>\n",
       "      <td>unico//</td>\n",
       "      <td>2004-04-29</td>\n",
       "      <td>tensor(4.)</td>\n",
       "    </tr>\n",
       "    <tr>\n",
       "      <th>650523</th>\n",
       "      <td>Xangai, Vd</td>\n",
       "      <td>unico//</td>\n",
       "      <td>2004-06-01</td>\n",
       "      <td>tensor(3.)</td>\n",
       "    </tr>\n",
       "  </tbody>\n",
       "</table>\n",
       "<p>650524 rows × 4 columns</p>\n",
       "</div>"
      ],
      "text/plain": [
       "                                         passage  \\\n",
       "0       Abraão Ribeiro, Av Dr (F)                  \n",
       "1       Abraão Ribeiro, Av Dr (F)                  \n",
       "2       Abraão Ribeiro, Av Dr (F)                  \n",
       "3       Abraão Ribeiro, Av Dr (F)                  \n",
       "4       Abraão Ribeiro, Av Dr (F)                  \n",
       "...                                          ...   \n",
       "650519  Xangai, Vd                                 \n",
       "650520  Xangai, Vd                                 \n",
       "650521  Xangai, Vd                                 \n",
       "650522  Xangai, Vd                                 \n",
       "650523  Xangai, Vd                                 \n",
       "\n",
       "                                       direction        date        duration  \n",
       "0       Bairro/Centro                             2005-01-12      tensor(1.)  \n",
       "1       Bairro/Centro                             2005-01-20  tensor(1.5000)  \n",
       "2       Bairro/Centro                             2005-01-21  tensor(1.5000)  \n",
       "3       Bairro/Centro                             2005-02-24  tensor(4.5000)  \n",
       "4       Bairro/Centro                             2005-02-28      tensor(2.)  \n",
       "...                                          ...         ...             ...  \n",
       "650519  unico//                                   2004-01-16  tensor(3.5000)  \n",
       "650520  unico//                                   2004-03-24      tensor(4.)  \n",
       "650521  unico//                                   2004-03-26      tensor(2.)  \n",
       "650522  unico//                                   2004-04-29      tensor(4.)  \n",
       "650523  unico//                                   2004-06-01      tensor(3.)  \n",
       "\n",
       "[650524 rows x 4 columns]"
      ]
     },
     "execution_count": 7,
     "metadata": {},
     "output_type": "execute_result"
    }
   ],
   "source": [
    "dict = {\"passage\": passages, \"direction\": directions, \"date\": dates, \"duration\": durations}\n",
    "df = pd.DataFrame.from_dict(dict)\n",
    "df"
   ]
  },
  {
   "cell_type": "markdown",
   "metadata": {},
   "source": [
    "We hardwrite the table so as not to run the same operations every time :)."
   ]
  },
  {
   "cell_type": "code",
   "execution_count": 8,
   "metadata": {},
   "outputs": [],
   "source": [
    "df.to_csv(\"clean_table\")"
   ]
  },
  {
   "cell_type": "code",
   "execution_count": 12,
   "metadata": {},
   "outputs": [
    {
     "data": {
      "text/html": [
       "<div>\n",
       "<style scoped>\n",
       "    .dataframe tbody tr th:only-of-type {\n",
       "        vertical-align: middle;\n",
       "    }\n",
       "\n",
       "    .dataframe tbody tr th {\n",
       "        vertical-align: top;\n",
       "    }\n",
       "\n",
       "    .dataframe thead th {\n",
       "        text-align: right;\n",
       "    }\n",
       "</style>\n",
       "<table border=\"1\" class=\"dataframe\">\n",
       "  <thead>\n",
       "    <tr style=\"text-align: right;\">\n",
       "      <th></th>\n",
       "      <th>Unnamed: 0</th>\n",
       "      <th>passage</th>\n",
       "      <th>direction</th>\n",
       "      <th>date</th>\n",
       "      <th>duration</th>\n",
       "    </tr>\n",
       "  </thead>\n",
       "  <tbody>\n",
       "    <tr>\n",
       "      <th>0</th>\n",
       "      <td>0</td>\n",
       "      <td>Abraão Ribeiro, Av Dr (F)</td>\n",
       "      <td>Bairro/Centro</td>\n",
       "      <td>2005-01-12</td>\n",
       "      <td>1.0</td>\n",
       "    </tr>\n",
       "    <tr>\n",
       "      <th>1</th>\n",
       "      <td>1</td>\n",
       "      <td>Abraão Ribeiro, Av Dr (F)</td>\n",
       "      <td>Bairro/Centro</td>\n",
       "      <td>2005-01-20</td>\n",
       "      <td>1.5</td>\n",
       "    </tr>\n",
       "    <tr>\n",
       "      <th>2</th>\n",
       "      <td>2</td>\n",
       "      <td>Abraão Ribeiro, Av Dr (F)</td>\n",
       "      <td>Bairro/Centro</td>\n",
       "      <td>2005-01-21</td>\n",
       "      <td>1.5</td>\n",
       "    </tr>\n",
       "    <tr>\n",
       "      <th>3</th>\n",
       "      <td>3</td>\n",
       "      <td>Abraão Ribeiro, Av Dr (F)</td>\n",
       "      <td>Bairro/Centro</td>\n",
       "      <td>2005-02-24</td>\n",
       "      <td>4.5</td>\n",
       "    </tr>\n",
       "    <tr>\n",
       "      <th>4</th>\n",
       "      <td>4</td>\n",
       "      <td>Abraão Ribeiro, Av Dr (F)</td>\n",
       "      <td>Bairro/Centro</td>\n",
       "      <td>2005-02-28</td>\n",
       "      <td>2.0</td>\n",
       "    </tr>\n",
       "    <tr>\n",
       "      <th>...</th>\n",
       "      <td>...</td>\n",
       "      <td>...</td>\n",
       "      <td>...</td>\n",
       "      <td>...</td>\n",
       "      <td>...</td>\n",
       "    </tr>\n",
       "    <tr>\n",
       "      <th>650519</th>\n",
       "      <td>650519</td>\n",
       "      <td>Xangai, Vd</td>\n",
       "      <td>unico//</td>\n",
       "      <td>2004-01-16</td>\n",
       "      <td>3.5</td>\n",
       "    </tr>\n",
       "    <tr>\n",
       "      <th>650520</th>\n",
       "      <td>650520</td>\n",
       "      <td>Xangai, Vd</td>\n",
       "      <td>unico//</td>\n",
       "      <td>2004-03-24</td>\n",
       "      <td>4.0</td>\n",
       "    </tr>\n",
       "    <tr>\n",
       "      <th>650521</th>\n",
       "      <td>650521</td>\n",
       "      <td>Xangai, Vd</td>\n",
       "      <td>unico//</td>\n",
       "      <td>2004-03-26</td>\n",
       "      <td>2.0</td>\n",
       "    </tr>\n",
       "    <tr>\n",
       "      <th>650522</th>\n",
       "      <td>650522</td>\n",
       "      <td>Xangai, Vd</td>\n",
       "      <td>unico//</td>\n",
       "      <td>2004-04-29</td>\n",
       "      <td>4.0</td>\n",
       "    </tr>\n",
       "    <tr>\n",
       "      <th>650523</th>\n",
       "      <td>650523</td>\n",
       "      <td>Xangai, Vd</td>\n",
       "      <td>unico//</td>\n",
       "      <td>2004-06-01</td>\n",
       "      <td>3.0</td>\n",
       "    </tr>\n",
       "  </tbody>\n",
       "</table>\n",
       "<p>650524 rows × 5 columns</p>\n",
       "</div>"
      ],
      "text/plain": [
       "        Unnamed: 0                                   passage  \\\n",
       "0                0  Abraão Ribeiro, Av Dr (F)                  \n",
       "1                1  Abraão Ribeiro, Av Dr (F)                  \n",
       "2                2  Abraão Ribeiro, Av Dr (F)                  \n",
       "3                3  Abraão Ribeiro, Av Dr (F)                  \n",
       "4                4  Abraão Ribeiro, Av Dr (F)                  \n",
       "...            ...                                       ...   \n",
       "650519      650519  Xangai, Vd                                 \n",
       "650520      650520  Xangai, Vd                                 \n",
       "650521      650521  Xangai, Vd                                 \n",
       "650522      650522  Xangai, Vd                                 \n",
       "650523      650523  Xangai, Vd                                 \n",
       "\n",
       "                                       direction        date  duration  \n",
       "0       Bairro/Centro                             2005-01-12       1.0  \n",
       "1       Bairro/Centro                             2005-01-20       1.5  \n",
       "2       Bairro/Centro                             2005-01-21       1.5  \n",
       "3       Bairro/Centro                             2005-02-24       4.5  \n",
       "4       Bairro/Centro                             2005-02-28       2.0  \n",
       "...                                          ...         ...       ...  \n",
       "650519  unico//                                   2004-01-16       3.5  \n",
       "650520  unico//                                   2004-03-24       4.0  \n",
       "650521  unico//                                   2004-03-26       2.0  \n",
       "650522  unico//                                   2004-04-29       4.0  \n",
       "650523  unico//                                   2004-06-01       3.0  \n",
       "\n",
       "[650524 rows x 5 columns]"
      ]
     },
     "execution_count": 12,
     "metadata": {},
     "output_type": "execute_result"
    }
   ],
   "source": [
    "df_test = pd.read_csv(\"clean_table\")\n",
    "df_test"
   ]
  },
  {
   "cell_type": "markdown",
   "metadata": {},
   "source": [
    "Likewise, we hardwrite __jam_count__."
   ]
  },
  {
   "cell_type": "code",
   "execution_count": 9,
   "metadata": {},
   "outputs": [
    {
     "data": {
      "text/plain": [
       "{'Abraão Ribeiro, Av Dr (F)               Bairro/Centro                           ': 751,\n",
       " 'Abraão Ribeiro, Av Dr (F)               Centro/Bairro                           ': 110,\n",
       " 'Abraão de Morais, Av Prof/Imig          Santos/São Paulo                        ': 8627,\n",
       " 'Abraão de Morais, Av Prof/Imig          São Paulo/Santos                        ': 4095,\n",
       " 'Abraão de Morais, Av Prof/Imigrantes (F)Santos/São Paulo                        ': 1667,\n",
       " 'Abraão de Morais, Av Prof/Imigrantes (F)São Paulo/Santos                        ': 441,\n",
       " 'Adolfo Pinheiro e Lgo 13/05             Bairro/Centro                           ': 1376,\n",
       " 'Adolfo Pinheiro e Lgo 13/05             Centro/Bairro                           ': 2519,\n",
       " 'Aliomar Baleeiro, Vd Min                Anchieta/Imigrantes                     ': 24065,\n",
       " 'Aliomar Baleeiro, Vd Min                Imigrantes/Anchieta                     ': 19661,\n",
       " 'Aliomar Baleeiro, Vd Min (F)            Anchieta/Imigrantes                     ': 3,\n",
       " 'Alvarenga, R                            único//                                 ': 8415,\n",
       " 'Amaro, Al  Sto                          único//                                 ': 3576,\n",
       " 'Amaro, Av  Sto  (F)                     Bairro/Centro                           ': 4189,\n",
       " 'Amaro, Av  Sto  (F)                     Centro/Bairro                           ': 1507,\n",
       " 'Amaro, Av Sto (Pavao/Nebraska) (F)      Bairro/Centro                           ': 406,\n",
       " 'Amaro, Av Sto (Pavao/Nebraska) (F)      Centro/Bairro                           ': 156,\n",
       " 'Amaro, Av Sto - DEC SA (F)              Bairro/Centro                           ': 47,\n",
       " 'Amaro, Av Sto - DEC SA (F)              Centro/Bairro                           ': 25,\n",
       " 'Amaro, Av Sto DEC IB                    Bairro/Centro                           ': 11859,\n",
       " 'Amaro, Av Sto DEC IB                    Centro/Bairro                           ': 7320,\n",
       " 'Amaro, Av Sto DEC SA                    Bairro/Centro                           ': 6119,\n",
       " 'Amaro, Av Sto DEC SA                    Centro/Bairro                           ': 4326,\n",
       " 'Anchieta, Via                           Santos/São Paulo                        ': 5192,\n",
       " 'Anchieta, Via                           São Paulo/Santos                        ': 7658,\n",
       " 'Angélica, Av                            Bairro/Centro                           ': 117,\n",
       " 'Angélica, Av                            Centro/Bairro                           ': 122,\n",
       " 'Angélica, Av (F)                        Centro/Bairro                           ': 15,\n",
       " 'Antonio Nakashima, Vd                   único//                                 ': 6821,\n",
       " 'Antártica, Vd                           Limão/Sumaré                            ': 5945,\n",
       " 'Antártica, Vd                           Sumaré/Limão                            ': 5289,\n",
       " 'Antônio Joaquim de Moura Andrade, Av    Ibirapuera/Marginal                     ': 53525,\n",
       " 'Antônio Joaquim de Moura Andrade, Av    Marginal/Ibirapuera                     ': 9750,\n",
       " 'Arcoverde, R Card                       //unico                                 ': 1440,\n",
       " 'Arcoverde, R Cardeal (F)                único//                                 ': 6130,\n",
       " 'Aricanduva, Av/Elev/Pt                  Itaquera/Marginal                       ': 33897,\n",
       " 'Aricanduva, Av/Elev/Pt                  Marginal/Itaquera                       ': 23725,\n",
       " 'Aricanduva/Elevado/Ponte( F)            Itaquera/Marginal                       ': 10171,\n",
       " 'Aricanduva/Elevado/Ponte( F)            Marginal/Itaquera                       ': 5149,\n",
       " 'Arnaldo,  Av Dr                         Consolação/Sumare                       ': 10944,\n",
       " 'Arnaldo,  Av Dr                         Sumare/Consolação                       ': 39791,\n",
       " 'Arthur da Costa e Silva, Elev Pres      Lapa/Penha                              ': 25026,\n",
       " 'Arthur da Costa e Silva, Elev Pres      Penha/Lapa                              ': 15815,\n",
       " 'Ary Torres, Eng. Pte                    único//                                 ': 17734,\n",
       " 'Asc.Reis/R.Berta(Local)                 Bairro/Centro                           ': 12058,\n",
       " 'Asc.Reis/R.Berta(Local)                 Centro/Bairro                           ': 4275,\n",
       " 'Ataliba Leonel, Av. Gal.                Bairro/Centro                           ': 439,\n",
       " 'Ataliba Leonel, Av. Gal.                Centro/Bairro                           ': 451,\n",
       " 'Atilio Fontana, Pte                     Capital/Interior                        ': 385,\n",
       " 'Atilio Fontana, Pte                     Interior/Capital                        ': 25147,\n",
       " 'Atlantica, AV                           Bairro/Centro                           ': 3168,\n",
       " 'Atlantica, AV                           Centro/Bairro                           ': 112,\n",
       " 'Ayrton Senna I, Tn (NÃO USAR)           Centro/Bairro                           ': 18,\n",
       " 'Ayrton Senna I, Túnel                   unico//                                 ': 41970,\n",
       " 'Ayrton Senna II,  Túnel                 unico//                                 ': 17741,\n",
       " 'Bandeirantes, Av dos                    Imigrantes/Marginal                     ': 90101,\n",
       " 'Bandeirantes, Av dos                    Marginal/Imigrantes                     ': 70245,\n",
       " 'Bento, Lgo São                          //unico                                 ': 71,\n",
       " 'Bernardino/Verg/Noe/Domingos/Jabaquara  Bairro/Centro                           ': 16953,\n",
       " 'Bernardino/Verg/Noe/Domingos/Jabaquara  Centro/Bairro                           ': 2828,\n",
       " 'Bernardo Goldfarb, Pte                  Bairro/Centro                           ': 4860,\n",
       " 'Bernardo Goldfarb, Pte                  Centro/Bairro                           ': 629,\n",
       " 'Brasil, Av                              Ibirapuera/Pinheiros                    ': 1778,\n",
       " 'Brasil, Av                              Pinheiros/Ibirapuera                    ': 3497,\n",
       " 'Brás Leme, Av / Pte Casa Verde          Bairro/Centro                           ': 13141,\n",
       " 'Brás Leme, Av / Pte Casa Verde          Centro/Bairro                           ': 1934,\n",
       " 'Butantã, R                              //unico                                 ': 1390,\n",
       " 'Butantã, R  (F)                         unico//                                 ': 11227,\n",
       " 'CJardim/Europa, Av/Colômbia, R (F)      Bairro/Centro                           ': 15,\n",
       " 'Caetano Alvares, Av. Eng.               Bairro/Centro                           ': 161,\n",
       " 'Caetano Alvares, Av. Eng.               Centro/Bairro                           ': 385,\n",
       " 'Camargo, R                              único//                                 ': 7580,\n",
       " 'Carlos Caldeira Filho, Av               Bairro/Centro                           ': 5896,\n",
       " 'Carlos Caldeira Filho, Av               Centro/Bairro                           ': 1390,\n",
       " 'Carrão,  Av Cons   (F)                  Bairro/Centro                           ': 1768,\n",
       " 'Carrão,  Av Cons   (F)                  Centro/Bairro                           ': 210,\n",
       " 'Carrão, Av Cons                         Bairro/Centro                           ': 937,\n",
       " 'Carrão, Av Cons                         Centro/Bairro                           ': 376,\n",
       " 'Casa Verde, Pte e Av Bras Leme (F)      Bairro/Centro                           ': 3604,\n",
       " 'Casa Verde, Pte e Av Bras Leme (F)      Centro/Bairro                           ': 985,\n",
       " 'Catiguá, R / Melo Peixoto, R (F)        Bairro/Centro                           ': 5066,\n",
       " 'Catiguá, R / Melo Peixoto, R (F)        Centro/Bairro                           ': 44,\n",
       " 'Celso Garcia, Av                        Bairro/Centro                           ': 659,\n",
       " 'Celso Garcia, Av                        Centro/Bairro                           ': 2751,\n",
       " 'Chucri Zaidan, Av Dr                    Bandeirantes/Morumbi                    ': 8335,\n",
       " 'Chucri Zaidan, Av Dr                    Morumbi/Bandeirantes                    ': 1321,\n",
       " 'Chucri Zaidan, Av Dr  (F)               Bandeirantes/Morumbi                    ': 2347,\n",
       " 'Chucri Zaidan, Av Dr  (F)               Morumbi/Bandeirantes                    ': 1733,\n",
       " 'Cidade Jardim / Europa / Colômbia       Bairro/Centro                           ': 40224,\n",
       " 'Cidade Jardim / Europa / Colômbia       Centro/Bairro                           ': 26585,\n",
       " 'Cidade Universitária, Pt                PanAmericana/USP                        ': 17368,\n",
       " 'Cidade Universitária, Pt                USP/PanAmericana                        ': 647,\n",
       " 'Cidade Universitária, Pte (F)           PanAmericana/USP                        ': 6914,\n",
       " 'Cidade Universitária, Pte (F)           USP/PanAmericana                        ': 461,\n",
       " 'Clelia, R (F)                           único//                                 ': 1018,\n",
       " 'Clélia, R                               //unico                                 ': 2286,\n",
       " 'Consolação, R da                        Bairro/Centro                           ': 24181,\n",
       " 'Consolação, R da                        Centro/Bairro                           ': 17647,\n",
       " 'Consolação, R da   (F)                  Bairro/Centro                           ': 12105,\n",
       " 'Consolação, R da   (F)                  Centro/Bairro                           ': 14105,\n",
       " 'Copa-Afonso de S. Souza/Harry DannembergAricanduva/Itaquera                     ': 7,\n",
       " 'Copa-Aguia de Haia                      A Alvim/S Miguel                        ': 80,\n",
       " 'Copa-Aguia de Haia                      S Miguel/A Alvim                        ': 18,\n",
       " 'Copa-Aguia de Haia (F)                  S Miguel/A Alvim                        ': 14,\n",
       " 'Copa-Campanella                         Bairro/Centro                           ': 144,\n",
       " 'Copa-Campanella                         Centro/Bairro                           ': 150,\n",
       " 'Copa-Itaquera/Lider                     Itaquera/Vila Formosa                   ': 26,\n",
       " 'Copa-Itaquera/Lider                     Vila Formosa/Itaquera                   ': 63,\n",
       " 'Copa-Jacu Pessêgo-N. Trabalhadores      A Senna/Maua                            ': 9,\n",
       " 'Copa-Jacu Pessêgo-N. Trabalhadores      Maua/A Senna                            ': 46,\n",
       " 'Copa-Luiz Ayres                         Bairro/Centro                           ': 2,\n",
       " 'Copa-Luiz Ayres                         Centro/Bairro                           ': 72,\n",
       " 'Copa-Pires do Rio                       Bairro/Centro                           ': 110,\n",
       " 'Copa-Pires do Rio                       Centro/Bairro                           ': 71,\n",
       " 'Corifeu de A Marques, Av                Bairro/Centro                           ': 3968,\n",
       " 'Corifeu de A Marques, Av                Centro/Bairro                           ': 681,\n",
       " 'Corifeu de Azevedo Marques, Av  (F)     Bairro/Centro                           ': 383,\n",
       " 'Corifeu de Azevedo Marques, Av  (F)     Centro/Bairro                           ': 21,\n",
       " 'Cruzeiro do Sul, Pt e Av                Ipiranga/Santana                        ': 7073,\n",
       " 'Cruzeiro do Sul, Pt e Av                Santana/Ipiranga                        ': 21176,\n",
       " 'Cruzeiro do Sul, Pte e Av  (F)          Ipiranga/Santana                        ': 2298,\n",
       " 'Cruzeiro do Sul, Pte e Av  (F)          Santana/Ipiranga                        ': 2821,\n",
       " 'Dianópolis, Av                          //unico                                 ': 1534,\n",
       " 'Dianópolis, Av  (F)                     unico//                                 ': 937,\n",
       " 'Diário Popular, Vd                      único//                                 ': 696,\n",
       " 'Dom Pedro (Av Exterior) Pq              //unico                                 ': 120,\n",
       " 'Dom Pedro (Av do Exterior), Parque (F)  unico//                                 ': 240,\n",
       " 'Edgar Facó, Av.                         Bairro/Centro                           ': 6223,\n",
       " 'Edgar Facó, Av.                         Centro/Bairro                           ': 734,\n",
       " 'Eliseu de Almeida, Av                   Bairro/Centro                           ': 3818,\n",
       " 'Eliseu de Almeida, Av                   Centro/Bairro                           ': 262,\n",
       " 'Ermano Marchetti, Av                    Barra Funda/Lapa                        ': 2706,\n",
       " 'Ermano Marchetti, Av                    Lapa/Barra Funda                        ': 2590,\n",
       " 'Escola Politécnica, Av                  Bairro/Centro                           ': 4627,\n",
       " 'Escola Politécnica, Av                  Centro/Bairro                           ': 197,\n",
       " 'Estado, Av do - DEC CT                  Ipiranga/Santana                        ': 70251,\n",
       " 'Estado, Av do - DEC CT                  Santana/Ipiranga                        ': 54409,\n",
       " 'Estado, Av do - DEC VILA PRUDENTE       Ipiranga/Santana                        ': 32549,\n",
       " 'Estado, Av do - DEC VILA PRUDENTE       Santana/Ipiranga                        ': 23694,\n",
       " 'Estela, R                               unico//                                 ': 188,\n",
       " 'Eusébio M/Francisco Morato, Av Prof     Bairro/Centro                           ': 41911,\n",
       " 'Eusébio M/Francisco Morato, Av Prof     Centro/Bairro                           ': 18234,\n",
       " 'Eusébio Stevaux, Vd                     único//                                 ': 7291,\n",
       " 'F1 - Jacinto Júlio, Av                  Bairro/Centro                           ': 8,\n",
       " 'F1 - Jacinto Júlio, Av                  Centro/Bairro                           ': 15,\n",
       " 'F1 - Jangadeiro, Av                     Bairro/Centro                           ': 63,\n",
       " 'F1 - Jangadeiro, Av                     Centro/Bairro                           ': 15,\n",
       " 'F1 - João Paulo da Silva, Av            Bairro/Centro                           ': 15,\n",
       " 'F1 - Miguel Yunes/Pte Vitorino Goulart  Interlagos/Marginal                     ': 6,\n",
       " 'F1 - Papini, Av Prof                    Centro/Bairro                           ': 42,\n",
       " 'F1 - Rio Bonito, Av                     Bairro/Centro                           ': 8,\n",
       " 'F1 - Rio Bonito, Av                     Centro/Bairro                           ': 13,\n",
       " 'F1 - Rubens Montanaro de Borba, Av      Bairro/Centro                           ': 13,\n",
       " 'F1 - Teotonio Vilela, Av Sen            Bairro/Centro                           ': 67,\n",
       " 'F1 - Teotonio Vilela, Av Sen            Centro/Bairro                           ': 24,\n",
       " 'Faria Lima,  Av Brig                    Itaim/Pinheiros                         ': 22466,\n",
       " 'Faria Lima,  Av Brig                    Pinheiros/Itaim                         ': 36145,\n",
       " 'Fernando Vieira de Mello Túnel(Reboucas)Bairro/Centro                           ': 43101,\n",
       " 'Fernando Vieira de Mello Túnel(Reboucas)Centro/Bairro                           ': 45319,\n",
       " 'Ferradura                               unico//                                 ': 3468,\n",
       " 'Figueira, R da                          unico//                                 ': 4390,\n",
       " 'Francisco Matarazzo, Av                 Bairro/Centro                           ': 6990,\n",
       " 'Francisco Matarazzo, Av                 Centro/Bairro                           ': 7460,\n",
       " 'Francisco Matarazzo, Av  (F)            Bairro/Centro                           ': 11938,\n",
       " 'Francisco Matarazzo, Av  (F)            Centro/Bairro                           ': 14184,\n",
       " 'Francisco Mesquita, Av Dr               S. Caetano/Sao Paulo                    ': 11662,\n",
       " 'Francisco Mesquita, Av Dr               Sao Paulo/S. Caetano                    ': 666,\n",
       " 'Francisco Morato, Av Prof               Bairro/Centro                           ': 12037,\n",
       " 'Francisco Morato, Av Prof               Centro/Bairro                           ': 5549,\n",
       " 'Frederico Eduardo Mayr, Vd              unico//                                 ': 2508,\n",
       " 'Freguesia, Pte                          Freguesia/Lapa                          ': 3825,\n",
       " 'Freguesia, Pte                          Lapa/Freguesia                          ': 1240,\n",
       " 'Freguesia/Com Martinelli, Pte  (F)      Freguesia/Lapa                          ': 1706,\n",
       " 'Freguesia/Com Martinelli, Pte  (F)      Lapa/Freguesia                          ': 308,\n",
       " 'Gabriel,  Av São (F)                    Bairro/Centro                           ': 424,\n",
       " 'Gabriel,  Av São (F)                    Centro/Bairro                           ': 1172,\n",
       " 'Gabriel, Av São                         Bairro/Centro                           ': 344,\n",
       " 'Gabriel, Av São                         Centro/Bairro                           ': 2060,\n",
       " 'Gastão Vidigal, Av Dr                   Marginal/Pinheiros                      ': 3173,\n",
       " 'Gastão Vidigal, Av Dr                   Pinheiros/Marginal                      ': 2331,\n",
       " 'Gastão Vidigal, Av Dr (F)               Lapa/Pinheiros                          ': 751,\n",
       " 'Gastão Vidigal, Av Dr (F)               Pinheiros/Lapa                          ': 556,\n",
       " 'Gasômetro, R e Vd                       único//                                 ': 7139,\n",
       " 'Gazeta do Ipiranga, Vd                  unico//                                 ': 1299,\n",
       " 'Grande Sao Paulo, Vd                    Ipiranga/Vila Prudente                  ': 22701,\n",
       " 'Grande Sao Paulo, Vd                    Vila Prudente/Ipiranga                  ': 14293,\n",
       " 'Groenlandia, R                          unico//                                 ': 18523,\n",
       " 'Guadalajara, Vd                         Belem/Mooca                             ': 181,\n",
       " 'Guadalajara, Vd                         Mooca/Belem                             ': 80,\n",
       " 'Guaicurus, R                            //unico                                 ': 725,\n",
       " 'Guaicurus, R (F)                        unico//                                 ': 515,\n",
       " 'Guarapiranga, Av                        Bairro/Centro                           ': 4935,\n",
       " 'Guarapiranga, Av                        Centro/Bairro                           ': 4694,\n",
       " 'Guido Caloi, Av                         Bairro/Centro                           ': 1691,\n",
       " 'Guido Caloi, Av                         Centro/Bairro                           ': 1943,\n",
       " 'Guilherme Dumont Vilares, Av Dr         Campo Limpo/Morato                      ': 76,\n",
       " 'Guilherme Dumont Vilares, Av Dr         Morato/Campo Limpo                      ': 39,\n",
       " 'Heitor Penteado, R                      Bairro/Centro                           ': 1415,\n",
       " 'Heitor Penteado, R                      Centro/Bairro                           ': 1220,\n",
       " 'Ibirapuera, Av                          Bairro/Centro                           ': 11083,\n",
       " 'Ibirapuera, Av                          Centro/Bairro                           ': 27813,\n",
       " 'Ibirapuera, Av  (F)                     Bairro/Centro                           ': 14869,\n",
       " 'Ibirapuera, Av  (F)                     Centro/Bairro                           ': 19731,\n",
       " 'Ibitirama, R                            unico//                                 ': 669,\n",
       " 'Iguatemi, R                             //unico                                 ': 1365,\n",
       " 'Iguatemi, R  (F)                        único//                                 ': 1459,\n",
       " 'Inajar de Souza, Av                     Freguesia/Lapa                          ': 4680,\n",
       " 'Inajar de Souza, Av                     Lapa/Freguesia                          ': 131,\n",
       " 'Inajar de Souza, Av (F)                 Freguesia/Lapa                          ': 205,\n",
       " 'Interlagos, Av  I                       Bairro/Centro                           ': 13799,\n",
       " 'Interlagos, Av  I                       Centro/Bairro                           ': 5625,\n",
       " 'Ipiranga, Av                            unico//                                 ': 6556,\n",
       " 'Itapecerica, Est de                     Bairro/Centro                           ': 6493,\n",
       " 'Itapecerica, Est de                     Centro/Bairro                           ': 691,\n",
       " 'Itapecirica, Est de  (F)                Bairro/Centro                           ': 1462,\n",
       " 'Itapecirica, Est de  (F)                Centro/Bairro                           ': 418,\n",
       " 'Itápolis, R                             //unico                                 ': 30,\n",
       " 'Jacinto Júlio, Av                       Bairro/Centro                           ': 4,\n",
       " 'Jaguare, Av                             Bairro/Centro                           ': 2341,\n",
       " 'Jaguare, Av                             Centro/Bairro                           ': 1277,\n",
       " 'Jaguaré, Pte                            Jaguaré/Lapa                            ': 1284,\n",
       " 'Jaguaré, Pte                            Lapa/Jaguaré                            ': 2890,\n",
       " 'Jangadeiro, Av                          Bairro/Centro                           ': 6,\n",
       " 'Jangadeiro, Av                          Centro/Bairro                           ': 45,\n",
       " 'Jose Colassuono, Vd                     unico//                                 ': 12930,\n",
       " 'Jose Felix, R                           Campo Limpo/Morato                      ': 23,\n",
       " 'Jose Felix, R                           Morato/Campo Limpo                      ': 6,\n",
       " 'José Diniz,  Av Ver  (F)                Bairro/Centro                           ': 4799,\n",
       " 'José Diniz,  Av Ver  (F)                Centro/Bairro                           ': 9493,\n",
       " 'José Diniz, Av Ver                      Bairro/Centro                           ': 18096,\n",
       " 'José Diniz, Av Ver                      Centro/Bairro                           ': 18050,\n",
       " 'José Garzotti, Av. Pe                   Teotônio/Batista Botelho                ': 1,\n",
       " 'José Maria,  Av Pe                      Bairro/Centro                           ': 704,\n",
       " 'José Maria,  Av Pe                      Centro/Bairro                           ': 80,\n",
       " 'João De Luca, Ver                       Diadema/Marginal                        ': 615,\n",
       " 'João De Luca, Ver                       Marginal/Diadema                        ': 321,\n",
       " 'João Dias, Av                           Bairro/Centro                           ': 17153,\n",
       " 'João Dias, Av                           Centro/Bairro                           ': 16214,\n",
       " 'João Dias, Av (F)                       Bairro/Centro                           ': 6903,\n",
       " 'João Dias, Av (F)                       Centro/Bairro                           ': 5785,\n",
       " 'João Goulart, Elev Pres                 Lapa/Penha                              ': 901,\n",
       " 'João Goulart, Elev Pres                 Penha/Lapa                              ': 373,\n",
       " 'João Jorge Saad,Vd (Cebolinha)          Centro/Bairro                           ': 1989,\n",
       " 'João Mendes, Pça                        //unico                                 ': 4034,\n",
       " 'João Paulo da Silva, Av                 Bairro/Centro                           ': 12,\n",
       " 'João Paulo da Silva, Av                 Centro/Bairro                           ': 3,\n",
       " 'João, Av São                            único//                                 ': 791,\n",
       " 'Julio de Mesquita, Pte                  Lapa/Piqueri                            ': 111,\n",
       " 'Julio de Mesquita, Pte                  Limão/Pompéia                           ': 2886,\n",
       " 'Julio de Mesquita, Pte                  Piqueri/Lapa                            ': 336,\n",
       " 'Julio de Mesquita, Pte                  Pompéia/Limão                           ': 160,\n",
       " 'Juntas Provisórias, R das               Ipiranga/Vila Prudente                  ': 18831,\n",
       " 'Juntas Provisórias, R das               Vila Prudente/Ipiranga                  ': 10369,\n",
       " 'Juscelino Kubitschek, Av Pres           Ibirapuera/Pinheiros                    ': 49727,\n",
       " 'Juscelino Kubitschek, Av Pres           Pinheiros/Ibirapuera                    ': 53224,\n",
       " 'Jânio Quadros, Pres. Pte (Vila Maria)   Bairro/Centro                           ': 693,\n",
       " 'Jânio Quadros, Pres. Pte (Vila Maria)   Centro/Bairro                           ': 300,\n",
       " 'Jânio Quadros, Túnel                    unico//                                 ': 14812,\n",
       " 'Lapa, Vd                                Lapa/Piqueri                            ': 1469,\n",
       " 'Lapa, Vd                                Piqueri/Lapa                            ': 3714,\n",
       " 'Liberdade/ Vergueiro, Av                Bairro/Centro                           ': 3996,\n",
       " 'Liberdade/ Vergueiro, Av                Centro/Bairro                           ': 2978,\n",
       " 'Ligação - Dec HG (F)                    Lapa/Penha                              ': 18131,\n",
       " 'Ligação - Dec HG (F)                    Penha/Lapa                              ': 29836,\n",
       " 'Ligação Leste-Oeste                     Lapa/Penha                              ': 29268,\n",
       " 'Ligação Leste-Oeste                     Penha/Lapa                              ': 44361,\n",
       " 'Limão / Av. Ordem e Progresso, Pte      Limão/Sumaré                            ': 18940,\n",
       " 'Limão / Av. Ordem e Progresso, Pte      Sumaré/Limão                            ': 783,\n",
       " 'Limão, Pt/Ordem e Progresso, Av (N USAR)Limão/Sumaré                            ': 34,\n",
       " 'Lineu de Paula Machado, Av              Bairro/Centro                           ': 8199,\n",
       " 'Lineu de Paula Machado, Av              Butanta/Morumbi                         ': 3878,\n",
       " 'Lineu de Paula Machado, Av              Centro/Bairro                           ': 297,\n",
       " 'Lineu de Paula Machado, Av              Joquei/USP                              ': 266,\n",
       " 'Lineu de Paula Machado, Av              Morumbi/Butanta                         ': 241,\n",
       " 'Lineu de Paula Machado, Av              USP/Joquei                              ': 2564,\n",
       " 'Luis Antonio, Av Brig                   Bairro/Centro                           ': 3416,\n",
       " 'Luis Antonio, Av Brig                   Centro/Bairro                           ': 1338,\n",
       " 'Luis Antonio, Av Brig.   Dec-PA  (F)    Bairro/Centro                           ': 1531,\n",
       " 'Luis Antonio, Av Brig.   Dec-PA  (F)    Centro/Bairro                           ': 59,\n",
       " 'Luis Carlos Berrini, Av Eng             Bandeirantes/Morumbi                    ': 8717,\n",
       " 'Luis Carlos Berrini, Av Eng             Morumbi/Bandeirantes                    ': 4523,\n",
       " 'Luis Carlos Berrini,Eng Av (F)          Bandeirantes/Morumbi                    ': 6724,\n",
       " 'Luis Carlos Berrini,Eng Av (F)          Morumbi/Bandeirantes                    ': 4783,\n",
       " 'Luis, Av. São                           //unico                                 ': 2580,\n",
       " 'Luiz Ignácio de Anhaia Mello, Av Prof   Bairro/Centro                           ': 38121,\n",
       " 'Luiz Ignácio de Anhaia Mello, Av Prof   Centro/Bairro                           ': 19468,\n",
       " 'Luiz Ignácio de Anhaia Mello, Av Prof   Sapopem./Vila Prudente                  ': 7426,\n",
       " 'Luiz Ignácio de Anhaia Mello, Av Prof   Vila Prudente/Sapopem.                  ': 2178,\n",
       " 'M Paula, R/Jacarei/n Julho, Vd (F)      //unico                                 ': 12,\n",
       " 'M.M.D.C, R                              único//                                 ': 8042,\n",
       " 'Manuel de Teffé, R                      Bairro/Centro                           ': 50,\n",
       " 'Marginal Pinheiros                      Castelo/Interlagos                      ': 158602,\n",
       " 'Marginal Pinheiros                      Interlagos/Castelo                      ': 225922,\n",
       " 'Marginal Tietê                          A.Senna/Castelo Branco                  ': 233914,\n",
       " 'Marginal Tietê                          Castelo/A.Senna                         ': 251352,\n",
       " 'Marginal Tietê - Pista Central          A.Senna/Castelo Branco                  ': 24035,\n",
       " 'Marginal Tietê - Pista Central          Castelo/A.Senna                         ': 36381,\n",
       " 'Maria Coelho Aguiar, Av                 Bairro/Centro                           ': 2744,\n",
       " 'Maria Coelho Aguiar, Av                 Centro/Bairro                           ': 11167,\n",
       " 'Maria Maluf, CV                         Anchieta/Imigrantes                     ': 26685,\n",
       " 'Maria Maluf, CV                         Imigrantes/Anchieta                     ': 30157,\n",
       " 'Maria Paula/Vd Jacareí/Vd 9 de Julho    único//                                 ': 22993,\n",
       " 'Matriz, R da                            unico//                                 ': 45,\n",
       " 'Max Feffer Túnel (Cidade Jardim)        Bairro/Centro                           ': 22609,\n",
       " 'Max Feffer Túnel (Cidade Jardim)        Centro/Bairro                           ': 8549,\n",
       " 'Melo Peixoto, R                         Bairro/Centro                           ': 5058,\n",
       " 'Melo Peixoto, R                         Centro/Bairro                           ': 4859,\n",
       " 'Melo Peixoto, R (F)                     Bairro/Centro                           ': 1607,\n",
       " 'Melo Peixoto, R (F)                     Centro/Bairro                           ': 324,\n",
       " 'Mercúrio, Av                            único//                                 ': 37103,\n",
       " 'Miguel Estefano,VD                      Abraão de Morais/Cursino                ': 173,\n",
       " 'Miguel Estefano,VD                      Cursino/Abraão de Morais                ': 62,\n",
       " 'Miguel Yunes/Pte Vitorino Goulart       Interlagos/Marginal                     ': 13,\n",
       " 'Miguel Yunes/Pte Vitorino Goulart       Marginal/Interlagos                     ': 3,\n",
       " 'Morumbi, Av                             Campo Limpo/Santo Amaro                 ': 787,\n",
       " 'Morumbi, Av                             Morumbi/Santo Amaro                     ': 6864,\n",
       " 'Morumbi, Av                             Santo Amaro/Campo Limpo                 ': 823,\n",
       " 'Morumbi, Av                             Santo Amaro/Morumbi                     ': 1657,\n",
       " 'Morumbi, Av. e Pte                      Aeroporto/Marginal                      ': 9010,\n",
       " 'Morumbi, Av. e Pte                      Marginal/Aeroporto                      ': 14591,\n",
       " 'M´Boi Mirim, Est                        Bairro/Centro                           ': 44,\n",
       " 'M´Boi Mirim, Est                        Centro/Bairro                           ': 3,\n",
       " 'Natanael,  R Mj (F)                     Estadio/Jardins                         ': 1792,\n",
       " 'Nova Morumbi, Pte (F)                   unico//                                 ': 4722,\n",
       " 'Nove de Julho, Av                       Bairro/Centro                           ': 43189,\n",
       " 'Nove de Julho, Av                       Centro/Bairro                           ': 82673,\n",
       " 'Nove de Julho, Av (F)                   Bairro/Centro                           ': 24122,\n",
       " 'Nove de Julho, Av (F)                   Centro/Bairro                           ': 22587,\n",
       " 'Nove de Julho, Av - DEC PA  (F)         Bairro/Centro                           ': 1094,\n",
       " 'Nove de Julho, Av - DEC PA  (F)         Centro/Bairro                           ': 3469,\n",
       " 'Olivia Guedes Penteado, R               Bairro/Centro                           ': 9,\n",
       " 'Oscar Americano, R Eng                  Bairro/Centro                           ': 9812,\n",
       " 'Oscar Americano, R Eng                  Centro/Bairro                           ': 7689,\n",
       " 'Oscar Americano, R Eng  (F)             Bairro/Centro                           ': 3220,\n",
       " 'Oscar Americano, R Eng  (F)             Centro/Bairro                           ': 243,\n",
       " 'Outeiro, Av NSra do                     Batista Botelho/Teotônio                ': 2,\n",
       " 'Pacaembu / Mj Natanael / Abraao Ribeiro Estádio/Marginal                        ': 7260,\n",
       " 'Pacaembu / Mj Natanael / Abraao Ribeiro Marginal/Estádio                        ': 37144,\n",
       " 'Pacaembu, Vd (F)                        Bairro/Centro                           ': 1557,\n",
       " 'Pacaembu, Vd (F)                        Centro/Bairro                           ': 1075,\n",
       " 'Pacheco e Chaves, Cap. Vd               Ipiranga/Vila Prudente                  ': 627,\n",
       " 'Pacheco e Chaves, Cap. Vd               Vila Prudente/Ipiranga                  ': 8568,\n",
       " 'Pacheco e Chaves, R Cap                 Bairro/Centro                           ': 1880,\n",
       " 'Pacheco e Chaves, R Cap                 Centro/Bairro                           ': 234,\n",
       " 'Papini, Av Prof                         Bairro/Centro                           ': 9,\n",
       " 'Papini, Av Prof                         Centro/Bairro                           ': 60,\n",
       " 'Paulina, Vd Dona                        //unico                                 ': 14514,\n",
       " 'Paulina, Vd Dona  (F)                   único//                                 ': 8411,\n",
       " 'Paulista, Av                            Consolação/Paraiso                      ': 35283,\n",
       " 'Paulista, Av                            Paraiso/Consolação                      ': 77105,\n",
       " 'Paulo Eiró, R                           único//                                 ': 4,\n",
       " 'Paulo VI, Av                            Limão/Sumaré                            ': 427,\n",
       " 'Paulo VI, Av                            Sumaré/Limão                            ': 142,\n",
       " 'Pedro Alvares Cabral, Av                Pinheiros/Vila Mariana                  ': 3343,\n",
       " 'Pedro Alvares Cabral, Av                Vila Mariana/Pinheiros                  ': 6905,\n",
       " 'Pedro Alvares Cabral, Av  (F)           Pinheiros/Vila Mariana                  ': 2702,\n",
       " 'Pedro Alvares Cabral, Av  (F)           Vila Mariana/Pinheiros                  ': 8894,\n",
       " 'Pedro I, Av. Dom                        Bairro/Centro                           ': 102,\n",
       " 'Pedro I, Av. Dom                        Centro/Bairro                           ': 114,\n",
       " 'Pinedo, Av de                           unico//                                 ': 2,\n",
       " 'Piqueri, Pt                             Lapa/Piqueri                            ': 2131,\n",
       " 'Piqueri, Pt                             Piqueri/Lapa                            ': 4429,\n",
       " 'Piqueri, Pte (F)                        Lapa/Piqueri                            ': 929,\n",
       " 'Piqueri, Pte (F)                        Piqueri/Lapa                            ': 4319,\n",
       " 'Pirajussara, Av                         Bairro/Centro                           ': 58,\n",
       " 'Pirajussara, Av                         Centro/Bairro                           ': 242,\n",
       " 'Pompeia, Vd                             Marginal/Pompeia                        ': 11079,\n",
       " 'Pompeia, Vd                             Pompeia/Marginal                        ': 1155,\n",
       " 'Queiroz Filho /Jaguaré, Pte             Bairro/Centro                           ': 3099,\n",
       " 'Queiroz Filho /Jaguaré, Pte             Centro/Bairro                           ': 5806,\n",
       " 'Queiroz, Av. Sen.                       //unico                                 ': 17023,\n",
       " 'Radial Leste - DEC BR                   Bairro/Centro                           ': 37626,\n",
       " 'Radial Leste - DEC BR                   Centro/Bairro                           ': 24092,\n",
       " 'Radial Leste - DEC MO                   Bairro/Centro                           ': 76217,\n",
       " 'Radial Leste - DEC MO                   Centro/Bairro                           ': 39898,\n",
       " 'Raimundo Pereira Magalhaes, Av          Bairro/Centro                           ': 124,\n",
       " 'Raimundo Pereira Magalhaes, Av          Centro/Bairro                           ': 16,\n",
       " 'Raimundo Pereira de Magalhães - Norte   Bairro/Centro                           ': 83,\n",
       " 'Raimundo Pereira de Magalhães - Norte   Centro/Bairro                           ': 25,\n",
       " 'Raimundo Pereira de Magalhães - Sul     Bairro/Centro                           ': 36,\n",
       " 'Raimundo Pereira de Magalhães - Sul     Centro/Bairro                           ': 38,\n",
       " 'Rangel Pestana, Av (F)                  unico//                                 ': 841,\n",
       " 'Rangel Pestana, Av DEC BR               //unico                                 ': 6628,\n",
       " 'Rangel Pestana, Av DEC CT               Bairro/Centro                           ': 3073,\n",
       " 'Rangel Pestana, Av DEC CT               Centro/Bairro                           ': 377,\n",
       " 'Raposo Tavares, Via                     Capital/Interior                        ': 2200,\n",
       " 'Raposo Tavares, Via                     Interior/Capital                        ': 24570,\n",
       " 'Reação, R                               único//                                 ': 6754,\n",
       " 'Rebouças/ Eusébio Matoso,  Av           Bairro/Centro                           ': 139711,\n",
       " 'Rebouças/ Eusébio Matoso,  Av           Centro/Bairro                           ': 144654,\n",
       " 'Remédios, Pte                           Lapa/Remédios                           ': 5703,\n",
       " 'Remédios, Pte                           Remédios/Lapa                           ': 9975,\n",
       " 'Republica da Armenia, Vd                único//                                 ': 30725,\n",
       " 'República do Líbano, Av                 Bairro/Centro                           ': 3361,\n",
       " 'República do Líbano, Av                 Centro/Bairro                           ': 3540,\n",
       " 'República do Líbano, Av  (F)            Bairro/Centro                           ': 946,\n",
       " 'República do Líbano, Av  (F)            Centro/Bairro                           ': 495,\n",
       " 'Ribeiro Lacerda, R                      Abraão de Morais/Cursino                ': 5,\n",
       " 'Ribeiro Lacerda, R                      Cursino/Abraão de Morais                ': 73,\n",
       " 'Ricardo Jafet, Av                       Bairro/Centro                           ': 1077,\n",
       " 'Ricardo Jafet, Av                       Centro/Bairro                           ': 1313,\n",
       " 'Rio Bonito, Av                          Centro/Bairro                           ': 7,\n",
       " 'Rio Branco,  Br do                      unico//                                 ': 377,\n",
       " 'Rio Branco, Av                          Bairro/Centro                           ': 1206,\n",
       " 'Rio Branco, Av                          Centro/Bairro                           ': 1763,\n",
       " 'Robert Kennedy, Av                      Bairro/Centro                           ': 1159,\n",
       " 'Robert Kennedy, Av                      Centro/Bairro                           ': 153,\n",
       " 'Roberto Abreu Sodré, Vd                 Bairro/Centro                           ': 15224,\n",
       " 'Roberto Abreu Sodré, Vd                 Centro/Bairro                           ': 826,\n",
       " 'Roque Petroni Júnior, Av                Diadema/Marginal                        ': 5255,\n",
       " 'Roque Petroni Júnior, Av                Marginal/Diadema                        ': 3067,\n",
       " 'Roque Petroni Júnior, Av (F)            Diadema/Marginal                        ': 3451,\n",
       " 'Roque Petroni Júnior, Av (F)            Marginal/Diadema                        ': 1747,\n",
       " 'Rudge, Av/Orlando Murgel, Vd            Bairro/Centro                           ': 3669,\n",
       " 'Rudge, Av/Orlando Murgel, Vd            Centro/Bairro                           ': 2923,\n",
       " 'Rudge, Av/Orlando Murgel, Vd (F)        Bairro/Centro                           ': 1125,\n",
       " 'Rudge, Av/Orlando Murgel, Vd (F)        Centro/Bairro                           ': 737,\n",
       " 'S.Vicente, Av Marques de (F)            Barra Funda/Lapa                        ': 462,\n",
       " 'S.Vicente, Av Marques de (F)            Lapa/Barra Funda                        ': 3487,\n",
       " 'Sabará, Av NSra do                      Bairro/Centro                           ': 9,\n",
       " 'Sabará, Av NSra do                      Centro/Bairro                           ': 9,\n",
       " 'Salim F Maluf, Av/Tatuapé, Pt (N USAR)  Marginal/Vila Prudente                  ': 1,\n",
       " 'Salim Farah Maluf, Av/Tatuapé, Pte      Marginal/Vila Prudente                  ': 58262,\n",
       " 'Salim Farah Maluf, Av/Tatuapé, Pte      Vila Prudente/Marginal                  ': 29868,\n",
       " 'Sapetuba, R                             único//                                 ': 13722,\n",
       " 'Sebastião Camargo, Túnel                unico//                                 ': 18563,\n",
       " 'Socorro, Pte                            Bairro/Centro                           ': 5642,\n",
       " 'Socorro, Pte                            Centro/Bairro                           ': 7439,\n",
       " 'Sumaré, Av                              Limão/Sumaré                            ': 867,\n",
       " 'Sumaré, Av                              Sumaré/Limão                            ': 1427,\n",
       " 'Susana Rodrigues, R                     unico//                                 ': 1794,\n",
       " 'São Vicente, Av Marq de                 Barra Funda/Lapa                        ': 3809,\n",
       " 'São Vicente, Av Marq de                 Lapa/Barra Funda                        ': 12003,\n",
       " 'Sé, Pça da                              //unico                                 ': 1508,\n",
       " 'Tabapua,R  (F)                          unico//                                 ': 1027,\n",
       " 'Tabapuã, R                              //unico                                 ': 350,\n",
       " 'Tabapuã, R                              único//                                 ': 1599,\n",
       " 'Tajurás, Av dos                         Bairro/Centro                           ': 15142,\n",
       " 'Tajurás, Av dos                         Centro/Bairro                           ': 1384,\n",
       " 'Tancredo Neves, Av                      Anchieta/Imigrantes                     ': 2294,\n",
       " 'Tancredo Neves, Av                      Imigrantes/Anchieta                     ': 2168,\n",
       " 'Teodoro Sampaio, R                      unico//                                 ': 12219,\n",
       " 'Teotonio Vilela, Av Sen                 Bairro/Centro                           ': 262,\n",
       " 'Teotonio Vilela, Av Sen                 Centro/Bairro                           ': 45,\n",
       " 'Transamérica, Pte                       unico//                                 ': 5363,\n",
       " 'Trib de Justiça, Túnel                  Ibirapuera/Marginal                     ': 77435,\n",
       " 'Trib de Justiça, Túnel                  Marginal/Ibirapuera                     ': 14873,\n",
       " 'Trinta e Um de Março, Vd                unico//                                 ': 7496,\n",
       " 'Vale/P.Maia/Tirad/S.Dumont              Aeroporto/Santana                       ': 45202,\n",
       " 'Vale/P.Maia/Tirad/S.Dumont              Santana/Aeroporto                       ': 91949,\n",
       " 'Vale/P.Maia/Tirad/S.Dumont  (NÃO USAR)  Santana/Aeroporto                       ': 1,\n",
       " 'Valerio, Av São                         Bairro/Centro                           ': 10621,\n",
       " 'Valerio, Av São                         Centro/Bairro                           ': 129,\n",
       " 'Vicente Rao, Av Prof                    Diadema/Marginal                        ': 1883,\n",
       " 'Vicente Rao, Av Prof                    Marginal/Diadema                        ': 995,\n",
       " 'Vicente Rao, Av Prof  (F)               Diadema/Marginal                        ': 45,\n",
       " 'Vicente Rao, Av Prof  (F)               Marginal/Diadema                        ': 10,\n",
       " 'Vila Guilherme, Pte                     Bairro/Centro                           ': 1476,\n",
       " 'Vila Guilherme, Pte                     Centro/Bairro                           ': 481,\n",
       " 'Vila Matilde, Vd                        Penha/Vl Matilde                        ': 67,\n",
       " 'Vila Matilde, Vd                        Vl Matilde/Penha                        ': 131,\n",
       " 'Vinte Três/R Berta/M Guim (NÃO USAR)    Aeroporto/Santana                       ': 7,\n",
       " 'Vinte Três/R Berta/M Guimarães          Aeroporto/Santana                       ': 112051,\n",
       " 'Vinte Três/R Berta/M Guimarães          Santana/Aeroporto                       ': 122405,\n",
       " 'Vinte e Cinco de Março, Vd              único//                                 ': 927,\n",
       " 'Vital Brasil, Av                        Bairro/Centro                           ': 16083,\n",
       " 'Vital Brasil, Av                        Centro/Bairro                           ': 1851,\n",
       " 'Vitor Manzini, Av                       Bairro/Centro                           ': 1256,\n",
       " 'Vitor Manzini, Av                       Centro/Bairro                           ': 3594,\n",
       " 'Washington Luis, Av                     Bairro/Centro                           ': 32548,\n",
       " 'Washington Luis, Av                     Centro/Bairro                           ': 19810,\n",
       " 'XXX                                     Campo Limpo/Morato                      ': 33,\n",
       " 'XXX                                     Morato/Campo Limpo                      ': 15,\n",
       " 'Xangai, Vd                              unico//                                 ': 506}"
      ]
     },
     "execution_count": 9,
     "metadata": {},
     "output_type": "execute_result"
    }
   ],
   "source": [
    "jam_count"
   ]
  },
  {
   "cell_type": "code",
   "execution_count": 10,
   "metadata": {},
   "outputs": [
    {
     "ename": "ValueError",
     "evalue": "If using all scalar values, you must pass an index",
     "output_type": "error",
     "traceback": [
      "\u001b[1;31m---------------------------------------------------------------------------\u001b[0m",
      "\u001b[1;31mValueError\u001b[0m                                Traceback (most recent call last)",
      "\u001b[1;32mc:\\Users\\Jules\\Documents\\Geomstats\\draft_notebook.ipynb Cell 26'\u001b[0m in \u001b[0;36m<cell line: 1>\u001b[1;34m()\u001b[0m\n\u001b[1;32m----> <a href='vscode-notebook-cell:/c%3A/Users/Jules/Documents/Geomstats/draft_notebook.ipynb#ch0000025?line=0'>1</a>\u001b[0m jam_count_df \u001b[39m=\u001b[39m pd\u001b[39m.\u001b[39;49mDataFrame\u001b[39m.\u001b[39;49mfrom_dict(jam_count)\n",
      "File \u001b[1;32mc:\\Users\\Jules\\AppData\\Local\\Programs\\Python\\Python310\\lib\\site-packages\\pandas\\core\\frame.py:1677\u001b[0m, in \u001b[0;36mDataFrame.from_dict\u001b[1;34m(cls, data, orient, dtype, columns)\u001b[0m\n\u001b[0;32m   <a href='file:///c%3A/Users/Jules/AppData/Local/Programs/Python/Python310/lib/site-packages/pandas/core/frame.py?line=1673'>1674</a>\u001b[0m     \u001b[39mraise\u001b[39;00m \u001b[39mValueError\u001b[39;00m(\u001b[39m\"\u001b[39m\u001b[39monly recognize index or columns for orient\u001b[39m\u001b[39m\"\u001b[39m)\n\u001b[0;32m   <a href='file:///c%3A/Users/Jules/AppData/Local/Programs/Python/Python310/lib/site-packages/pandas/core/frame.py?line=1675'>1676</a>\u001b[0m \u001b[39mif\u001b[39;00m orient \u001b[39m!=\u001b[39m \u001b[39m\"\u001b[39m\u001b[39mtight\u001b[39m\u001b[39m\"\u001b[39m:\n\u001b[1;32m-> <a href='file:///c%3A/Users/Jules/AppData/Local/Programs/Python/Python310/lib/site-packages/pandas/core/frame.py?line=1676'>1677</a>\u001b[0m     \u001b[39mreturn\u001b[39;00m \u001b[39mcls\u001b[39;49m(data, index\u001b[39m=\u001b[39;49mindex, columns\u001b[39m=\u001b[39;49mcolumns, dtype\u001b[39m=\u001b[39;49mdtype)\n\u001b[0;32m   <a href='file:///c%3A/Users/Jules/AppData/Local/Programs/Python/Python310/lib/site-packages/pandas/core/frame.py?line=1677'>1678</a>\u001b[0m \u001b[39melse\u001b[39;00m:\n\u001b[0;32m   <a href='file:///c%3A/Users/Jules/AppData/Local/Programs/Python/Python310/lib/site-packages/pandas/core/frame.py?line=1678'>1679</a>\u001b[0m     realdata \u001b[39m=\u001b[39m data[\u001b[39m\"\u001b[39m\u001b[39mdata\u001b[39m\u001b[39m\"\u001b[39m]\n",
      "File \u001b[1;32mc:\\Users\\Jules\\AppData\\Local\\Programs\\Python\\Python310\\lib\\site-packages\\pandas\\core\\frame.py:636\u001b[0m, in \u001b[0;36mDataFrame.__init__\u001b[1;34m(self, data, index, columns, dtype, copy)\u001b[0m\n\u001b[0;32m    <a href='file:///c%3A/Users/Jules/AppData/Local/Programs/Python/Python310/lib/site-packages/pandas/core/frame.py?line=629'>630</a>\u001b[0m     mgr \u001b[39m=\u001b[39m \u001b[39mself\u001b[39m\u001b[39m.\u001b[39m_init_mgr(\n\u001b[0;32m    <a href='file:///c%3A/Users/Jules/AppData/Local/Programs/Python/Python310/lib/site-packages/pandas/core/frame.py?line=630'>631</a>\u001b[0m         data, axes\u001b[39m=\u001b[39m{\u001b[39m\"\u001b[39m\u001b[39mindex\u001b[39m\u001b[39m\"\u001b[39m: index, \u001b[39m\"\u001b[39m\u001b[39mcolumns\u001b[39m\u001b[39m\"\u001b[39m: columns}, dtype\u001b[39m=\u001b[39mdtype, copy\u001b[39m=\u001b[39mcopy\n\u001b[0;32m    <a href='file:///c%3A/Users/Jules/AppData/Local/Programs/Python/Python310/lib/site-packages/pandas/core/frame.py?line=631'>632</a>\u001b[0m     )\n\u001b[0;32m    <a href='file:///c%3A/Users/Jules/AppData/Local/Programs/Python/Python310/lib/site-packages/pandas/core/frame.py?line=633'>634</a>\u001b[0m \u001b[39melif\u001b[39;00m \u001b[39misinstance\u001b[39m(data, \u001b[39mdict\u001b[39m):\n\u001b[0;32m    <a href='file:///c%3A/Users/Jules/AppData/Local/Programs/Python/Python310/lib/site-packages/pandas/core/frame.py?line=634'>635</a>\u001b[0m     \u001b[39m# GH#38939 de facto copy defaults to False only in non-dict cases\u001b[39;00m\n\u001b[1;32m--> <a href='file:///c%3A/Users/Jules/AppData/Local/Programs/Python/Python310/lib/site-packages/pandas/core/frame.py?line=635'>636</a>\u001b[0m     mgr \u001b[39m=\u001b[39m dict_to_mgr(data, index, columns, dtype\u001b[39m=\u001b[39;49mdtype, copy\u001b[39m=\u001b[39;49mcopy, typ\u001b[39m=\u001b[39;49mmanager)\n\u001b[0;32m    <a href='file:///c%3A/Users/Jules/AppData/Local/Programs/Python/Python310/lib/site-packages/pandas/core/frame.py?line=636'>637</a>\u001b[0m \u001b[39melif\u001b[39;00m \u001b[39misinstance\u001b[39m(data, ma\u001b[39m.\u001b[39mMaskedArray):\n\u001b[0;32m    <a href='file:///c%3A/Users/Jules/AppData/Local/Programs/Python/Python310/lib/site-packages/pandas/core/frame.py?line=637'>638</a>\u001b[0m     \u001b[39mimport\u001b[39;00m \u001b[39mnumpy\u001b[39;00m\u001b[39m.\u001b[39;00m\u001b[39mma\u001b[39;00m\u001b[39m.\u001b[39;00m\u001b[39mmrecords\u001b[39;00m \u001b[39mas\u001b[39;00m \u001b[39mmrecords\u001b[39;00m\n",
      "File \u001b[1;32mc:\\Users\\Jules\\AppData\\Local\\Programs\\Python\\Python310\\lib\\site-packages\\pandas\\core\\internals\\construction.py:502\u001b[0m, in \u001b[0;36mdict_to_mgr\u001b[1;34m(data, index, columns, dtype, typ, copy)\u001b[0m\n\u001b[0;32m    <a href='file:///c%3A/Users/Jules/AppData/Local/Programs/Python/Python310/lib/site-packages/pandas/core/internals/construction.py?line=493'>494</a>\u001b[0m     arrays \u001b[39m=\u001b[39m [\n\u001b[0;32m    <a href='file:///c%3A/Users/Jules/AppData/Local/Programs/Python/Python310/lib/site-packages/pandas/core/internals/construction.py?line=494'>495</a>\u001b[0m         x\n\u001b[0;32m    <a href='file:///c%3A/Users/Jules/AppData/Local/Programs/Python/Python310/lib/site-packages/pandas/core/internals/construction.py?line=495'>496</a>\u001b[0m         \u001b[39mif\u001b[39;00m \u001b[39mnot\u001b[39;00m \u001b[39mhasattr\u001b[39m(x, \u001b[39m\"\u001b[39m\u001b[39mdtype\u001b[39m\u001b[39m\"\u001b[39m) \u001b[39mor\u001b[39;00m \u001b[39mnot\u001b[39;00m \u001b[39misinstance\u001b[39m(x\u001b[39m.\u001b[39mdtype, ExtensionDtype)\n\u001b[0;32m    <a href='file:///c%3A/Users/Jules/AppData/Local/Programs/Python/Python310/lib/site-packages/pandas/core/internals/construction.py?line=496'>497</a>\u001b[0m         \u001b[39melse\u001b[39;00m x\u001b[39m.\u001b[39mcopy()\n\u001b[0;32m    <a href='file:///c%3A/Users/Jules/AppData/Local/Programs/Python/Python310/lib/site-packages/pandas/core/internals/construction.py?line=497'>498</a>\u001b[0m         \u001b[39mfor\u001b[39;00m x \u001b[39min\u001b[39;00m arrays\n\u001b[0;32m    <a href='file:///c%3A/Users/Jules/AppData/Local/Programs/Python/Python310/lib/site-packages/pandas/core/internals/construction.py?line=498'>499</a>\u001b[0m     ]\n\u001b[0;32m    <a href='file:///c%3A/Users/Jules/AppData/Local/Programs/Python/Python310/lib/site-packages/pandas/core/internals/construction.py?line=499'>500</a>\u001b[0m     \u001b[39m# TODO: can we get rid of the dt64tz special case above?\u001b[39;00m\n\u001b[1;32m--> <a href='file:///c%3A/Users/Jules/AppData/Local/Programs/Python/Python310/lib/site-packages/pandas/core/internals/construction.py?line=501'>502</a>\u001b[0m \u001b[39mreturn\u001b[39;00m arrays_to_mgr(arrays, columns, index, dtype\u001b[39m=\u001b[39;49mdtype, typ\u001b[39m=\u001b[39;49mtyp, consolidate\u001b[39m=\u001b[39;49mcopy)\n",
      "File \u001b[1;32mc:\\Users\\Jules\\AppData\\Local\\Programs\\Python\\Python310\\lib\\site-packages\\pandas\\core\\internals\\construction.py:120\u001b[0m, in \u001b[0;36marrays_to_mgr\u001b[1;34m(arrays, columns, index, dtype, verify_integrity, typ, consolidate)\u001b[0m\n\u001b[0;32m    <a href='file:///c%3A/Users/Jules/AppData/Local/Programs/Python/Python310/lib/site-packages/pandas/core/internals/construction.py?line=116'>117</a>\u001b[0m \u001b[39mif\u001b[39;00m verify_integrity:\n\u001b[0;32m    <a href='file:///c%3A/Users/Jules/AppData/Local/Programs/Python/Python310/lib/site-packages/pandas/core/internals/construction.py?line=117'>118</a>\u001b[0m     \u001b[39m# figure out the index, if necessary\u001b[39;00m\n\u001b[0;32m    <a href='file:///c%3A/Users/Jules/AppData/Local/Programs/Python/Python310/lib/site-packages/pandas/core/internals/construction.py?line=118'>119</a>\u001b[0m     \u001b[39mif\u001b[39;00m index \u001b[39mis\u001b[39;00m \u001b[39mNone\u001b[39;00m:\n\u001b[1;32m--> <a href='file:///c%3A/Users/Jules/AppData/Local/Programs/Python/Python310/lib/site-packages/pandas/core/internals/construction.py?line=119'>120</a>\u001b[0m         index \u001b[39m=\u001b[39m _extract_index(arrays)\n\u001b[0;32m    <a href='file:///c%3A/Users/Jules/AppData/Local/Programs/Python/Python310/lib/site-packages/pandas/core/internals/construction.py?line=120'>121</a>\u001b[0m     \u001b[39melse\u001b[39;00m:\n\u001b[0;32m    <a href='file:///c%3A/Users/Jules/AppData/Local/Programs/Python/Python310/lib/site-packages/pandas/core/internals/construction.py?line=121'>122</a>\u001b[0m         index \u001b[39m=\u001b[39m ensure_index(index)\n",
      "File \u001b[1;32mc:\\Users\\Jules\\AppData\\Local\\Programs\\Python\\Python310\\lib\\site-packages\\pandas\\core\\internals\\construction.py:664\u001b[0m, in \u001b[0;36m_extract_index\u001b[1;34m(data)\u001b[0m\n\u001b[0;32m    <a href='file:///c%3A/Users/Jules/AppData/Local/Programs/Python/Python310/lib/site-packages/pandas/core/internals/construction.py?line=660'>661</a>\u001b[0m         \u001b[39mraise\u001b[39;00m \u001b[39mValueError\u001b[39;00m(\u001b[39m\"\u001b[39m\u001b[39mPer-column arrays must each be 1-dimensional\u001b[39m\u001b[39m\"\u001b[39m)\n\u001b[0;32m    <a href='file:///c%3A/Users/Jules/AppData/Local/Programs/Python/Python310/lib/site-packages/pandas/core/internals/construction.py?line=662'>663</a>\u001b[0m \u001b[39mif\u001b[39;00m \u001b[39mnot\u001b[39;00m indexes \u001b[39mand\u001b[39;00m \u001b[39mnot\u001b[39;00m raw_lengths:\n\u001b[1;32m--> <a href='file:///c%3A/Users/Jules/AppData/Local/Programs/Python/Python310/lib/site-packages/pandas/core/internals/construction.py?line=663'>664</a>\u001b[0m     \u001b[39mraise\u001b[39;00m \u001b[39mValueError\u001b[39;00m(\u001b[39m\"\u001b[39m\u001b[39mIf using all scalar values, you must pass an index\u001b[39m\u001b[39m\"\u001b[39m)\n\u001b[0;32m    <a href='file:///c%3A/Users/Jules/AppData/Local/Programs/Python/Python310/lib/site-packages/pandas/core/internals/construction.py?line=665'>666</a>\u001b[0m \u001b[39melif\u001b[39;00m have_series:\n\u001b[0;32m    <a href='file:///c%3A/Users/Jules/AppData/Local/Programs/Python/Python310/lib/site-packages/pandas/core/internals/construction.py?line=666'>667</a>\u001b[0m     index \u001b[39m=\u001b[39m union_indexes(indexes)\n",
      "\u001b[1;31mValueError\u001b[0m: If using all scalar values, you must pass an index"
     ]
    }
   ],
   "source": [
    "jam_count_df = pd.DataFrame.from_dict(jam_count)"
   ]
  },
  {
   "cell_type": "code",
   "execution_count": null,
   "metadata": {},
   "outputs": [],
   "source": [
    "jam_count_df.to_csv(\"jam_count\", index=True)"
   ]
  },
  {
   "cell_type": "markdown",
   "metadata": {},
   "source": [
    "Above is the table of all traffic jams and their durations, for each day.\n",
    "The following graph plots the distribution of traffic jam counts between 2001 and 2019 for each and every road. It might seem more adapted to focus our renovations on the roads more likely to be impacted by traffic jams, and for that we may drop the roads with a small jam count."
   ]
  },
  {
   "cell_type": "code",
   "execution_count": null,
   "metadata": {},
   "outputs": [],
   "source": [
    "sorted_jam_count = sorted(jam_count, key = jam_count.get)"
   ]
  },
  {
   "cell_type": "code",
   "execution_count": null,
   "metadata": {},
   "outputs": [
    {
     "data": {
      "image/png": "[encoded data removed]",
      "text/plain": [
       "<Figure size 864x576 with 1 Axes>"
      ]
     },
     "metadata": {
      "needs_background": "light"
     },
     "output_type": "display_data"
    }
   ],
   "source": [
    "fig = plt.figure(figsize=(12,8))\n",
    "\n",
    "plt.plot(gs.sort(list(jam_count.values())))\n",
    "plt.xlabel(\"road n°\")\n",
    "plt.ylabel(\"number of traffic jams between 2001 and 2019\")\n",
    "plt.title(\"Number of traffic jams between 2001 and 2019 for each road in increasing order\")\n",
    "plt.show()"
   ]
  },
  {
   "cell_type": "code",
   "execution_count": null,
   "metadata": {},
   "outputs": [],
   "source": [
    "list_jam_count = gs.sort(list(jam_count.values()))\n",
    "cdf = [list_jam_count[0]]\n",
    "for i in range(len(list_jam_count)):\n",
    "    cdf.append(cdf[i] + list_jam_count[i])\n",
    "\n",
    "cdf = cdf / cdf[-1]"
   ]
  },
  {
   "cell_type": "code",
   "execution_count": null,
   "metadata": {},
   "outputs": [
    {
     "data": {
      "image/png": "[encoded data removed]",
      "text/plain": [
       "<Figure size 864x576 with 1 Axes>"
      ]
     },
     "metadata": {
      "needs_background": "light"
     },
     "output_type": "display_data"
    }
   ],
   "source": [
    "fig = plt.figure(figsize=(12,8))\n",
    "plt.plot(cdf)\n",
    "\n",
    "plt.xlabel(\"road n°\")\n",
    "plt.title(\"Cumulative distribution function of traffic jams in SP\")\n",
    "plt.show()"
   ]
  },
  {
   "cell_type": "markdown",
   "metadata": {},
   "source": [
    "The 75 most congestioned roads make up for 75% of all traffic jams in Sao Paulo. That is where we will focus our renovation efforts."
   ]
  },
  {
   "cell_type": "code",
   "execution_count": null,
   "metadata": {},
   "outputs": [],
   "source": [
    "roads_to_renovate = sorted_jam_count[-75:]"
   ]
  },
  {
   "cell_type": "code",
   "execution_count": null,
   "metadata": {},
   "outputs": [],
   "source": [
    "roads_to_renovate\n",
    "passages_to_renovate, directions_to_renovate = [], []\n",
    "for road in roads_to_renovate:\n",
    "    passages_to_renovate.append(road[:40])\n",
    "    directions_to_renovate.append(road[40:])"
   ]
  },
  {
   "cell_type": "markdown",
   "metadata": {},
   "source": [
    "# 3. Mathematical modeling"
   ]
  },
  {
   "cell_type": "markdown",
   "metadata": {},
   "source": [
    "## 3.1. Introduction of the Gamma manifold"
   ]
  },
  {
   "cell_type": "markdown",
   "metadata": {},
   "source": [
    "The modeling of the study relies heavily on the representation of a traffic jam as a random variable.\n",
    "In fact, the waiting time in a given traffic jam can be predicted by a Gamma distribution.\n",
    "\n",
    "Indeed, as a $\\nu$-exponential process predicts the waiting time until one very first event (where $\\nu$ is a rate of a unit of time), a $(k,\\, \\nu)$-Gamma process will predict the waiting time until the $k$-th event: mathematically, it is the sum of $k$ i.i.d $\\nu$-exponential processes.\n",
    "\n",
    "That is essentially what happens in a traffic jam: you wait until every car in front of you has exited the traffic jam. Switching lanes rarely helps, and if so, to a negligible extent, furthermore a car entering the traffic jam will almost always choose the least crowded lane (all drivers are a priori mentally sane). These two observations allow to reduce the modeling of a whole traffic jam to that of a single lane, although only in representation, beacuse cars next to each other will have the same behavior.\n",
    "\n",
    "This is why we can see a traffic jam as the iteration of a given number of cars, whose waiting times when entering the traffic jam follow a Gamma distribution. Its parameters are $k$ (the number of cars in front of the car in arbitrary units) and $\\nu$ (the exit time rate of the traffic jam, i.e. the number of cars (in the same arbitrary unit) that exit the traffic jam in a given amount of time, so essentially the speed of the traffic jam).\n",
    "\n",
    "Thus, the waiting time $t$ in a given traffic jam follows the distribution:\n",
    "$$p(t|k, \\nu) = \\frac{\\nu^k}{\\Gamma(k)} t^{k-1} e^{-\\nu t}."
   ]
  },
  {
   "cell_type": "markdown",
   "metadata": {},
   "source": [
    "For the following, we denote Gamma distributions' parameters by $(\\kappa, \\gamma)$, where $\\kappa$=$k$ (number of agents) and $\\gamma$=$\\frac{k}{\\nu}$ is the expected congestion time (mean of the Gamma distribution)."
   ]
  },
  {
   "cell_type": "code",
   "execution_count": null,
   "metadata": {},
   "outputs": [],
   "source": [
    "import matplotlib.pyplot as plt\n",
    "from geomstats.information_geometry.gamma import *\n",
    "\n",
    "space = GammaDistributions()"
   ]
  },
  {
   "cell_type": "markdown",
   "metadata": {},
   "source": [
    "For instance, on the following graph we are plotting 10 roads with random parameters between 0 and 5, meaning that in arbitrary units, all car lanes are of length below 5 and the expected waiting time in traffic is below 5 time units."
   ]
  },
  {
   "cell_type": "code",
   "execution_count": null,
   "metadata": {},
   "outputs": [
    {
     "data": {
      "image/png": "[encoded data removed]",
      "text/plain": [
       "<Figure size 864x576 with 1 Axes>"
      ]
     },
     "metadata": {
      "needs_background": "light"
     },
     "output_type": "display_data"
    }
   ],
   "source": [
    "road = space.random_point(10)\n",
    "fig = plt.figure(figsize=(12,8))\n",
    "plt.scatter(road[:,0], road[:,1], label = 'roads')\n",
    "plt.xlabel(\"$\\\\kappa$ (number of cars in arbitrary units)\")\n",
    "plt.ylabel(\"$\\\\gamma$ (expected time spent in traffic)\")\n",
    "plt.title(\"10 roads subject to traffic jams, represented as points on the Gamma manifold.\")\n",
    "plt.legend()\n",
    "plt.xlim(0,5)\n",
    "plt.ylim(0,5)\n",
    "plt.axis(\"equal\")\n",
    "plt.show()"
   ]
  },
  {
   "cell_type": "markdown",
   "metadata": {},
   "source": [
    "## 3.2. Mathematical interpretation of an effort of renovation"
   ]
  },
  {
   "cell_type": "markdown",
   "metadata": {},
   "source": [
    "This is where information geometry comes in handy.\n",
    "\n",
    "Renovating a road initially aims at reducing the expected time spent in traffic. But, first, the efficiency of the renovation in that regard heavily depends on the road (renovating a fluid road will be of little use), and second, it can bring other unwanted consequences, for example increasing the expected number of cars at the entrance of the jam (cars will be faster but there will be longer lanes).\n",
    "\n",
    "This is a phenomenon that can be observed through information geometry: by seeing renovation as an effort in reducing the expected time in traffic, we can model the advancement of the renovation as the geodesic departing from the point representation of the road, and with initial tangent vector in the direction and orientation $-\\gamma$. This reflects the fact that the advancement of the renovation will follow the most natural path, i.e. the distribution of the waiting time of the associated road will change as little as possible throughout the renovation.\n",
    "\n",
    "The amount of effort invested in the renovation of a given road can be directly represented by the norm of the tangent vector."
   ]
  },
  {
   "cell_type": "code",
   "execution_count": null,
   "metadata": {},
   "outputs": [
    {
     "data": {
      "image/png": "[encoded data removed]",
      "text/plain": [
       "<Figure size 864x576 with 1 Axes>"
      ]
     },
     "metadata": {
      "needs_background": "light"
     },
     "output_type": "display_data"
    },
    {
     "name": "stdout",
     "output_type": "stream",
     "text": [
      "Road 1 renovation: waiting time has decreased from 1.0 to 0.409, number of cars has increased from 1.0 to 1.443.\n",
      "Road 2 renovation: waiting time has decreased from 1.0 to 0.536, number of cars has increased from 2.0 to 2.995.\n",
      "Road 3 renovation: waiting time has decreased from 2.0 to 0.818, number of cars has increased from 1.0 to 1.443.\n"
     ]
    }
   ],
   "source": [
    "fig = plt.figure(figsize=(12,8))\n",
    "\n",
    "t = gs.linspace(0,1,10)\n",
    "\n",
    "road1 = gs.array([1.0,1.0])\n",
    "plt.scatter(*road1, label = 'road 1')\n",
    "\n",
    "road2 = gs.array([2.0,1.0])\n",
    "plt.scatter(*road2, label = 'road 2')\n",
    "\n",
    "road3 = gs.array([1.0,2.0])\n",
    "plt.scatter(*road3, label = 'road 3')\n",
    "\n",
    "effort = gs.array([0.0, -1.0])\n",
    "\n",
    "effort1 = space.metric.normalize(effort, road1)\n",
    "renovation1 = space.metric.geodesic(initial_point=road1, initial_tangent_vec=effort1)\n",
    "renovation1 = renovation1(t)\n",
    "plt.plot(*gs.transpose(renovation1), label = 'advancement of renovation effort on road 1')\n",
    "\n",
    "effort2 = space.metric.normalize(effort, road2)\n",
    "renovation2 = space.metric.geodesic(initial_point=road2, initial_tangent_vec=effort2)\n",
    "renovation2 = renovation2(t)\n",
    "plt.plot(*gs.transpose(renovation2), label = 'advancement of renovation effort on road 2')\n",
    "\n",
    "effort3 = space.metric.normalize(effort, road3)\n",
    "renovation3 = space.metric.geodesic(initial_point=road3, initial_tangent_vec=effort3)\n",
    "renovation3 = renovation3(t)\n",
    "plt.plot(*gs.transpose(renovation3), label = 'advancement of renovation effort on road 3')\n",
    "\n",
    "plt.xlabel(\"$\\\\kappa$ (number of cars)\")\n",
    "plt.ylabel(\"$\\\\gamma$ (expected time spent in traffic)\")\n",
    "\n",
    "plt.title(\"Comparison of different renovation efforts\")\n",
    "\n",
    "plt.legend()\n",
    "plt.axis(\"equal\")\n",
    "\n",
    "plt.show()\n",
    "\n",
    "print(f\"Road 1 renovation: waiting time has decreased from {road1[1]} to {str(renovation1[-1,1])[:5]}, number of cars has increased from {road1[0]} to {str(renovation1[-1,0])[:5]}.\")\n",
    "print(f\"Road 2 renovation: waiting time has decreased from {road2[1]} to {str(renovation2[-1,1])[:5]}, number of cars has increased from {road2[0]} to {str(renovation2[-1,0])[:5]}.\")\n",
    "print(f\"Road 3 renovation: waiting time has decreased from {road3[1]} to {str(renovation3[-1,1])[:5]}, number of cars has increased from {road3[0]} to {str(renovation3[-1,0])[:5]}.\")\n"
   ]
  },
  {
   "cell_type": "markdown",
   "metadata": {},
   "source": [
    "In the example above, the same amount of effort has been put to renovate 3 roads, as all initial tangent vectors are of norm $1$:\n",
    "- road 1 corresponds to $\\kappa$ = 1 (length of car lane), $\\gamma$ = 1 (expected time spent in traffic);\n",
    "- road 2 to $\\kappa$ = 2, $\\gamma$ = 1;\n",
    "- road 3 to $\\kappa$ = 1, $\\gamma$ = 2.\n",
    "\n",
    "We observe that it is much more efficient to renovate road 3 rather than road 1 in terms of gained expected waiting time. In terms of relative time gain however, the result is the same: this is specific to Gamma distributions. In addition, renovating road 3 is more efficient than renovating road 2, either in absolute or relative time gain. We observe furthermore that investing similar efforts in renovating roads 3 and 2 result in  different evolutions regarding the length of the car line: it increases by 44% in the first case and by as much as 50% in the second one. This becomes delicate especially considering the expected car line on road 2 was already long.\n",
    "\n",
    "The fact that these results validate expected consequences of renovations encourages us once again indeed to use information geometry to model the situation. For instance, a euclidean modeling of the situation would make no sense!"
   ]
  },
  {
   "cell_type": "markdown",
   "metadata": {},
   "source": [
    "Therefore, the key to optimizing Sao Paulo's traffic obviously lies in maximizing the efficiency of the renovation, with limited renovation resources."
   ]
  },
  {
   "cell_type": "markdown",
   "metadata": {},
   "source": [
    "## 3.3. Optimization problem"
   ]
  },
  {
   "cell_type": "markdown",
   "metadata": {},
   "source": [
    "The aim is to minimize the mean expected congestion time in Sao Paulo, weighted by the frequencies $f_i$ of traffic jams $1 \\leq i \\leq n$, under the constraint of a total quantity of resources $r$. This reads:\n",
    "\n",
    "\\begin{equation}\n",
    "\\begin{cases}\n",
    "\\min_{(r_i)}  \\sum_{i=1}^n f_i \\times \\exp_{x_i} \\left( r_i \\times \\left(\\begin{array}{c} 0 \\\\ -1 \\end{array}\\right)_{x_i} \\right)_{\\gamma} \\\\\n",
    "\\forall i \\in \\{1,...,n\\}, r_i \\geq 0 \\\\\n",
    "\\sum_{1 \\leq i \\leq n} r_i = r \\\\\n",
    "\\end{cases},\n",
    "\\end{equation}\n"
   ]
  },
  {
   "cell_type": "markdown",
   "metadata": {},
   "source": [
    "where:\n",
    "- $(x_i)$ are the roads;\n",
    "- $\\left(\\begin{array}{c} 0 \\\\ -1 \\end{array}\\right)_{x_i}$ is the unit tangent vector at $x_i$ with direction and orientation $-\\gamma$;\n",
    "- $\\exp_{x_i}$ is the exponential map at $x_i$;\n",
    "- for $x \\in G$ (the Gamma manifold), $x_{\\gamma}$ is its $\\gamma$ coordinate;\n",
    "- $r_i$ is the resource allocated for renovating road $i$."
   ]
  },
  {
   "cell_type": "markdown",
   "metadata": {},
   "source": [
    "#### Remark"
   ]
  },
  {
   "cell_type": "markdown",
   "metadata": {},
   "source": [
    "We could rewrite the problem in a simpler way analytically, making use of the following results:\n",
    "- the relative efficiency of renovation (i.e. the ratio of expected congestion times) does not depend on the original expected congestion time of the road ($\\gamma$);\n",
    "- similarly, the jam size of the renovated road does not depend on the original expected congestion time of the road ($\\gamma$).\n",
    "\n",
    "However, we will not use these results to make way for a better computational solution of the problem.\n"
   ]
  },
  {
   "cell_type": "markdown",
   "metadata": {},
   "source": [
    "# 4. Dataset processing"
   ]
  },
  {
   "cell_type": "markdown",
   "metadata": {},
   "source": [
    "First, we associate to each of the roads eligible for renovation its parameters for a Gamma distribution, through a maximum likelihood fit of the durations of traffic jams."
   ]
  },
  {
   "cell_type": "code",
   "execution_count": null,
   "metadata": {},
   "outputs": [
    {
     "name": "stderr",
     "output_type": "stream",
     "text": [
      "100%|██████████| 75/75 [00:06<00:00, 11.98it/s]\n",
      "100%|██████████| 75/75 [00:03<00:00, 19.99it/s]"
     ]
    }
   ],
   "source": [
    "passages, directions, kappas, gammas = [], [], [], []\n",
    "\n",
    "LENGTH = len(roads_to_renovate)\n",
    "\n",
    "pbar = tqdm(total=LENGTH)\n",
    "\n",
    "for i in range(LENGTH):\n",
    "    pbar.update(n=1)\n",
    "    passage, direction = passages_to_renovate[i], directions_to_renovate[i]\n",
    "    frame = df.loc[(df[\"passage\"] == passage) & (df[\"direction\"] == direction)]\n",
    "    sample = frame[\"duration\"]\n",
    "    try:\n",
    "        kappa, gamma = space.maximum_likelihood_fit(sample)\n",
    "        if not(gs.any(gs.isnan([kappa, gamma]))):\n",
    "            passages.append(passage)\n",
    "            directions.append(direction)\n",
    "            kappas.append(kappa)\n",
    "            gammas.append(gamma)\n",
    "    except:\n",
    "        continue"
   ]
  },
  {
   "cell_type": "markdown",
   "metadata": {},
   "source": [
    "Having focused on the 75 most congestioned roads makes sense now, as the estimations for the Gamma parameters of the roads is much more relevant. Accounting for all the roads would result in having outliers in our set of roads, rendering the computation far more complex. In addition, roads with a negligible count of traffic jams in such a long time span do not necessarily call for renovation.\n",
    "\n",
    "That is why, for the following and for the problem at hand, we can consider the following simplification: the roads eligible for renovation represent SP's roads subject to traffic jams, i.e. the exact dataset we want to be working on."
   ]
  },
  {
   "cell_type": "code",
   "execution_count": null,
   "metadata": {},
   "outputs": [],
   "source": [
    "dict_parameters = {\"passage\": passages, \"direction\": directions, \"kappa\": kappas, \"gamma\": gammas}\n",
    "data = pd.DataFrame.from_dict(dict_parameters)"
   ]
  },
  {
   "cell_type": "markdown",
   "metadata": {},
   "source": [
    "To each of the roads eligible for renovation we associate a weight proportional to the number of traffic jams between 2001 and 2019."
   ]
  },
  {
   "cell_type": "code",
   "execution_count": null,
   "metadata": {},
   "outputs": [],
   "source": [
    "good_points = list(data[\"passage\"] + data[\"direction\"])\n",
    "weights = list(map(jam_count.get, good_points))\n",
    "weights = weights / gs.sum(weights)"
   ]
  },
  {
   "cell_type": "markdown",
   "metadata": {},
   "source": [
    "The 75 most congestioned roads of SP can be represented as follows on the Gamma manifold."
   ]
  },
  {
   "cell_type": "code",
   "execution_count": null,
   "metadata": {},
   "outputs": [
    {
     "data": {
      "image/png": "[encoded data removed]",
      "text/plain": [
       "<Figure size 864x576 with 1 Axes>"
      ]
     },
     "metadata": {
      "needs_background": "light"
     },
     "output_type": "display_data"
    }
   ],
   "source": [
    "kappa, gamma = data[\"kappa\"], data[\"gamma\"]\n",
    "\n",
    "fig = plt.figure(figsize=(12,8))\n",
    "\n",
    "mean = gs.array([gs.mean(weights*kappa), gs.mean(weights*gamma)])\n",
    "\n",
    "plt.scatter(kappa, gamma, label='road eligible for renovation')\n",
    "plt.scatter(*mean, color = 'r', s=100, label='mean road eligible for renovation')\n",
    "plt.xlabel(\"$\\\\kappa$ (number of cars in arbitrary units)\")\n",
    "plt.ylabel(\"$\\\\gamma$ (expected time spent in traffic in hours)\")\n",
    "plt.title(\"Sao Paulo's roads most subject to traffic jams, as represented as points on the Gamma manifold.\")\n",
    "plt.legend()\n",
    "plt.show()"
   ]
  },
  {
   "cell_type": "markdown",
   "metadata": {},
   "source": [
    "We observe that the vast majority of traffic jams in SP can take from 2 to 6+ hours of congestion time. On the most impactful roads (eligible for renovation), the mean waiting time is 4h 15min."
   ]
  },
  {
   "cell_type": "markdown",
   "metadata": {},
   "source": [
    "# 5. Solving the problem at hand"
   ]
  },
  {
   "cell_type": "markdown",
   "metadata": {},
   "source": [
    "Arbitrarily (and for computational purposes), we are allocated a total of 5 resources to allocate on the renovations."
   ]
  },
  {
   "cell_type": "code",
   "execution_count": null,
   "metadata": {},
   "outputs": [],
   "source": [
    "total_resources = 5"
   ]
  },
  {
   "cell_type": "code",
   "execution_count": null,
   "metadata": {},
   "outputs": [],
   "source": [
    "points = gs.transpose(gs.stack([kappa, gamma]))\n",
    "n_points = len(points)"
   ]
  },
  {
   "cell_type": "markdown",
   "metadata": {},
   "source": [
    "We optimize the allocation of resources for renovation here:"
   ]
  },
  {
   "cell_type": "code",
   "execution_count": null,
   "metadata": {},
   "outputs": [
    {
     "data": {
      "image/png": "[encoded data removed]",
      "text/plain": [
       "<Figure size 1152x864 with 1 Axes>"
      ]
     },
     "metadata": {
      "needs_background": "light"
     },
     "output_type": "display_data"
    }
   ],
   "source": [
    "original_SP = gs.sum(gs.einsum(\"...,...j->...j\", weights, points), axis=0)\n",
    "\n",
    "def rebuilding(point, resources):\n",
    "    n_points = point.shape[0] if len(point.shape)>1 else 1\n",
    "    vec = gs.tile([gs.array([0.0,-1.0])], (n_points, 1))\n",
    "    norm = resources * total_resources\n",
    "    tangent_vec = gs.einsum(\"...,...j->...j\", norm, vec)\n",
    "    end_point = space.metric.exp(tangent_vec, point, n_steps=100)\n",
    "    return end_point\n",
    "\n",
    "def objective(resources):\n",
    "    end_points = rebuilding(points, resources)\n",
    "    gammas = end_points[:,1]\n",
    "    return gs.mean(weights*gammas)\n",
    "\n",
    "objective_with_grad = gs.autodiff.value_and_grad(objective, to_numpy=True)\n",
    "\n",
    "resources = total_resources * weights\n",
    "\n",
    "res = minimize(\n",
    "    objective_with_grad,\n",
    "    resources,\n",
    "    method=\"SLSQP\",\n",
    "    constraints=({'type': 'ineq', 'fun': lambda x: total_resources - gs.sum(x)},\n",
    "    {'type': 'ineq', 'fun': lambda x: x.min()},\n",
    "    ),\n",
    "    jac=True,\n",
    "    options={\"disp\": False, \"maxiter\": 100},\n",
    "    tol=gs.atol,\n",
    ")\n",
    "\n",
    "resources = res.x\n",
    "\n",
    "new_points = rebuilding(points, resources)\n",
    "\n",
    "fig = plt.figure(figsize=(16,12))\n",
    "\n",
    "plt.scatter(points[:,0], points[:,1], label = 'original points', s=20)\n",
    "\n",
    "plt.scatter(*original_SP, label = 'original SP', s=50)\n",
    "\n",
    "plt.scatter(new_points[:,0], new_points[:,1], label = 'points after renovation', s=20)\n",
    "\n",
    "for i in range(n_points):\n",
    "    percentage = resources[i] * 100 / total_resources\n",
    "    if percentage > 2:\n",
    "        plt.text(points[i,0], points[i,1], f\"{str(resources[i] * 100 / total_resources)[:5]} %\")\n",
    "    plt.arrow(points[i,0], points[i,1], (new_points - points)[i,0], (new_points - points)[i,1], head_width=.01 linestyle =\"\", length_includes_head = True)\n",
    "\n",
    "new_SP = gs.sum(gs.einsum(\"...,...j->...j\", weights, new_points), axis=0)\n",
    "\n",
    "plt.scatter(*new_SP, label = 'SP after renovation', s=50)\n",
    "\n",
    "plt.arrow(*original_SP, *(new_SP - original_SP), head_width=.05 linestyle = \"-\", length_includes_head = True)\n",
    "\n",
    "plt.xlabel(\"$\\\\kappa$ (number of cars in arbitrary units)\")\n",
    "plt.ylabel(\"$\\\\gamma$ (expected time spent in traffic in hours)\")\n",
    "\n",
    "plt.title(\"Optimization of SP's traffic\")\n",
    "\n",
    "plt.legend()\n",
    "\n",
    "plt.show()"
   ]
  },
  {
   "cell_type": "markdown",
   "metadata": {},
   "source": [
    "Above, the percentages represent the proportion of the total resources that have been allocated to the renovation of each road: they are visible if greater than 2%."
   ]
  },
  {
   "cell_type": "markdown",
   "metadata": {},
   "source": [
    "# Conclusion"
   ]
  },
  {
   "cell_type": "markdown",
   "metadata": {},
   "source": [
    "We have managed to substantially reduce the mean expected congestion time in SP, not at great expense of the lane sizes. We also happen to have reduced the variance of the mean congestion time. This is a great success!"
   ]
  }
 ],
 "metadata": {
  "interpreter": {
   "hash": "bb13ff0fdb59d83d23981f704716babf0aa4691da0c52572c8d02d981125b795"
  },
  "kernelspec": {
   "display_name": "Python 3.10.4 64-bit",
   "language": "python",
   "name": "python3"
  },
  "language_info": {
   "codemirror_mode": {
    "name": "ipython",
    "version": 3
   },
   "file_extension": ".py",
   "mimetype": "text/x-python",
   "name": "python",
   "nbconvert_exporter": "python",
   "pygments_lexer": "ipython3",
   "version": "3.10.4"
  },
  "orig_nbformat": 4
 },
 "nbformat": 4,
 "nbformat_minor": 2
}
