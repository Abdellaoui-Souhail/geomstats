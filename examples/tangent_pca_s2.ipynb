{
 "cells": [
  {
   "cell_type": "code",
   "execution_count": null,
   "metadata": {},
   "outputs": [],
   "source": [
    "\"\"\"\n",
    "Compute the mean of a data set on the sphere.\n",
    "Performs tangent PCA at the mean.\n",
    "\"\"\""
   ]
  },
  {
   "cell_type": "code",
   "execution_count": null,
   "metadata": {},
   "outputs": [],
   "source": [
    "import matplotlib.pyplot as plt\n",
    "import numpy as np\n",
    "\n",
    "import geomstats.visualization as visualization\n",
    "\n",
    "from geomstats.learning.pca import TangentPCA\n",
    "from geomstats.hypersphere import Hypersphere"
   ]
  },
  {
   "cell_type": "code",
   "execution_count": null,
   "metadata": {},
   "outputs": [],
   "source": [
    "sphere = Hypersphere(dimension=2)\n",
    "data = sphere.random_von_mises_fisher(kappa=15, n_samples=140)"
   ]
  },
  {
   "cell_type": "code",
   "execution_count": null,
   "metadata": {},
   "outputs": [],
   "source": [
    "fig = plt.figure(figsize=(15, 5))\n",
    "ax = fig.add_subplot(111)\n",
    "visualization.plot(data, ax, space='S2', color='black', alpha=0.7)\n",
    "plt.show()"
   ]
  },
  {
   "cell_type": "code",
   "execution_count": null,
   "metadata": {},
   "outputs": [],
   "source": [
    "mean = sphere.metric.mean(data)\n",
    "\n",
    "tpca = TangentPCA(metric=sphere.metric, n_components=2)\n",
    "tpca = tpca.fit(data, base_point=mean)\n",
    "tangent_projected_data = tpca.transform(data)"
   ]
  },
  {
   "cell_type": "code",
   "execution_count": null,
   "metadata": {},
   "outputs": [],
   "source": [
    "geodesic_0 = sphere.metric.geodesic(\n",
    "        initial_point=mean,\n",
    "        initial_tangent_vec=tpca.components_[0])\n",
    "geodesic_1 = sphere.metric.geodesic(\n",
    "        initial_point=mean,\n",
    "        initial_tangent_vec=tpca.components_[1])\n",
    "\n",
    "n_steps = 100\n",
    "t = np.linspace(-1, 1, n_steps)\n",
    "geodesic_points_0 = geodesic_0(t)\n",
    "geodesic_points_1 = geodesic_1(t) "
   ]
  },
  {
   "cell_type": "code",
   "execution_count": null,
   "metadata": {},
   "outputs": [],
   "source": [
    "fig = plt.figure(figsize=(15, 5))\n",
    "ax_var = fig.add_subplot(121)\n",
    "xticks = np.arange(1, 2+1, 1)\n",
    "ax_var.xaxis.set_ticks(xticks)\n",
    "ax_var.set_title('Explained variance')\n",
    "ax_var.set_xlabel('Number of Principal Components')\n",
    "ax_var.set_ylim((0, 1))\n",
    "ax_var.plot(xticks, tpca.explained_variance_ratio_)\n",
    "\n",
    "ax = fig.add_subplot(122, projection=\"3d\")\n",
    "\n",
    "visualization.plot(\n",
    "    mean, ax, space='S2', color='darkgreen', s=10)\n",
    "visualization.plot(\n",
    "    geodesic_points_0, ax, space='S2', linewidth=2)\n",
    "visualization.plot(\n",
    "    geodesic_points_1, ax, space='S2', linewidth=2)\n",
    "visualization.plot(\n",
    "    data, ax, space='S2', color='black', alpha=0.7)\n",
    "plt.show()"
   ]
  }
 ],
 "metadata": {
  "kernelspec": {
   "display_name": "Python 3",
   "language": "python",
   "name": "python3"
  }
 },
 "nbformat": 4,
 "nbformat_minor": 2
}
