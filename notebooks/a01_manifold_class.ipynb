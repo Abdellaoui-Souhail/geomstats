{
 "cells": [
  {
   "cell_type": "code",
   "execution_count": 2,
   "id": "ac5b2719",
   "metadata": {},
   "outputs": [
    {
     "name": "stderr",
     "output_type": "stream",
     "text": [
      "INFO: Using numpy backend\n"
     ]
    }
   ],
   "source": [
    "import os\n",
    "import sys\n",
    "import warnings\n",
    "\n",
    "sys.path.append(os.path.dirname(os.getcwd()))\n",
    "warnings.filterwarnings(\"ignore\")\n",
    "\n",
    "import geomstats.backend as gs\n",
    "\n",
    "gs.random.seed(2020)"
   ]
  },
  {
   "cell_type": "markdown",
   "id": "1f4b7295",
   "metadata": {},
   "source": [
    "Welcome to notebook 2! In this notebook, we will discuss manifolds and the manifold class. Geomstats is a software which analyzes data on manifolds, so naturally the manifold class is quite important.\n",
    "\n",
    "You will learn:\n",
    "\n",
    "    1) What is a manifold?\n",
    "    2) Why do we care about manifolds\n",
    "    3) What does the manifold class do?\n",
    "    4) How is the manifold class structured?\n",
    "        5) What is an open set?\n",
    "        6) What is a closed set?\n",
    "        7) What is a tangent space?"
   ]
  },
  {
   "cell_type": "markdown",
   "id": "4083a61a",
   "metadata": {},
   "source": [
    "# What is a manifold?"
   ]
  },
  {
   "cell_type": "markdown",
   "id": "4a60222e",
   "metadata": {},
   "source": [
    "$\\textbf{Intuition:}$ When you are first learning, it can be helpful to think of a manifold as a surface. This surface can have any dimension and any shape as long as it is smooth (in the sense of being continuous and differentiable). For example, a hypersphere is a two dimensional manifold, and we will often use this manifold in examples. This is not a particularly precise definition, but it can be helpful starting point for building intuition. "
   ]
  },
  {
   "cell_type": "markdown",
   "id": "486860d6",
   "metadata": {},
   "source": [
    "$\\textbf{Precise Mathematical Definition:}$ A manifold is a set of points that satisfy a specific set of constraints. More specifically, a nonempty subset M $\\subseteq \\mathbb{R}^{N}$ is a d-dimensional manifold if and only if ANY of the following conditions hold:\n",
    "\n",
    "(1) (Local parametrization) For every $p \\in M$, there are two open subsets $ V \\subseteq \\mathbb{R}^{d}$ and $ U \\subseteq \\mathbb{R}^{N}$ with $p \\in U$ and $0 \\in V$. There is also a smooth function $f: V \\to \\mathbb{R}^{N}$ such that $f(0) = p$, where $f$ is a homeomorphism between V and $U \\cap M$, and $f$ is an immersion at 0.\n",
    "\n",
    "(2) (Local implicit function) For every $p \\in M$, there exists an open set $U \\in \\mathbb{R}^{N}$ and a smooth map $f: U \\to \\mathbb{R}^{N-d}$ that is a submersion at p, such that $U \\cap M = f^{-1}$({0}).\n",
    "\n",
    "(3) (Local Graph) For every $x \\in M$, there exists an open neighborhood $U \\subseteq \\mathbb{R}^{N}$ of $x$, a neighborhood $V \\subseteq \\mathbb{R}^{d}$ of 0 and a smooth map $f: V \\to \\mathbb{R}^{N-d}$ such that $U \\cap M = graph(f)^{2}$"
   ]
  },
  {
   "cell_type": "markdown",
   "id": "8525ff01",
   "metadata": {},
   "source": [
    "$\\textbf{Imprecise \"layman's terms\" Definition:}$ A $\\textbf{manifold}$ is a set of points that satisfy a specific set of constraints. We can translate the above mathematical conditions/constraints into three different ways of describing manifolds:\n",
    "\n",
    "1) a manifold can be understood as a d-dimensional surface described by d variables. For example, a manifold can be described by the smooth function $f(x,y)$ where $x$ and $y$ are two open subsets\n",
    "\n",
    "2) a manifold can be understood as the set of points that verify a constraint defined by an implicit equation, given by the function $f$. (see hypersphere example)\n",
    "\n",
    "3) a manifold is a topological space that locally resembles Euclidean space near each point. For example, consider a two dimensional grid. We would not be able to deform this grid to have the shape of a sphere under any circumstance, but at each $\\textbf{local}$ point on the manifold, we can approximate the space around the point with a euclidian grid."
   ]
  },
  {
   "cell_type": "markdown",
   "id": "5f1386d3",
   "metadata": {},
   "source": [
    "(picture here describing each definition)"
   ]
  },
  {
   "cell_type": "markdown",
   "id": "73978259",
   "metadata": {},
   "source": [
    "Each one of the above precise mathematical definitions is a way of defining a manifold. If a set of points satisfies any of those conditions, then the set of points is considered a manifold. In the following example, we will show that a hypersphere satisfies (2)."
   ]
  },
  {
   "cell_type": "markdown",
   "id": "d1a6966f",
   "metadata": {},
   "source": [
    "### Hypersphere example:"
   ]
  },
  {
   "cell_type": "markdown",
   "id": "e3a40d00",
   "metadata": {},
   "source": [
    "Here, we will consider how to prove that a hypersphere is a manifold using the second condition in the definition of a manifold above (2)."
   ]
  },
  {
   "cell_type": "markdown",
   "id": "c61b4485",
   "metadata": {},
   "source": [
    "A $\\textbf{hypersphere}$ is any of a set of objects resulting from the generalization of a two-dimensional circle and a three-dimensional sphere to n dimensions. In n-dimensional space, a hypersphere is the set of all points that are a given distance, called the radius, from a given point, called the center. For example, a hypersphere in 3-dimensions describes all the points that lie on the surface of a sphere."
   ]
  },
  {
   "cell_type": "markdown",
   "id": "5732d84d",
   "metadata": {},
   "source": [
    "(image here) surface of a sphere"
   ]
  },
  {
   "cell_type": "markdown",
   "id": "ab26c3ae",
   "metadata": {},
   "source": [
    "$\\textbf{How do we know that a hypersphere is a manifold?}$ Well, we know from the definition of a hypersphere that a hypersphere is the set of all points that are a given distance from the center of your coordinate system. For example in 3-dimensions, the surface $S$ of a sphere with radius 1 can be described by the relation: \n",
    "\n",
    "$|x|^{2} = 1$\n",
    "\n",
    "This simply says that all the points must be a distance of 1 away from the center.\n",
    "\n",
    "We can now define a function \n",
    "\n",
    "$f(x) = |x|^{2} - 1$\n",
    "\n",
    "We know that this function $f(x)$ will alwasy equal zero for all points that lie on the surface $S$ becaue in order for a point to fall on the surface $S$ the condition $|x|^{2} = 1$ must be true. In other words,\n",
    "\n",
    "$x \\in S \\iff f(x) = 0$\n",
    "\n",
    "which tells us that \n",
    "\n",
    "$x \\in S \\iff x \\in f^{-1}$({0})\n",
    "\n",
    "This last line matches the definition of a manifold: $M = f^{-1}$({0}) where $M$ is the set of points $x$ that satisfy the condition $|x|^{2} = 1$. Therefore, the set of points that satisfy the condition $|x|^{2} = 1$ form a manifold."
   ]
  },
  {
   "cell_type": "markdown",
   "id": "6427ab8a",
   "metadata": {},
   "source": [
    "#### More examples of manifolds:"
   ]
  },
  {
   "cell_type": "markdown",
   "id": "deb3926b",
   "metadata": {},
   "source": [
    "A hyperphere is one type of manifold, but there are many other types of manifolds that are commonly used and seen in nature. We will show a few examples here to help you build intuition about what a manifold is and what a manifold can look like."
   ]
  },
  {
   "cell_type": "markdown",
   "id": "ad68e5ce",
   "metadata": {},
   "source": [
    "(pictures) show examples of manifolds that were in the book."
   ]
  },
  {
   "cell_type": "markdown",
   "id": "1252dfcb",
   "metadata": {},
   "source": [
    "# Why do we care about manifolds?"
   ]
  },
  {
   "cell_type": "markdown",
   "id": "b70fa3dc",
   "metadata": {},
   "source": [
    "$\\textbf{Manifolds are important because data in nature \"naturally falls on manifolds\"}$, and as we discussed in the introduction section, Knowing the manifold that a data set belongs to may give you more predictive power and a better understanding of the data's evolution. \n",
    "\n",
    "$\\textbf{What does it mean for data to \"naturally fall on a manifold\"?}$ In nature, data are often subject to constraints, and these constraints force the data to lie on manifolds. For example, consider the position of cities on the earth."
   ]
  },
  {
   "cell_type": "markdown",
   "id": "5ec06e21",
   "metadata": {},
   "source": [
    "(picture of cities on earth)"
   ]
  },
  {
   "cell_type": "markdown",
   "id": "ab1ca213",
   "metadata": {},
   "source": [
    "The cities are subject to the following constraints: 1) they cannot fly above the surface of the earth because gravity holds them down and 2) they cannot sink down into the earth because the surface of the earth holds them up. Therefore, they are constrianed to move (or not move) on the surface of a 3-dimensional sphere. This space that they are confined to exist in should sound familiar-- it is the space of a 3-dimensional hypersphere!"
   ]
  },
  {
   "cell_type": "markdown",
   "id": "74e0c2fa",
   "metadata": {},
   "source": [
    "Other data falls on manifolds in similar ways: the data is subject to certain constraints, which forces it to fall on a manifold."
   ]
  },
  {
   "cell_type": "markdown",
   "id": "d55f5fec",
   "metadata": {},
   "source": [
    "# What does the manifold class do?"
   ]
  },
  {
   "cell_type": "markdown",
   "id": "cdce00c5",
   "metadata": {},
   "source": [
    "The manifold class contains information about ___ different types of manifolds, and contains all the properties of a manifold."
   ]
  },
  {
   "cell_type": "markdown",
   "id": "13e555d6",
   "metadata": {},
   "source": [
    "# How is the manifold class structured?"
   ]
  },
  {
   "cell_type": "markdown",
   "id": "0981e6e3",
   "metadata": {},
   "source": [
    "The hierarchal structure of the manifold class is as follows:"
   ]
  },
  {
   "cell_type": "markdown",
   "id": "348717a4",
   "metadata": {},
   "source": [
    "(show structure of manifold class as is in textbook)"
   ]
  },
  {
   "cell_type": "markdown",
   "id": "815af4cb",
   "metadata": {},
   "source": [
    "As discussed in the previous section, the primary purpose of the manifold class is to hold information about various types of manifolds. Rules that are universally true for all manifolds are implemented in methods in the parent class $Manifold$. Rules that are true for some types of manifolds are implemented in the subclasses of $Manifold$: LevelSet, OpenSet, FiberBundle, ProductManifold, VectorSpace, MatrixLieAlgebra, and MatrixLieGroup. Specific types of manifolds are described in methods within these subclasses.\n",
    "\n",
    "In this notebook, we will focus on describing the subclasses pertenant to the geometry module of geomstats: LevelSet, OpenSet, ProductManifold and VectorSpace.\n",
    "\n",
    "In the following subsections, we will discuss the methods and ideas implemented in the parent class and its subclasses"
   ]
  },
  {
   "cell_type": "markdown",
   "id": "36dc5f07",
   "metadata": {},
   "source": [
    "### The parent class: Manifold"
   ]
  },
  {
   "cell_type": "markdown",
   "id": "578faea8",
   "metadata": {},
   "source": [
    "The Manifold parent class is an abstract base class which provides the minimal skeletorn of attributes and methods expected in its subclasses. Note that the methods of the abstract parent class are declared, but they contain no implementation, and they are overridden by the subclasses. The properties that are declared in the manifold class are properties that all types of manifold must posess. For example, the following methods are implemented in Manifold:\n",
    "\n",
    "    1) (dim): Stands for dimension. How many coordinates are necessary to fully describe the manifold?\n",
    "    2) (default_point_type): Expected type of point. Will vectors or matrices be used to describe each type of point?\n",
    "    3) (belongs): a method that evaluates whether a given element belogs to that manifold\n",
    "    4) (is_tangent): evaluates whether a given vector is a tangent vector at a given point\n",
    "    5) (random_point):"
   ]
  },
  {
   "cell_type": "markdown",
   "id": "2fde983a",
   "metadata": {},
   "source": [
    "You can see all of the methods in the Manifold parent class by running the following code:"
   ]
  },
  {
   "cell_type": "markdown",
   "id": "6b2caf9f",
   "metadata": {},
   "source": [
    "import inspect\n",
    "\n",
    "from geomstats.geometry.manifold import Manifold\n",
    "\n",
    "for line in inspect.getsourcelines(Manifold)[0]:\n",
    "    line = line.replace('\\\\n','')\n",
    "    print(line)"
   ]
  },
  {
   "cell_type": "markdown",
   "id": "7ce847b2",
   "metadata": {},
   "source": [
    "### OpenSet"
   ]
  },
  {
   "cell_type": "markdown",
   "id": "3bb824a3",
   "metadata": {},
   "source": [
    "In geomstats, we group our manifolds into several elementary classes of manifolds. These classes represent different ways of describing a manifold. One way to describe a manifold is with the concept of an $\\textbf{Open Set}$: a manifold can be defined as the open sets of a d-dimensional vector space, called $\\textbf{ambient space}$.\n",
    "\n",
    "In mathematics, an open set is a group of numbers that does not include points on the boundary of whatever they are describing. For example, if you were to take the set of all points between 1 and 4 but $\\textbf{not}$ include the values 1 and 4, this would be an open set (shown in a). If you were to take the set of all points between 1 and 4 and include the values 1 and 4, this wouuld be a closed set (shown in b)"
   ]
  },
  {
   "cell_type": "markdown",
   "id": "c4587963",
   "metadata": {},
   "source": [
    "(picture here): open set in a. show timeline without 1 and 4. show notation for open set. b: same for closed set."
   ]
  },
  {
   "cell_type": "markdown",
   "id": "822181bc",
   "metadata": {},
   "source": [
    "Similarly, an open set manifold is a manifold that is not defined at the boundary. For example, an open set manifold could be a sphere that is not defined at the edge of the sphere. "
   ]
  },
  {
   "cell_type": "markdown",
   "id": "2991834b",
   "metadata": {},
   "source": [
    "(picture here)"
   ]
  },
  {
   "cell_type": "markdown",
   "id": "151d22b8",
   "metadata": {},
   "source": [
    "Example of some of the methods that the OpenSet class implements are:\n",
    "\n",
    "    projection: a method to project any d-dimensional vector to the manifold.\n",
    "    is_tangent: checks whether the input vector is tangent at the input point.\n",
    "    to_tangent: projects a vector to a tangent space of the manifold. (a tangent space is made up of all the possible tangent vectors at a particular point on the manifold)."
   ]
  },
  {
   "cell_type": "markdown",
   "id": "40c86d59",
   "metadata": {},
   "source": [
    "Run the code below to see the contents of the OpenSet class."
   ]
  },
  {
   "cell_type": "markdown",
   "id": "878486ab",
   "metadata": {},
   "source": [
    "import inspect\n",
    "\n",
    "from geomstats.geometry.manifold import Manifold, OpenSet\n",
    "\n",
    "for line in inspect.getsourcelines(OpenSet)[0]:\n",
    "    line = line.replace('\\\\n','')\n",
    "    print(line)"
   ]
  },
  {
   "cell_type": "markdown",
   "id": "8b35c4d4",
   "metadata": {},
   "source": [
    "### LevelSet"
   ]
  },
  {
   "cell_type": "markdown",
   "id": "f2b6b387",
   "metadata": {},
   "source": [
    "Another elementary class of manifolds are $\\textbf{Level Sets}$. A level set is the set of values $x$ for which a real-valued function f(x) is equal to a given constant. In other words, a level set is a set of curves for which the fucntion describing a manifold is constant along that curve. A manifold can be defined as the pre-image of the submersion $f: \\mathbb{R}^{N} \\to \\mathbb{R}^{N-d}$. When you are considering a transformation operation, the pre-image is the original appearance of a shape before the transformation. \n",
    "\n",
    "For example, consider a hypersphere in three dimensional space. The hypersphere is a 2-dimensional manifold, so the level set transformation reads $f: \\mathbb{R}^{3} \\to \\mathbb{R}^{1}$. The pre-image of this transformation (the shape that existed before the transformation) is the hypersphere manifold. After the transformation takes place, we are left with the level set of the manifold, which shows a set of concentric circles. These concentric circles tell us the set of values $x$ (the points around each circle) where the function $f(x)= |x|^2-R$ is equal to a constant (where $R$ is the radius of the hypersphere and $f(x)$ is the constraint equation for a hypersphere).  "
   ]
  },
  {
   "cell_type": "markdown",
   "id": "16bd9d4d",
   "metadata": {},
   "source": [
    "(picture here of hypersphere example)"
   ]
  },
  {
   "cell_type": "markdown",
   "id": "b4c2afa0",
   "metadata": {},
   "source": [
    "The methods of LevelSet are similar to the methods of OpenSet. You can run the code below to see the contents of the LevelSet class."
   ]
  },
  {
   "cell_type": "code",
   "execution_count": 18,
   "id": "48c28386",
   "metadata": {},
   "outputs": [
    {
     "name": "stdout",
     "output_type": "stream",
     "text": [
      "class OpenSet(Manifold, abc.ABC):\n",
      "\n",
      "    \"\"\"Class for manifolds that are open sets of a vector space.\n",
      "\n",
      "\n",
      "\n",
      "    In this case, tangent vectors are identified with vectors of the ambient\n",
      "\n",
      "    space.\n",
      "\n",
      "\n",
      "\n",
      "    Parameters\n",
      "\n",
      "    ----------\n",
      "\n",
      "    dim: int\n",
      "\n",
      "        Dimension of the manifold. It is often the same as the ambient space\n",
      "\n",
      "        dimension but may differ in some cases.\n",
      "\n",
      "    ambient_space: VectorSpace\n",
      "\n",
      "        Ambient space that contains the manifold.\n",
      "\n",
      "    \"\"\"\n",
      "\n",
      "\n",
      "\n",
      "    def __init__(self, dim, ambient_space, **kwargs):\n",
      "\n",
      "        if \"default_point_type\" not in kwargs:\n",
      "\n",
      "            kwargs[\"default_point_type\"] = ambient_space.default_point_type\n",
      "\n",
      "        if \"shape\" not in kwargs:\n",
      "\n",
      "            kwargs[\"shape\"] = ambient_space.shape\n",
      "\n",
      "        super().__init__(dim=dim, **kwargs)\n",
      "\n",
      "        self.ambient_space = ambient_space\n",
      "\n",
      "\n",
      "\n",
      "    def is_tangent(self, vector, base_point=None, atol=gs.atol):\n",
      "\n",
      "        \"\"\"Check whether the vector is tangent at base_point.\n",
      "\n",
      "\n",
      "\n",
      "        Parameters\n",
      "\n",
      "        ----------\n",
      "\n",
      "        vector : array-like, shape=[..., dim]\n",
      "\n",
      "            Vector.\n",
      "\n",
      "        base_point : array-like, shape=[..., dim]\n",
      "\n",
      "            Point on the manifold.\n",
      "\n",
      "        atol : float\n",
      "\n",
      "            Absolute tolerance.\n",
      "\n",
      "            Optional, default: backend atol.\n",
      "\n",
      "\n",
      "\n",
      "        Returns\n",
      "\n",
      "        -------\n",
      "\n",
      "        is_tangent : bool\n",
      "\n",
      "            Boolean denoting if vector is a tangent vector at the base point.\n",
      "\n",
      "        \"\"\"\n",
      "\n",
      "        return self.ambient_space.belongs(vector, atol)\n",
      "\n",
      "\n",
      "\n",
      "    def to_tangent(self, vector, base_point=None):\n",
      "\n",
      "        \"\"\"Project a vector to a tangent space of the manifold.\n",
      "\n",
      "\n",
      "\n",
      "        Parameters\n",
      "\n",
      "        ----------\n",
      "\n",
      "        vector : array-like, shape=[..., dim]\n",
      "\n",
      "            Vector.\n",
      "\n",
      "        base_point : array-like, shape=[..., dim]\n",
      "\n",
      "            Point on the manifold.\n",
      "\n",
      "\n",
      "\n",
      "        Returns\n",
      "\n",
      "        -------\n",
      "\n",
      "        tangent_vec : array-like, shape=[..., dim]\n",
      "\n",
      "            Tangent vector at base point.\n",
      "\n",
      "        \"\"\"\n",
      "\n",
      "        return self.ambient_space.projection(vector)\n",
      "\n",
      "\n",
      "\n",
      "    def random_point(self, n_samples=1, bound=1.0):\n",
      "\n",
      "        \"\"\"Sample random points on the manifold.\n",
      "\n",
      "\n",
      "\n",
      "        If the manifold is compact, a uniform distribution is used.\n",
      "\n",
      "\n",
      "\n",
      "        Parameters\n",
      "\n",
      "        ----------\n",
      "\n",
      "        n_samples : int\n",
      "\n",
      "            Number of samples.\n",
      "\n",
      "            Optional, default: 1.\n",
      "\n",
      "        bound : float\n",
      "\n",
      "            Bound of the interval in which to sample for non compact manifolds.\n",
      "\n",
      "            Optional, default: 1.\n",
      "\n",
      "\n",
      "\n",
      "        Returns\n",
      "\n",
      "        -------\n",
      "\n",
      "        samples : array-like, shape=[..., {dim, [n, n]}]\n",
      "\n",
      "            Points sampled on the hypersphere.\n",
      "\n",
      "        \"\"\"\n",
      "\n",
      "        sample = self.ambient_space.random_point(n_samples, bound)\n",
      "\n",
      "        return self.projection(sample)\n",
      "\n",
      "\n",
      "\n",
      "    @abc.abstractmethod\n",
      "\n",
      "    def projection(self, point):\n",
      "\n",
      "        \"\"\"Project a point in ambient manifold on manifold.\n",
      "\n",
      "\n",
      "\n",
      "        Parameters\n",
      "\n",
      "        ----------\n",
      "\n",
      "        point : array-like, shape=[..., dim]\n",
      "\n",
      "            Point in ambient manifold.\n",
      "\n",
      "\n",
      "\n",
      "        Returns\n",
      "\n",
      "        -------\n",
      "\n",
      "        projected : array-like, shape=[..., dim]\n",
      "\n",
      "            Projected point.\n",
      "\n",
      "        \"\"\"\n",
      "\n"
     ]
    }
   ],
   "source": [
    "import inspect\n",
    "\n",
    "from geomstats.geometry.manifold import Manifold\n",
    "from geomstats.geometry.base import OpenSet\n",
    "\n",
    "for line in inspect.getsourcelines(OpenSet)[0]:\n",
    "    line = line.replace('\\\\n','')\n",
    "    print(line)"
   ]
  },
  {
   "cell_type": "markdown",
   "id": "14edde0c",
   "metadata": {},
   "source": [
    "### VectorSpace"
   ]
  },
  {
   "cell_type": "markdown",
   "id": "962d4ac2",
   "metadata": {},
   "source": [
    "This class does not provide another way of describing a manifold. This class is an abstract class that makes sure that the the ambient/embedding vector space is compatible with the methods that are called in $OpenSet$ and $LevelSet$.\n",
    "\n",
    "Actual manifolds are implemented as subclasses of this abstract method and must implement all the abstract methods defined in this class."
   ]
  },
  {
   "cell_type": "markdown",
   "id": "963954ba",
   "metadata": {},
   "source": [
    "You can run the code below to see the contents of the VectorSpace class."
   ]
  },
  {
   "cell_type": "markdown",
   "id": "f25cd6e9",
   "metadata": {},
   "source": [
    "import inspect\n",
    "\n",
    "from geomstats.geometry.manifold import Manifold, OpenSet\n",
    "\n",
    "for line in inspect.getsourcelines(OpenSet)[0]:\n",
    "    line = line.replace('\\\\n','')\n",
    "    print(line)"
   ]
  },
  {
   "cell_type": "markdown",
   "id": "79923105",
   "metadata": {},
   "source": [
    "### ProductManifold"
   ]
  },
  {
   "cell_type": "markdown",
   "id": "addb9c36",
   "metadata": {},
   "source": [
    "A product manifold simply defines a new manifold as the product manifold of n copies of a given base (input) manifold M."
   ]
  },
  {
   "cell_type": "markdown",
   "id": "8e7557bb",
   "metadata": {},
   "source": [
    "You can run the code below to see the contents of the ProductManifold class."
   ]
  },
  {
   "cell_type": "markdown",
   "id": "e954ef9c",
   "metadata": {},
   "source": [
    "import inspect\n",
    "\n",
    "from geomstats.geometry.manifold import Manifold, OpenSet\n",
    "\n",
    "for line in inspect.getsourcelines(OpenSet)[0]:\n",
    "    line = line.replace('\\\\n','')\n",
    "    print(line)"
   ]
  }
 ],
 "metadata": {
  "kernelspec": {
   "display_name": "Python 3 (ipykernel)",
   "language": "python",
   "name": "python3"
  },
  "language_info": {
   "codemirror_mode": {
    "name": "ipython",
    "version": 3
   },
   "file_extension": ".py",
   "mimetype": "text/x-python",
   "name": "python",
   "nbconvert_exporter": "python",
   "pygments_lexer": "ipython3",
   "version": "3.8.12"
  }
 },
 "nbformat": 4,
 "nbformat_minor": 5
}
