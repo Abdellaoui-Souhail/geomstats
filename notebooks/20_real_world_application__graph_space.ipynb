{
 "cells": [
  {
   "cell_type": "markdown",
   "id": "7a855caf",
   "metadata": {},
   "source": [
    "## Graph Space\n",
    "\n",
    "Dear Learner,\n",
    "\n",
    "in this notebook we are going to see gpca and regression in graph space in action. We are going to use two dataset described in:\n",
    "\n"
   ]
  },
  {
   "cell_type": "code",
   "execution_count": null,
   "id": "d3eeda5f",
   "metadata": {},
   "outputs": [],
   "source": [
    "# select the data directory"
   ]
  },
  {
   "cell_type": "code",
   "execution_count": 3,
   "id": "e69a719f",
   "metadata": {},
   "outputs": [],
   "source": [
    "import os\n",
    "import sys\n",
    "import warnings\n",
    "\n",
    "sys.path.append(os.path.dirname(os.getcwd()))\n",
    "warnings.filterwarnings(\"ignore\")\n",
    "\n",
    "import geomstats.backend as gs\n",
    "\n",
    "gs.random.seed(2020)\n",
    "import geomstats.datasets.utils as data_utils\n",
    "\n",
    "from geomstats.geometry.euclidean import EuclideanMetric\n",
    "from geomstats.geometry.stratified.graph_space import (\n",
    "    Graph,\n",
    "    GraphSpace,\n",
    "    GraphSpaceMetric,\n",
    ")\n",
    "from geomstats.learning.aac import AAC\n",
    "import networkx as nx\n",
    "import geomstats.backend as gs\n",
    "import matplotlib.pyplot as plt\n",
    "import random\n",
    "import networkx as nx"
   ]
  },
  {
   "cell_type": "markdown",
   "id": "4fa72769",
   "metadata": {},
   "source": [
    "# GGPCA Mammals Grooming\n",
    "\n",
    "## Motivation and Dataset\n",
    "This case study focuses on how the social interaction between baboons changes after an alpha or beta male is knocked-out from the community. Social interaction is here defined as grooming interaction between members of the group. The dataset consists of a set of $26$ social interaction networks between baboons, where nodes are baboons and edges are the number of grooming interactions between baboons. The networks are naturally unlabelled because the baboons in each network are different, belonging to different groups. Data are available at Rossi et al. (2015), while more details about the case study are available at Franz et al. (2015). Notice that the original dataset was filtered, keeping only the networks with less than $20$ baboons. "
   ]
  },
  {
   "cell_type": "code",
   "execution_count": null,
   "id": "3e231dea",
   "metadata": {},
   "outputs": [],
   "source": [
    "mammals = data_utils.load_mammals()"
   ]
  },
  {
   "cell_type": "markdown",
   "id": "6ec5832a",
   "metadata": {},
   "source": [
    "We visualize one mammals group:"
   ]
  },
  {
   "cell_type": "code",
   "execution_count": null,
   "id": "d0e761f7",
   "metadata": {},
   "outputs": [],
   "source": [
    "mammals.max()"
   ]
  },
  {
   "cell_type": "code",
   "execution_count": null,
   "id": "e8870be6",
   "metadata": {},
   "outputs": [],
   "source": [
    "mammals_obs=nx.from_numpy_matrix(mammals[5])\n",
    "pos=nx.kamada_kawai_layout(mammals_obs)\n",
    "edges,weights = zip(*nx.get_edge_attributes(mammals_obs,'weight').items())\n",
    "\n",
    "pos = nx.spring_layout(mammals_obs)\n",
    "nx.draw_networkx_nodes(mammals_obs, pos, node_color='b', node_size=6)\n",
    "nx.draw_networkx_edges(mammals_obs, pos, edgelist=edges, edge_color=weights, width=2.0, edge_cmap=plt.cm.Blues, edge_vmin=0., edge_vmax=10.)"
   ]
  },
  {
   "cell_type": "markdown",
   "id": "c0bdd0d8",
   "metadata": {},
   "source": [
    "### Frechet Mean\n",
    "We compute the Frechet Mean of the set. We first initialize the graph space with the correct number of nodes (the edjecency matrices have been already padded with zeros), then we intialize the space metric and the parameters for the geodesic alignment. "
   ]
  },
  {
   "cell_type": "code",
   "execution_count": null,
   "id": "d11a7775",
   "metadata": {},
   "outputs": [],
   "source": [
    "graph_space=GraphSpace(n_nodes=mammals.shape[1])\n",
    "gs_m=GraphSpaceMetric(space=graph_space)\n",
    "gs_m.set_matcher('FAQ')\n",
    "gs_m.set_default_p2g_aligner(s_min = mammals.min()-1, s_max= mammals.max() +1)\n",
    "aac_fm=AAC(estimate='frechet', metric=gs_m, max_iter = 300)"
   ]
  },
  {
   "cell_type": "code",
   "execution_count": null,
   "id": "c1a2ce92",
   "metadata": {},
   "outputs": [],
   "source": [
    "aac_fm.fit(mammals)"
   ]
  },
  {
   "cell_type": "code",
   "execution_count": null,
   "id": "4a9f92cf",
   "metadata": {},
   "outputs": [],
   "source": [
    "d = gs_m.dist(aac_fm.estimate_, mammals).sum()"
   ]
  },
  {
   "cell_type": "code",
   "execution_count": null,
   "id": "bde39e0a",
   "metadata": {},
   "outputs": [],
   "source": [
    "d"
   ]
  },
  {
   "cell_type": "code",
   "execution_count": null,
   "id": "880ac969",
   "metadata": {},
   "outputs": [],
   "source": [
    "d"
   ]
  },
  {
   "cell_type": "code",
   "execution_count": null,
   "id": "2c77628f",
   "metadata": {},
   "outputs": [],
   "source": [
    "d"
   ]
  },
  {
   "cell_type": "markdown",
   "id": "c7aa5679",
   "metadata": {},
   "source": [
    "Let's visualize the mean:"
   ]
  },
  {
   "cell_type": "code",
   "execution_count": null,
   "id": "d2fc0623",
   "metadata": {},
   "outputs": [],
   "source": [
    "mammals_fm=nx.from_numpy_array(aac_fm.estimate_)\n",
    "edges,weights = zip(*nx.get_edge_attributes(mammals_fm,'weight').items())\n",
    "\n",
    "nx.draw_networkx_nodes(mammals_fm, pos, node_color='b', node_size=6)\n",
    "nx.draw_networkx_edges(mammals_fm, pos, edgelist=edges, edge_color=weights, width=2.0, edge_cmap=plt.cm.Blues, edge_vmin=0., edge_vmax=10.)"
   ]
  },
  {
   "cell_type": "markdown",
   "id": "712da632",
   "metadata": {},
   "source": [
    "### GGPCA\n",
    "We compute the principal components:"
   ]
  },
  {
   "cell_type": "code",
   "execution_count": null,
   "id": "ca1f0884",
   "metadata": {},
   "outputs": [],
   "source": [
    "aac_ggpca=AAC(estimate='ggpca', metric=gs_m)\n",
    "aac_ggpca.fit(mammals)"
   ]
  },
  {
   "cell_type": "markdown",
   "id": "9238ef84",
   "metadata": {},
   "source": [
    "To visualize the GGPCA we plot the data along the geodesic:"
   ]
  },
  {
   "cell_type": "code",
   "execution_count": null,
   "id": "0c8b180b",
   "metadata": {},
   "outputs": [],
   "source": [
    "aac_ggpca.components_"
   ]
  },
  {
   "cell_type": "code",
   "execution_count": null,
   "id": "509aca51",
   "metadata": {},
   "outputs": [],
   "source": [
    "aac_ggpca.explained_variance_ratio_"
   ]
  },
  {
   "cell_type": "code",
   "execution_count": null,
   "id": "cac4202e",
   "metadata": {},
   "outputs": [],
   "source": [
    "aac_ggpca.metric.p2g_aligner.perm_"
   ]
  },
  {
   "cell_type": "code",
   "execution_count": null,
   "id": "1dc50050",
   "metadata": {},
   "outputs": [],
   "source": []
  },
  {
   "cell_type": "markdown",
   "id": "a530e110",
   "metadata": {},
   "source": [
    "\n",
    "The first geodesic principal components reflect the variability in terms of isolated nodes, the second principal component in terms of density. The example is able to show how the GPC analysis in the Graph Space setting is capturing social interaction changes that the original paper \\cite{babooncs} is not able to capture with standard Euclidean methods. This example is also naturally unlabelled, due to the different baboons in different groups (i.e. different nodes in different networks).\n"
   ]
  },
  {
   "cell_type": "markdown",
   "id": "f97af46f",
   "metadata": {},
   "source": [
    "# GGRegression Fifa 2018 Player Passing Networks\n",
    "\n",
    "## Motivation and Dataset\n",
    "In this last case study, we studied the football players passing network (PPN) (i.e., the number of times two players\n",
    "pass each other the ball throughout the match) as a function of the final match score. The analysis and visualization\n",
    "of the players passing networks has becoming popular in the last years to understand the players network, the teams performance and strategy, and the final score. Using open source database in Stats Bomb, we collect all\n",
    "the PPN of each team in each match for the whole Fifa 2018 World Championship. The dataset contains observations\n",
    "about the 64 matches played (from 14/06/2018 to 15/07/2018) between 32 teams from all over the world."
   ]
  },
  {
   "cell_type": "code",
   "execution_count": 4,
   "id": "885480c4",
   "metadata": {},
   "outputs": [],
   "source": [
    "ppn, scores = data_utils.load_football()"
   ]
  },
  {
   "cell_type": "code",
   "execution_count": 5,
   "id": "7f51cfc7",
   "metadata": {},
   "outputs": [
    {
     "data": {
      "text/plain": [
       "<matplotlib.collections.LineCollection at 0x16395d4ec10>"
      ]
     },
     "execution_count": 5,
     "metadata": {},
     "output_type": "execute_result"
    },
    {
     "data": {
      "image/png": "[encoded data removed]",
      "text/plain": [
       "<Figure size 432x288 with 1 Axes>"
      ]
     },
     "metadata": {},
     "output_type": "display_data"
    }
   ],
   "source": [
    "ppn_obs=nx.from_numpy_matrix(ppn[5])\n",
    "pos=nx.kamada_kawai_layout(ppn_obs)\n",
    "edges,weights = zip(*nx.get_edge_attributes(ppn_obs,'weight').items())\n",
    "\n",
    "pos = nx.spring_layout(ppn_obs)\n",
    "nx.draw_networkx_nodes(ppn_obs, pos, node_color='b', node_size=6)\n",
    "nx.draw_networkx_edges(ppn_obs, pos, edgelist=edges, edge_color=weights, width=2.0, edge_cmap=plt.cm.Blues, edge_vmin=0., edge_vmax=10.)"
   ]
  },
  {
   "cell_type": "code",
   "execution_count": 8,
   "id": "f50c756b",
   "metadata": {},
   "outputs": [
    {
     "name": "stderr",
     "output_type": "stream",
     "text": [
      "WARNING: Maximum number of iterations 20 reached. The estimate may be inaccurate\n"
     ]
    },
    {
     "data": {
      "text/plain": [
       "_AACRegressor(metric=<geomstats.geometry.stratified.graph_space.GraphSpaceMetric object at 0x0000016394777190>,\n",
       "              regressor_kwargs={})"
      ]
     },
     "execution_count": 8,
     "metadata": {},
     "output_type": "execute_result"
    }
   ],
   "source": [
    "graph_space=GraphSpace(n_nodes=ppn.shape[1])\n",
    "gs_m=GraphSpaceMetric(space=graph_space)\n",
    "gs_m.set_matcher('FAQ')\n",
    "aac_reg= AAC(estimate='regression', metric=gs_m)\n",
    "aac_reg.fit(X=gs.expand_dims(scores, axis=1), y= ppn)"
   ]
  },
  {
   "cell_type": "markdown",
   "id": "0f857a8b",
   "metadata": {},
   "source": [
    "### References:\n",
    " \n",
    "Franz, M., Altmann, J., & Alberts, S. C. (2015). Knockouts of high-ranking males have limited impact on baboon social networks. Current Zoology, 61(1), 107-113.\n",
    "\n",
    "S. S. Ltd, Statsbomb open data, https://github.com/statsbomb/open-data (2018).\n",
    "\n",
    "Rossi, R., & Ahmed, N. (2015, March). The network data repository with interactive graph analytics and visualization. In Twenty-ninth AAAI conference on artificial intelligence.\n"
   ]
  }
 ],
 "metadata": {
  "kernelspec": {
   "display_name": "Python 3 (ipykernel)",
   "language": "python",
   "name": "python3"
  },
  "language_info": {
   "codemirror_mode": {
    "name": "ipython",
    "version": 3
   },
   "file_extension": ".py",
   "mimetype": "text/x-python",
   "name": "python",
   "nbconvert_exporter": "python",
   "pygments_lexer": "ipython3",
   "version": "3.9.6"
  }
 },
 "nbformat": 4,
 "nbformat_minor": 5
}
