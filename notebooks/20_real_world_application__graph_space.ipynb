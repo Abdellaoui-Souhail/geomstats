{
 "cells": [
  {
   "cell_type": "markdown",
   "id": "a0ef2056",
   "metadata": {},
   "source": [
    "## Graph Space\n",
    "\n",
    "Dear Learner,\n",
    "\n",
    "in this notebook we are going to see gpca and regression in graph space in action. We are going to use two dataset described in:\n",
    "\n"
   ]
  },
  {
   "cell_type": "code",
   "execution_count": null,
   "id": "c61a5812",
   "metadata": {},
   "outputs": [],
   "source": [
    "import os\n",
    "import sys\n",
    "import warnings\n",
    "\n",
    "sys.path.append(os.path.dirname(os.getcwd()))\n",
    "warnings.filterwarnings(\"ignore\")\n",
    "\n",
    "import geomstats.backend as gs\n",
    "\n",
    "gs.random.seed(2020)\n",
    "import geomstats.datasets.utils as data_utils\n",
    "\n",
    "from geomstats.geometry.euclidean import EuclideanMetric\n",
    "from geomstats.geometry.stratified.graph_space import (\n",
    "    Graph,\n",
    "    GraphSpace,\n",
    "    GraphSpaceMetric,\n",
    ")\n",
    "from geomstats.learning.aac import AAC\n",
    "import networkx as nx\n",
    "import geomstats.backend as gs\n",
    "import matplotlib.pyplot as plt\n",
    "import random\n",
    "import networkx as nx"
   ]
  },
  {
   "cell_type": "markdown",
   "id": "64ef7457",
   "metadata": {},
   "source": [
    "# GGPCA Mammals Grooming\n",
    "\n",
    "## Motivation and Dataset\n",
    "This case study focuses on how the social interaction between baboons changes after an alpha or beta male is knocked-out from the community. Social interaction is here defined as grooming interaction between members of the group. The dataset consists of a set of $26$ social interaction networks between baboons, where nodes are baboons and edges are the number of grooming interactions between baboons. The networks are naturally unlabelled because the baboons in each network are different, belonging to different groups. Data are available at Rossi et al. (2015), while more details about the case study are available at Franz et al. (2015). Notice that the original dataset was filtered, keeping only the networks with less than $20$ baboons. "
   ]
  },
  {
   "cell_type": "code",
   "execution_count": null,
   "id": "b01d6720",
   "metadata": {},
   "outputs": [],
   "source": [
    "mammals = data_utils.load_mammals()"
   ]
  },
  {
   "cell_type": "markdown",
   "id": "08c2f1b1",
   "metadata": {},
   "source": [
    "We visualize one mammals group:"
   ]
  },
  {
   "cell_type": "code",
   "execution_count": null,
   "id": "4087c88e",
   "metadata": {},
   "outputs": [],
   "source": [
    "mammals.max()"
   ]
  },
  {
   "cell_type": "code",
   "execution_count": null,
   "id": "f3fc6692",
   "metadata": {},
   "outputs": [],
   "source": [
    "mammals_obs=nx.from_numpy_matrix(mammals[5])\n",
    "pos=nx.kamada_kawai_layout(mammals_obs)\n",
    "edges,weights = zip(*nx.get_edge_attributes(mammals_obs,'weight').items())\n",
    "\n",
    "pos = nx.spring_layout(mammals_obs)\n",
    "nx.draw_networkx_nodes(mammals_obs, pos, node_color='b', node_size=6)\n",
    "nx.draw_networkx_edges(mammals_obs, pos, edgelist=edges, edge_color=weights, width=2.0, edge_cmap=plt.cm.Blues, edge_vmin=0., edge_vmax=10.)"
   ]
  },
  {
   "cell_type": "markdown",
   "id": "cf34f056",
   "metadata": {},
   "source": [
    "### Frechet Mean\n",
    "We compute the Frechet Mean of the set. We first initialize the graph space with the correct number of nodes (the edjecency matrices have been already padded with zeros), then we intialize the space metric and the parameters for the geodesic alignment. "
   ]
  },
  {
   "cell_type": "code",
   "execution_count": null,
   "id": "0c3bf479",
   "metadata": {},
   "outputs": [],
   "source": [
    "graph_space=GraphSpace(n_nodes=mammals.shape[1])\n",
    "gs_m=GraphSpaceMetric(space=graph_space)\n",
    "gs_m.set_matcher('FAQ')\n",
    "gs_m.set_default_p2g_aligner(s_min = mammals.min()-1, s_max= mammals.max() +1)\n",
    "aac_fm=AAC(estimate='frechet', metric=gs_m, max_iter = 300)"
   ]
  },
  {
   "cell_type": "code",
   "execution_count": null,
   "id": "53859145",
   "metadata": {},
   "outputs": [],
   "source": [
    "aac_fm.fit(mammals)"
   ]
  },
  {
   "cell_type": "code",
   "execution_count": null,
   "id": "97f74987",
   "metadata": {},
   "outputs": [],
   "source": [
    "d = gs_m.dist(aac_fm.estimate_, mammals).sum()"
   ]
  },
  {
   "cell_type": "code",
   "execution_count": null,
   "id": "557a6bd0",
   "metadata": {},
   "outputs": [],
   "source": [
    "d"
   ]
  },
  {
   "cell_type": "code",
   "execution_count": null,
   "id": "0670326e",
   "metadata": {},
   "outputs": [],
   "source": [
    "d"
   ]
  },
  {
   "cell_type": "code",
   "execution_count": null,
   "id": "06e7a6df",
   "metadata": {},
   "outputs": [],
   "source": [
    "d"
   ]
  },
  {
   "cell_type": "markdown",
   "id": "f35d8b92",
   "metadata": {},
   "source": [
    "Let's visualize the mean:"
   ]
  },
  {
   "cell_type": "code",
   "execution_count": null,
   "id": "12a337b8",
   "metadata": {},
   "outputs": [],
   "source": [
    "mammals_fm=nx.from_numpy_array(aac_fm.estimate_)\n",
    "edges,weights = zip(*nx.get_edge_attributes(mammals_fm,'weight').items())\n",
    "\n",
    "nx.draw_networkx_nodes(mammals_fm, pos, node_color='b', node_size=6)\n",
    "nx.draw_networkx_edges(mammals_fm, pos, edgelist=edges, edge_color=weights, width=2.0, edge_cmap=plt.cm.Blues, edge_vmin=0., edge_vmax=10.)"
   ]
  },
  {
   "cell_type": "markdown",
   "id": "7c5f69fe",
   "metadata": {},
   "source": [
    "### GGPCA\n",
    "We compute the principal components:"
   ]
  },
  {
   "cell_type": "code",
   "execution_count": null,
   "id": "cc53659b",
   "metadata": {},
   "outputs": [],
   "source": [
    "aac_ggpca=AAC(estimate='ggpca', metric=gs_m)\n",
    "aac_ggpca.fit(mammals)"
   ]
  },
  {
   "cell_type": "markdown",
   "id": "f725e327",
   "metadata": {},
   "source": [
    "To visualize the GGPCA we plot the data along the geodesic:"
   ]
  },
  {
   "cell_type": "code",
   "execution_count": null,
   "id": "b33e4dc1",
   "metadata": {},
   "outputs": [],
   "source": [
    "aac_ggpca.components_"
   ]
  },
  {
   "cell_type": "code",
   "execution_count": null,
   "id": "9292da59",
   "metadata": {},
   "outputs": [],
   "source": [
    "aac_ggpca.explained_variance_ratio_"
   ]
  },
  {
   "cell_type": "code",
   "execution_count": null,
   "id": "f485d960",
   "metadata": {},
   "outputs": [],
   "source": [
    "aac_ggpca.metric.p2g_aligner.perm_"
   ]
  },
  {
   "cell_type": "code",
   "execution_count": null,
   "id": "f5439c47",
   "metadata": {},
   "outputs": [],
   "source": []
  },
  {
   "cell_type": "markdown",
   "id": "c8676941",
   "metadata": {},
   "source": [
    "\n",
    "The first geodesic principal components reflect the variability in terms of isolated nodes, the second principal component in terms of density. The example is able to show how the GPC analysis in the Graph Space setting is capturing social interaction changes that the original paper \\cite{babooncs} is not able to capture with standard Euclidean methods. This example is also naturally unlabelled, due to the different baboons in different groups (i.e. different nodes in different networks).\n"
   ]
  },
  {
   "cell_type": "markdown",
   "id": "05973829",
   "metadata": {},
   "source": [
    "# GGRegression Fifa 2018 Player Passing Networks\n",
    "\n",
    "## Motivation and Dataset\n",
    "In this last case study, we studied the football players passing network (PPN) (i.e., the number of times two players\n",
    "pass each other the ball throughout the match) as a function of the final match score. The analysis and visualization\n",
    "of the players passing networks has becoming popular in the last years to understand the players network, the teams performance and strategy, and the final score. Using open source database in Stats Bomb, we collect all\n",
    "the PPN of each team in each match for the whole Fifa 2018 World Championship. The dataset contains observations\n",
    "about the 64 matches played (from 14/06/2018 to 15/07/2018) between 32 teams from all over the world."
   ]
  },
  {
   "cell_type": "code",
   "execution_count": null,
   "id": "0246fe07",
   "metadata": {},
   "outputs": [],
   "source": [
    "ppn, scores = data_utils.load_football()"
   ]
  },
  {
   "cell_type": "code",
   "execution_count": null,
   "id": "66efc427",
   "metadata": {},
   "outputs": [],
   "source": [
    "ppn_obs=nx.from_numpy_matrix(ppn[5])\n",
    "pos=nx.kamada_kawai_layout(ppn_obs)\n",
    "edges,weights = zip(*nx.get_edge_attributes(ppn_obs,'weight').items())\n",
    "\n",
    "pos = nx.spring_layout(ppn_obs)\n",
    "nx.draw_networkx_nodes(ppn_obs, pos, node_color='b', node_size=6)\n",
    "nx.draw_networkx_edges(ppn_obs, pos, edgelist=edges, edge_color=weights, width=2.0, edge_cmap=plt.cm.Blues, edge_vmin=0., edge_vmax=10.)"
   ]
  },
  {
   "cell_type": "code",
   "execution_count": null,
   "id": "45928cd2",
   "metadata": {},
   "outputs": [],
   "source": [
    "graph_space=GraphSpace(n_nodes=ppn.shape[1])\n",
    "gs_m=GraphSpaceMetric(space=graph_space)\n",
    "gs_m.set_matcher('FAQ')\n",
    "aac_reg= AAC(estimate='regression', metric=gs_m)\n",
    "aac_reg.fit(X=gs.expand_dims(scores, axis=1), y= ppn)"
   ]
  },
  {
   "cell_type": "markdown",
   "id": "8726912e",
   "metadata": {},
   "source": [
    "### References:\n",
    " \n",
    "Franz, M., Altmann, J., & Alberts, S. C. (2015). Knockouts of high-ranking males have limited impact on baboon social networks. Current Zoology, 61(1), 107-113.\n",
    "\n",
    "S. S. Ltd, Statsbomb open data, https://github.com/statsbomb/open-data (2018).\n",
    "\n",
    "Rossi, R., & Ahmed, N. (2015, March). The network data repository with interactive graph analytics and visualization. In Twenty-ninth AAAI conference on artificial intelligence.\n"
   ]
  }
 ],
 "metadata": {
  "kernelspec": {
   "display_name": "Python 3 (ipykernel)",
   "language": "python",
   "name": "python3"
  },
  "language_info": {
   "codemirror_mode": {
    "name": "ipython",
    "version": 3
   },
   "file_extension": ".py",
   "mimetype": "text/x-python",
   "name": "python",
   "nbconvert_exporter": "python",
   "pygments_lexer": "ipython3",
   "version": "3.9.6"
  }
 },
 "nbformat": 4,
 "nbformat_minor": 5
}
