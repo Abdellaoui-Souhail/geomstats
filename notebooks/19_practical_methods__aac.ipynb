{
 "cells": [
  {
   "cell_type": "markdown",
   "id": "87d91a42",
   "metadata": {},
   "source": [
    "# Align all and Compute for Graphs\n",
    "\n",
    "$\\textbf{Lead Author: Anna Calissano}$"
   ]
  },
  {
   "cell_type": "markdown",
   "id": "0e4098a0",
   "metadata": {},
   "source": [
    "Dear learner, \n",
    "\n",
    "the aim of the current notebook is to introduce the align all and compute as a learning method for graphs. The align all and compute allows to estimate the Frechet Mean, the Generalized Geodesic Principal Components and the Regression. In this notebook you will learn how use all the learning methods."
   ]
  },
  {
   "cell_type": "code",
   "execution_count": null,
   "id": "319481d6",
   "metadata": {},
   "outputs": [],
   "source": [
    "import os\n",
    "import sys\n",
    "import warnings\n",
    "\n",
    "sys.path.append(os.path.dirname(os.getcwd()))\n",
    "warnings.filterwarnings(\"ignore\")\n",
    "\n",
    "import geomstats.backend as gs\n",
    "\n",
    "gs.random.seed(2020)\n",
    "\n",
    "from geomstats.geometry.euclidean import EuclideanMetric\n",
    "from geomstats.geometry.symmetric_matrices import SymmetricMatrices, MatricesMetric\n",
    "from geomstats.geometry.stratified.graph_space import (\n",
    "    GraphPoint,\n",
    "    GraphSpace,\n",
    "    GraphSpaceMetric,\n",
    ")\n",
    "from geomstats.learning.aac import AAC\n",
    "import networkx as nx\n",
    "import geomstats.backend as gs\n",
    "import matplotlib.pyplot as plt\n",
    "import random"
   ]
  },
  {
   "cell_type": "markdown",
   "id": "e476384d",
   "metadata": {},
   "source": [
    "Step 1. Importing or simulating a set of graphs. Here we use networkx as a package to simulate the data."
   ]
  },
  {
   "cell_type": "code",
   "execution_count": null,
   "id": "5d2c46cb",
   "metadata": {},
   "outputs": [],
   "source": [
    "graphset_1= gs.array([nx.to_numpy_matrix(nx.erdos_renyi_graph(n=5,p=0.6,directed=True)) for i in range(10)])\n",
    "graphset_2= gs.array([nx.to_numpy_matrix(nx.erdos_renyi_graph(n=5,p=0.6,directed=True)) for i in range(100)])\n",
    "graphset_3= gs.array([nx.to_numpy_matrix(nx.erdos_renyi_graph(n=3,p=0.6,directed=True)) for i in range(1000)])\n"
   ]
  },
  {
   "cell_type": "markdown",
   "id": "2c9656d1",
   "metadata": {},
   "source": [
    "Step 2. Initializing the embedding space and the metric. In this example we select the euclidean metric as the one compatible with both the GGPCA and Regression model."
   ]
  },
  {
   "cell_type": "code",
   "execution_count": null,
   "id": "3c345642",
   "metadata": {},
   "outputs": [],
   "source": [
    "graph_space = GraphSpace(n_nodes= 5)\n",
    "graph_space.n_nodes"
   ]
  },
  {
   "cell_type": "code",
   "execution_count": null,
   "id": "6de742a8",
   "metadata": {},
   "outputs": [],
   "source": [
    "gs_m= GraphSpaceMetric(space=graph_space)\n",
    "gs_m.total_space_metric"
   ]
  },
  {
   "cell_type": "markdown",
   "id": "d766dd07",
   "metadata": {},
   "source": [
    "### Understanding the metric"
   ]
  },
  {
   "cell_type": "code",
   "execution_count": null,
   "id": "b4b5d2dd",
   "metadata": {},
   "outputs": [],
   "source": [
    "gs_m.set_aligner('FAQ')"
   ]
  },
  {
   "cell_type": "markdown",
   "id": "a8656a77",
   "metadata": {},
   "source": [
    "Given the FAQ alignment and the default Frobenious norm, we match two graphs and a set of graphs to a base graph:"
   ]
  },
  {
   "cell_type": "code",
   "execution_count": null,
   "id": "4074d7e9",
   "metadata": {},
   "outputs": [],
   "source": [
    "perm=gs_m.align_point_to_point(base_graph= graphset_1[0], graph_to_permute =graphset_1[1])\n",
    "gs_m.align_point_to_point(base_graph= graphset_1[0], graph_to_permute =graphset_1[1:3])"
   ]
  },
  {
   "cell_type": "markdown",
   "id": "5d7bfb1e",
   "metadata": {},
   "source": [
    "To compute the metric we can either call the distance function:"
   ]
  },
  {
   "cell_type": "code",
   "execution_count": null,
   "id": "abe70991",
   "metadata": {},
   "outputs": [],
   "source": [
    "gs_m.dist(graphset_1[0], graphset_1[1])"
   ]
  },
  {
   "cell_type": "markdown",
   "id": "440de4b1",
   "metadata": {},
   "source": [
    "If the matching has been already run, we can permute the graph and use the identity matcher in the distance, to avoid computing the matching twice:"
   ]
  },
  {
   "cell_type": "code",
   "execution_count": null,
   "id": "8fb68953",
   "metadata": {},
   "outputs": [],
   "source": [
    "gs_m.set_aligner('ID')\n",
    "graph_permuted=graph_space.permute(graphset_1[1], perm)\n",
    "gs_m.dist(graphset_1[0], graph_permuted)"
   ]
  },
  {
   "cell_type": "code",
   "execution_count": null,
   "id": "e4d8c95f",
   "metadata": {},
   "outputs": [],
   "source": [
    "gs_m.align_point_to_point(graphset_1[0], graphset_1[1])"
   ]
  },
  {
   "cell_type": "markdown",
   "id": "feecf768",
   "metadata": {},
   "source": [
    "Option 2: change total space metric:"
   ]
  },
  {
   "cell_type": "code",
   "execution_count": null,
   "id": "e67645dd",
   "metadata": {},
   "outputs": [],
   "source": [
    "gs_m.total_space_metric=MatricesMetric(n=5, m=5)"
   ]
  },
  {
   "cell_type": "markdown",
   "id": "dd72b9cc",
   "metadata": {},
   "source": [
    "Step 3. Initializing the align all and compute algorithm as compatible with the given space and metric."
   ]
  },
  {
   "cell_type": "markdown",
   "id": "7dc0c7a5",
   "metadata": {},
   "source": [
    "### Frechet Mean\n",
    "Reference: Calissano, A., Feragen, A., & Vantini, S. (2020). Populations of unlabeled networks: Graph space geometry and geodesic principal components. MOX Report.\n",
    "\n",
    "Given $\\{[X_1], \\dots, [X_k]\\}, [x_i] \\in X/T$, we estimate the Frechet Mean using AAC consisting on two steps:\n",
    "1. Compute $\\hat{X}$ as arithmetic mean of $\\{X_1, \\dots, X_k\\}, X_i \\in X$ \n",
    "2. Using graph to graph alignment to find $\\{X_1, \\dots, X_k\\}, X_i \\in X$ optimally aligned with $\\hat{X}$"
   ]
  },
  {
   "cell_type": "code",
   "execution_count": null,
   "id": "5073938a",
   "metadata": {},
   "outputs": [],
   "source": [
    "aac_fm= AAC(estimate='frechet_mean', metric=gs_m)"
   ]
  },
  {
   "cell_type": "code",
   "execution_count": null,
   "id": "21cc4973",
   "metadata": {},
   "outputs": [],
   "source": [
    "fm =aac_fm.fit(graphset_2)"
   ]
  },
  {
   "cell_type": "code",
   "execution_count": null,
   "id": "76d6e42e",
   "metadata": {},
   "outputs": [],
   "source": [
    "fm.estimate_"
   ]
  },
  {
   "cell_type": "markdown",
   "id": "83e636a5",
   "metadata": {},
   "source": [
    "### Principal Components\n",
    "Reference: Calissano, A., Feragen, A., & Vantini, S. (2020). Populations of unlabeled networks: Graph space geometry and geodesic principal components. MOX Report.\n",
    "\n",
    "We estimate the Generalized Geodesics Principal Components using AAC. Given $\\{[X_1], \\dots, [X_k]\\}, (s_i,[X_i]) \\in X/T $ we are searching for:\n",
    "$$\\gamma: \\mathbb{R}\\rightarrow X/T$$ generalized geodesic principal component capturing the majority of the variability of the dataset. The AAC for ggpca works in two steps: \n",
    "\n",
    "1. finding $\\delta: \\mathbb{R}\\rightarrow X$ principal component in the set of adjecency matrices $\\{X_1, \\dots, X_k\\}, X_i \\in X$ \n",
    "2. finding $\\{X_1, \\dots, X_k\\}, X_i \\in X$ as optimally aligned with respect to $\\gamma$. The estimation required a point to geodesic aligment defined in the metric."
   ]
  },
  {
   "cell_type": "code",
   "execution_count": null,
   "id": "0fa98e37",
   "metadata": {},
   "outputs": [],
   "source": [
    "gs_m= GraphSpaceMetric(space=graph_space)"
   ]
  },
  {
   "cell_type": "code",
   "execution_count": null,
   "id": "41c11987",
   "metadata": {},
   "outputs": [],
   "source": [
    "gs_m.set_point_to_geodesic_aligner('default',s_min=0, s_max=2)"
   ]
  },
  {
   "cell_type": "code",
   "execution_count": null,
   "id": "434fef57",
   "metadata": {},
   "outputs": [],
   "source": [
    "aac_ggpca= AAC(estimate='ggpca', metric=gs_m, n_components=9)"
   ]
  },
  {
   "cell_type": "code",
   "execution_count": null,
   "id": "1e95ce66",
   "metadata": {},
   "outputs": [],
   "source": [
    "aac_ggpca.fit(graphset_3)"
   ]
  },
  {
   "cell_type": "code",
   "execution_count": null,
   "id": "5dd1da5b",
   "metadata": {},
   "outputs": [],
   "source": [
    "graphset_3.shape"
   ]
  },
  {
   "cell_type": "code",
   "execution_count": null,
   "id": "942a3a2d",
   "metadata": {},
   "outputs": [],
   "source": [
    "import geomstats.datasets.utils as data_utils\n",
    "mammals = data_utils.load_mammals()"
   ]
  },
  {
   "cell_type": "code",
   "execution_count": null,
   "id": "fae46db9",
   "metadata": {},
   "outputs": [],
   "source": [
    "gs_m= GraphSpaceMetric(space=GraphSpace(n_nodes=20))"
   ]
  },
  {
   "cell_type": "code",
   "execution_count": null,
   "id": "07f121ef",
   "metadata": {},
   "outputs": [],
   "source": [
    "aac_ggpca.fit(mammals)"
   ]
  },
  {
   "cell_type": "markdown",
   "id": "7c85724c",
   "metadata": {},
   "source": [
    "## Regression\n",
    "Reference: Calissano, A., Feragen, A., & Vantini, S. (2022). Graph-valued regression: Prediction of unlabelled networks in a non-Euclidean graph space. Journal of Multivariate Analysis, 190, 104950.\n",
    "\n",
    "We estimate a graph-to-value regression model to predict graph from scalar or vectors. Given $\\{(s_1,[X_1]), \\dots, (s_k, [X_k])\\}, (s_i,[X_i]) \\in \\mathbb{R}^p\\times X/T $ we are searching for:\n",
    "$$f: \\mathbb{R}^p\\rightarrow X/T$$\n",
    "where $f\\in \\mathcal{F}(X/T)$ is a generalized geodesic regression model, i.e., the canonical projection onto Graph Space of a regression line $h_\\beta : \\mathbb{R}^p\\rightarrow X$ of the form $$h_\\beta(s) = \\sum_{j=1}^{p} \\beta_i s_i$$\n",
    "The AAC algorithm for regression combines the estimation of $h_\\beta$ given $\\{X_1, \\dots, X_k\\}, X_i \\in X$\n",
    "$$\\sum_{i=0}^{k} d_X(h_\\beta(s_i), X_i)$$\n",
    "and the searching for $\\{X_1, \\dots, X_k\\}, X_i \\in X$ optimally aligned with respect to the prediction along the current regression model:\n",
    "$$\\min_{t\\in T}d_X(h_\\beta(s_i),t^TX_it)$$"
   ]
  },
  {
   "cell_type": "code",
   "execution_count": null,
   "id": "6f33d152",
   "metadata": {},
   "outputs": [],
   "source": [
    "s = gs.array([random.randint(0,10) for i in range(10)])"
   ]
  },
  {
   "cell_type": "code",
   "execution_count": null,
   "id": "a4cb1e48",
   "metadata": {},
   "outputs": [],
   "source": [
    "aac_reg= AAC(estimate='regression', metric=gs_m)"
   ]
  },
  {
   "cell_type": "code",
   "execution_count": null,
   "id": "0a2152ae",
   "metadata": {},
   "outputs": [],
   "source": [
    "aac_reg.fit(s,graphset_1)"
   ]
  },
  {
   "cell_type": "code",
   "execution_count": null,
   "id": "9b71203c",
   "metadata": {},
   "outputs": [],
   "source": [
    "aac_reg.regressor.coef_"
   ]
  },
  {
   "cell_type": "code",
   "execution_count": null,
   "id": "b03476b8",
   "metadata": {},
   "outputs": [],
   "source": [
    "aac_reg.regressor.predict(s)"
   ]
  }
 ],
 "metadata": {
  "kernelspec": {
   "display_name": "Python 3 (ipykernel)",
   "language": "python",
   "name": "python3"
  },
  "language_info": {
   "codemirror_mode": {
    "name": "ipython",
    "version": 3
   },
   "file_extension": ".py",
   "mimetype": "text/x-python",
   "name": "python",
   "nbconvert_exporter": "python",
   "pygments_lexer": "ipython3",
   "version": "3.9.6"
  }
 },
 "nbformat": 4,
 "nbformat_minor": 5
}
