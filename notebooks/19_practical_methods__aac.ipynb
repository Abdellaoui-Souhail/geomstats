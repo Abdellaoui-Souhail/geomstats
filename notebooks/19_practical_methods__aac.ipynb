{
 "cells": [
  {
   "cell_type": "markdown",
   "id": "87d91a42",
   "metadata": {},
   "source": [
    "# Align all and Compute for Graphs\n",
    "\n",
    "$\\textbf{Lead Author: Anna Calissano}$"
   ]
  },
  {
   "cell_type": "markdown",
   "id": "0e4098a0",
   "metadata": {},
   "source": [
    "Dear learner, \n",
    "\n",
    "the aim of the current notebook is to introduce the align all and compute as a learning method for graphs. The align all and compute allows to estimate the Frechet Mean, the Generalized Geodesic Principal Components and the Regression. In this notebook you will learn how use all the learning methods."
   ]
  },
  {
   "cell_type": "code",
   "execution_count": 1,
   "id": "319481d6",
   "metadata": {},
   "outputs": [
    {
     "name": "stderr",
     "output_type": "stream",
     "text": [
      "INFO: Using numpy backend\n"
     ]
    }
   ],
   "source": [
    "import os\n",
    "import sys\n",
    "import warnings\n",
    "\n",
    "sys.path.append(os.path.dirname(os.getcwd()))\n",
    "warnings.filterwarnings(\"ignore\")\n",
    "\n",
    "import geomstats.backend as gs\n",
    "\n",
    "gs.random.seed(2020)\n",
    "\n",
    "from geomstats.geometry.euclidean import EuclideanMetric\n",
    "from geomstats.geometry.stratified.graph_space import (\n",
    "    Graph,\n",
    "    GraphSpace,\n",
    "    GraphSpaceMetric,\n",
    ")\n",
    "from geomstats.learning.aac import AAC\n",
    "import networkx as nx\n",
    "import geomstats.backend as gs\n",
    "import matplotlib.pyplot as plt\n",
    "import random"
   ]
  },
  {
   "cell_type": "markdown",
   "id": "e476384d",
   "metadata": {},
   "source": [
    "Step 1. Importing or simulating a set of graphs. Here we use networkx as a package to simulate the data."
   ]
  },
  {
   "cell_type": "code",
   "execution_count": 2,
   "id": "5d2c46cb",
   "metadata": {},
   "outputs": [],
   "source": [
    "graphset_1= gs.array([nx.to_numpy_matrix(nx.erdos_renyi_graph(n=5,p=0.6,directed=True)) for i in range(10)])\n",
    "graphset_2= gs.array([nx.to_numpy_matrix(nx.erdos_renyi_graph(n=5,p=0.6,directed=True)) for i in range(100)])\n",
    "graphset_3= gs.array([nx.to_numpy_matrix(nx.erdos_renyi_graph(n=3,p=0.6,directed=True)) for i in range(1000)])\n"
   ]
  },
  {
   "cell_type": "markdown",
   "id": "2c9656d1",
   "metadata": {},
   "source": [
    "Step 2. Initializing the embedding space and the metric. In this example we select the euclidean metric as the one compatible with both the GGPCA and Regression model."
   ]
  },
  {
   "cell_type": "code",
   "execution_count": 3,
   "id": "3c345642",
   "metadata": {},
   "outputs": [
    {
     "data": {
      "text/plain": [
       "5"
      ]
     },
     "execution_count": 3,
     "metadata": {},
     "output_type": "execute_result"
    }
   ],
   "source": [
    "graph_space = GraphSpace(n_nodes= 5)\n",
    "graph_space.n_nodes"
   ]
  },
  {
   "cell_type": "code",
   "execution_count": 4,
   "id": "6de742a8",
   "metadata": {},
   "outputs": [
    {
     "data": {
      "text/plain": [
       "<geomstats.geometry.matrices.MatricesMetric at 0x1f560e62730>"
      ]
     },
     "execution_count": 4,
     "metadata": {},
     "output_type": "execute_result"
    }
   ],
   "source": [
    "gs_m= GraphSpaceMetric(space=graph_space)\n",
    "gs_m.total_space_metric"
   ]
  },
  {
   "cell_type": "markdown",
   "id": "dd72b9cc",
   "metadata": {},
   "source": [
    "Step 3. Initializing the align all and compute algorithm as compatible with the given space and metric."
   ]
  },
  {
   "cell_type": "markdown",
   "id": "7dc0c7a5",
   "metadata": {},
   "source": [
    "### Frechet Mean\n",
    "Reference: Calissano, A., Feragen, A., & Vantini, S. (2020). Populations of unlabeled networks: Graph space geometry and geodesic principal components. MOX Report.\n",
    "\n",
    "Given $\\{[X_1], \\dots, [X_k]\\}, [x_i] \\in X/T$, we estimate the Frechet Mean using AAC consisting on two steps:\n",
    "1. Compute $\\hat{X}$ as arithmetic mean of $\\{X_1, \\dots, X_k\\}, X_i \\in X$ \n",
    "2. Using graph to graph alignment to find $\\{X_1, \\dots, X_k\\}, X_i \\in X$ optimally aligned with $\\hat{X}$"
   ]
  },
  {
   "cell_type": "code",
   "execution_count": 5,
   "id": "5073938a",
   "metadata": {},
   "outputs": [],
   "source": [
    "aac_fm= AAC(estimate='frechet', metric=gs_m)"
   ]
  },
  {
   "cell_type": "code",
   "execution_count": 7,
   "id": "21cc4973",
   "metadata": {},
   "outputs": [],
   "source": [
    "fm =aac_fm.fit(graphset_2)"
   ]
  },
  {
   "cell_type": "code",
   "execution_count": 8,
   "id": "76d6e42e",
   "metadata": {},
   "outputs": [
    {
     "data": {
      "text/plain": [
       "array([[0.  , 0.63, 0.6 , 0.62, 0.62],\n",
       "       [0.55, 0.  , 0.58, 0.7 , 0.58],\n",
       "       [0.64, 0.61, 0.  , 0.56, 0.65],\n",
       "       [0.62, 0.55, 0.6 , 0.  , 0.61],\n",
       "       [0.65, 0.55, 0.61, 0.67, 0.  ]])"
      ]
     },
     "execution_count": 8,
     "metadata": {},
     "output_type": "execute_result"
    }
   ],
   "source": [
    "fm.mean_estimator.estimate_"
   ]
  },
  {
   "cell_type": "code",
   "execution_count": 9,
   "id": "14a0f28d",
   "metadata": {},
   "outputs": [
    {
     "data": {
      "text/plain": [
       "array([[0.  , 0.63, 0.6 , 0.62, 0.62],\n",
       "       [0.55, 0.  , 0.58, 0.7 , 0.58],\n",
       "       [0.64, 0.61, 0.  , 0.56, 0.65],\n",
       "       [0.62, 0.55, 0.6 , 0.  , 0.61],\n",
       "       [0.65, 0.55, 0.61, 0.67, 0.  ]])"
      ]
     },
     "execution_count": 9,
     "metadata": {},
     "output_type": "execute_result"
    }
   ],
   "source": [
    "fm.estimate_"
   ]
  },
  {
   "cell_type": "markdown",
   "id": "83e636a5",
   "metadata": {},
   "source": [
    "### Principal Components\n",
    "Reference: Calissano, A., Feragen, A., & Vantini, S. (2020). Populations of unlabeled networks: Graph space geometry and geodesic principal components. MOX Report.\n",
    "\n",
    "We estimate the Generalized Geodesics Principal Components using AAC. Given $\\{[X_1], \\dots, [X_k]\\}, (s_i,[X_i]) \\in X/T $ we are searching for:\n",
    "$$\\gamma: \\mathbb{R}\\rightarrow X/T$$ generalized geodesic principal component capturing the majority of the variability of the dataset. The AAC for ggpca works in two steps: \n",
    "\n",
    "1. finding $\\delta: \\mathbb{R}\\rightarrow X$ principal component in the set of adjecency matrices $\\{X_1, \\dots, X_k\\}, X_i \\in X$ \n",
    "2. finding $\\{X_1, \\dots, X_k\\}, X_i \\in X$ as optimally aligned with respect to $\\gamma$. The estimation required a point to geodesic aligment defined in the metric."
   ]
  },
  {
   "cell_type": "code",
   "execution_count": 10,
   "id": "0fa98e37",
   "metadata": {},
   "outputs": [],
   "source": [
    "gs_m= GraphSpaceMetric(space=graph_space)"
   ]
  },
  {
   "cell_type": "code",
   "execution_count": 11,
   "id": "41c11987",
   "metadata": {},
   "outputs": [
    {
     "data": {
      "text/plain": [
       "<geomstats.geometry.stratified.graph_space.PointToGeodesicAligner at 0x1f560e62df0>"
      ]
     },
     "execution_count": 11,
     "metadata": {},
     "output_type": "execute_result"
    }
   ],
   "source": [
    "gs_m.set_p2g_aligner('default',s_min=0, s_max=2)"
   ]
  },
  {
   "cell_type": "code",
   "execution_count": 12,
   "id": "434fef57",
   "metadata": {},
   "outputs": [],
   "source": [
    "aac_ggpca= AAC(estimate='ggpca', metric=gs_m, n_components=9)"
   ]
  },
  {
   "cell_type": "code",
   "execution_count": 13,
   "id": "1e95ce66",
   "metadata": {},
   "outputs": [
    {
     "data": {
      "text/plain": [
       "_AACGGPCA(metric=<geomstats.geometry.stratified.graph_space.GraphSpaceMetric object at 0x000001F534569FA0>,\n",
       "          n_components=9)"
      ]
     },
     "execution_count": 13,
     "metadata": {},
     "output_type": "execute_result"
    }
   ],
   "source": [
    "aac_ggpca.fit(graphset_3)"
   ]
  },
  {
   "cell_type": "code",
   "execution_count": 14,
   "id": "5dd1da5b",
   "metadata": {},
   "outputs": [
    {
     "data": {
      "text/plain": [
       "(1000, 3, 3)"
      ]
     },
     "execution_count": 14,
     "metadata": {},
     "output_type": "execute_result"
    }
   ],
   "source": [
    "graphset_3.shape"
   ]
  },
  {
   "cell_type": "code",
   "execution_count": 15,
   "id": "ce613751",
   "metadata": {},
   "outputs": [
    {
     "data": {
      "text/plain": [
       "array([[0, 1, 2, 3, 4],\n",
       "       [0, 1, 2, 3, 4],\n",
       "       [0, 1, 2, 3, 4],\n",
       "       ...,\n",
       "       [0, 1, 2, 3, 4],\n",
       "       [0, 1, 2, 3, 4],\n",
       "       [0, 1, 2, 3, 4]])"
      ]
     },
     "execution_count": 15,
     "metadata": {},
     "output_type": "execute_result"
    }
   ],
   "source": [
    "aac_ggpca.metric.p2g_aligner.perm_"
   ]
  },
  {
   "cell_type": "markdown",
   "id": "7c85724c",
   "metadata": {},
   "source": [
    "## Regression\n",
    "Reference: Calissano, A., Feragen, A., & Vantini, S. (2022). Graph-valued regression: Prediction of unlabelled networks in a non-Euclidean graph space. Journal of Multivariate Analysis, 190, 104950.\n",
    "\n",
    "We estimate a graph-to-value regression model to predict graph from scalar or vectors. Given $\\{(s_1,[X_1]), \\dots, (s_k, [X_k])\\}, (s_i,[X_i]) \\in \\mathbb{R}^p\\times X/T $ we are searching for:\n",
    "$$f: \\mathbb{R}^p\\rightarrow X/T$$\n",
    "where $f\\in \\mathcal{F}(X/T)$ is a generalized geodesic regression model, i.e., the canonical projection onto Graph Space of a regression line $h_\\beta : \\mathbb{R}^p\\rightarrow X$ of the form $$h_\\beta(s) = \\sum_{j=1}^{p} \\beta_i s_i$$\n",
    "The AAC algorithm for regression combines the estimation of $h_\\beta$ given $\\{X_1, \\dots, X_k\\}, X_i \\in X$\n",
    "$$\\sum_{i=0}^{k} d_X(h_\\beta(s_i), X_i)$$\n",
    "and the searching for $\\{X_1, \\dots, X_k\\}, X_i \\in X$ optimally aligned with respect to the prediction along the current regression model:\n",
    "$$\\min_{t\\in T}d_X(h_\\beta(s_i),t^TX_it)$$"
   ]
  },
  {
   "cell_type": "code",
   "execution_count": 16,
   "id": "6f33d152",
   "metadata": {},
   "outputs": [],
   "source": [
    "s = gs.array([random.randint(0,10) for i in range(10)])"
   ]
  },
  {
   "cell_type": "code",
   "execution_count": 17,
   "id": "a4cb1e48",
   "metadata": {},
   "outputs": [],
   "source": [
    "aac_reg= AAC(estimate='regression', metric=gs_m)"
   ]
  },
  {
   "cell_type": "code",
   "execution_count": 18,
   "id": "0a2152ae",
   "metadata": {},
   "outputs": [
    {
     "data": {
      "text/plain": [
       "_AACRegressor(metric=<geomstats.geometry.stratified.graph_space.GraphSpaceMetric object at 0x000001F534569FA0>,\n",
       "              regressor_kwargs={})"
      ]
     },
     "execution_count": 18,
     "metadata": {},
     "output_type": "execute_result"
    }
   ],
   "source": [
    "aac_reg.fit(s,graphset_1)"
   ]
  },
  {
   "cell_type": "code",
   "execution_count": 19,
   "id": "9b71203c",
   "metadata": {},
   "outputs": [
    {
     "data": {
      "text/plain": [
       "array([[-0.00000000e+00],\n",
       "       [-0.00000000e+00],\n",
       "       [-1.34920635e-01],\n",
       "       [ 2.11640212e-02],\n",
       "       [ 8.46560847e-02],\n",
       "       [ 1.00529101e-01],\n",
       "       [-0.00000000e+00],\n",
       "       [ 7.93650794e-03],\n",
       "       [-1.27687779e-17],\n",
       "       [ 2.64550265e-03],\n",
       "       [-6.87830688e-02],\n",
       "       [ 1.32275132e-02],\n",
       "       [-0.00000000e+00],\n",
       "       [-6.61375661e-02],\n",
       "       [-3.17460317e-02],\n",
       "       [-2.11640212e-02],\n",
       "       [-3.70370370e-02],\n",
       "       [ 1.00529101e-01],\n",
       "       [-0.00000000e+00],\n",
       "       [-5.82010582e-02],\n",
       "       [-5.55555556e-02],\n",
       "       [ 4.49735450e-02],\n",
       "       [ 1.85185185e-02],\n",
       "       [-2.64550265e-03],\n",
       "       [-0.00000000e+00]])"
      ]
     },
     "execution_count": 19,
     "metadata": {},
     "output_type": "execute_result"
    }
   ],
   "source": [
    "aac_reg.regressor.coef_"
   ]
  },
  {
   "cell_type": "code",
   "execution_count": 20,
   "id": "b03476b8",
   "metadata": {},
   "outputs": [
    {
     "data": {
      "text/plain": [
       "array([[[ 0.        ,  0.5       ,  0.22222222,  0.75925926,\n",
       "          1.03703704],\n",
       "        [ 0.98148148,  0.        ,  0.72222222,  0.5       ,\n",
       "          0.40740741],\n",
       "        [ 0.40740741,  0.53703704,  0.        ,  0.31481481,\n",
       "          0.61111111],\n",
       "        [ 0.74074074,  0.7962963 ,  0.98148148,  0.        ,\n",
       "          0.53703704],\n",
       "        [ 0.44444444,  0.92592593,  0.35185185,  0.59259259,\n",
       "          0.        ]],\n",
       "\n",
       "       [[ 0.        ,  0.5       ,  0.8968254 ,  0.65343915,\n",
       "          0.61375661],\n",
       "        [ 0.47883598,  0.        ,  0.68253968,  0.5       ,\n",
       "          0.39417989],\n",
       "        [ 0.75132275,  0.47089947,  0.        ,  0.64550265,\n",
       "          0.76984127],\n",
       "        [ 0.84656085,  0.98148148,  0.47883598,  0.        ,\n",
       "          0.82804233],\n",
       "        [ 0.72222222,  0.7010582 ,  0.25925926,  0.60582011,\n",
       "          0.        ]],\n",
       "\n",
       "       [[ 0.        ,  0.5       ,  0.76190476,  0.67460317,\n",
       "          0.6984127 ],\n",
       "        [ 0.57936508,  0.        ,  0.69047619,  0.5       ,\n",
       "          0.3968254 ],\n",
       "        [ 0.68253968,  0.48412698,  0.        ,  0.57936508,\n",
       "          0.73809524],\n",
       "        [ 0.82539683,  0.94444444,  0.57936508,  0.        ,\n",
       "          0.76984127],\n",
       "        [ 0.66666667,  0.74603175,  0.27777778,  0.6031746 ,\n",
       "          0.        ]],\n",
       "\n",
       "       [[ 0.        ,  0.5       ,  1.03174603,  0.63227513,\n",
       "          0.52910053],\n",
       "        [ 0.37830688,  0.        ,  0.67460317,  0.5       ,\n",
       "          0.39153439],\n",
       "        [ 0.82010582,  0.45767196,  0.        ,  0.71164021,\n",
       "          0.8015873 ],\n",
       "        [ 0.86772487,  1.01851852,  0.37830688,  0.        ,\n",
       "          0.88624339],\n",
       "        [ 0.77777778,  0.65608466,  0.24074074,  0.60846561,\n",
       "          0.        ]],\n",
       "\n",
       "       [[ 0.        ,  0.5       ,  0.76190476,  0.67460317,\n",
       "          0.6984127 ],\n",
       "        [ 0.57936508,  0.        ,  0.69047619,  0.5       ,\n",
       "          0.3968254 ],\n",
       "        [ 0.68253968,  0.48412698,  0.        ,  0.57936508,\n",
       "          0.73809524],\n",
       "        [ 0.82539683,  0.94444444,  0.57936508,  0.        ,\n",
       "          0.76984127],\n",
       "        [ 0.66666667,  0.74603175,  0.27777778,  0.6031746 ,\n",
       "          0.        ]],\n",
       "\n",
       "       [[ 0.        ,  0.5       ,  0.08730159,  0.78042328,\n",
       "          1.12169312],\n",
       "        [ 1.08201058,  0.        ,  0.73015873,  0.5       ,\n",
       "          0.41005291],\n",
       "        [ 0.33862434,  0.55026455,  0.        ,  0.24867725,\n",
       "          0.57936508],\n",
       "        [ 0.71957672,  0.75925926,  1.08201058,  0.        ,\n",
       "          0.47883598],\n",
       "        [ 0.38888889,  0.97089947,  0.37037037,  0.58994709,\n",
       "          0.        ]],\n",
       "\n",
       "       [[ 0.        ,  0.5       ,  0.49206349,  0.71693122,\n",
       "          0.86772487],\n",
       "        [ 0.78042328,  0.        ,  0.70634921,  0.5       ,\n",
       "          0.4021164 ],\n",
       "        [ 0.54497354,  0.51058201,  0.        ,  0.44708995,\n",
       "          0.67460317],\n",
       "        [ 0.78306878,  0.87037037,  0.78042328,  0.        ,\n",
       "          0.65343915],\n",
       "        [ 0.55555556,  0.83597884,  0.31481481,  0.5978836 ,\n",
       "          0.        ]],\n",
       "\n",
       "       [[ 0.        ,  0.5       ,  0.76190476,  0.67460317,\n",
       "          0.6984127 ],\n",
       "        [ 0.57936508,  0.        ,  0.69047619,  0.5       ,\n",
       "          0.3968254 ],\n",
       "        [ 0.68253968,  0.48412698,  0.        ,  0.57936508,\n",
       "          0.73809524],\n",
       "        [ 0.82539683,  0.94444444,  0.57936508,  0.        ,\n",
       "          0.76984127],\n",
       "        [ 0.66666667,  0.74603175,  0.27777778,  0.6031746 ,\n",
       "          0.        ]],\n",
       "\n",
       "       [[ 0.        ,  0.5       ,  1.03174603,  0.63227513,\n",
       "          0.52910053],\n",
       "        [ 0.37830688,  0.        ,  0.67460317,  0.5       ,\n",
       "          0.39153439],\n",
       "        [ 0.82010582,  0.45767196,  0.        ,  0.71164021,\n",
       "          0.8015873 ],\n",
       "        [ 0.86772487,  1.01851852,  0.37830688,  0.        ,\n",
       "          0.88624339],\n",
       "        [ 0.77777778,  0.65608466,  0.24074074,  0.60846561,\n",
       "          0.        ]],\n",
       "\n",
       "       [[ 0.        ,  0.5       , -0.04761905,  0.8015873 ,\n",
       "          1.20634921],\n",
       "        [ 1.18253968,  0.        ,  0.73809524,  0.5       ,\n",
       "          0.41269841],\n",
       "        [ 0.26984127,  0.56349206,  0.        ,  0.18253968,\n",
       "          0.54761905],\n",
       "        [ 0.6984127 ,  0.72222222,  1.18253968,  0.        ,\n",
       "          0.42063492],\n",
       "        [ 0.33333333,  1.01587302,  0.38888889,  0.58730159,\n",
       "          0.        ]]])"
      ]
     },
     "execution_count": 20,
     "metadata": {},
     "output_type": "execute_result"
    }
   ],
   "source": [
    "aac_reg.regressor.predict(s)"
   ]
  }
 ],
 "metadata": {
  "kernelspec": {
   "display_name": "Python 3 (ipykernel)",
   "language": "python",
   "name": "python3"
  },
  "language_info": {
   "codemirror_mode": {
    "name": "ipython",
    "version": 3
   },
   "file_extension": ".py",
   "mimetype": "text/x-python",
   "name": "python",
   "nbconvert_exporter": "python",
   "pygments_lexer": "ipython3",
   "version": "3.9.6"
  }
 },
 "nbformat": 4,
 "nbformat_minor": 5
}
