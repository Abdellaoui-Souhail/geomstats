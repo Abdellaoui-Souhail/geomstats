{
 "cells": [
  {
   "cell_type": "markdown",
   "id": "87d91a42",
   "metadata": {},
   "source": [
    "# Align all and Compute for Graphs\n",
    "\n",
    "$\\textbf{Lead Author: Anna Calissano}$"
   ]
  },
  {
   "cell_type": "markdown",
   "id": "0e4098a0",
   "metadata": {},
   "source": [
    "Dear learner, \n",
    "\n",
    "the aim of the current notebook is to introduce the align all and compute as a learning method for graphs. The align all and compute allows to estimate the Frechet Mean, the Generalized Geodesic Principal Components and the Regression. In this notebook you will learn how use all the learning methods."
   ]
  },
  {
   "cell_type": "code",
   "execution_count": 1,
   "id": "319481d6",
   "metadata": {},
   "outputs": [
    {
     "name": "stderr",
     "output_type": "stream",
     "text": [
      "INFO: Using numpy backend\n"
     ]
    }
   ],
   "source": [
    "import warnings\n",
    "import random\n",
    "\n",
    "import networkx as nx\n",
    "\n",
    "import geomstats.backend as gs\n",
    "\n",
    "from geomstats.geometry.symmetric_matrices import MatricesMetric as SymmetricMatricesMetric\n",
    "from geomstats.geometry.stratified.graph_space import (\n",
    "    GraphSpace,\n",
    "    GraphSpaceMetric,\n",
    ")\n",
    "from geomstats.learning.aac import AAC\n",
    "\n",
    "warnings.filterwarnings(\"ignore\")\n",
    "gs.random.seed(2020)"
   ]
  },
  {
   "cell_type": "markdown",
   "id": "e476384d",
   "metadata": {},
   "source": [
    "Let's start by creating simulated data using `networkx`."
   ]
  },
  {
   "cell_type": "code",
   "execution_count": 2,
   "id": "5d2c46cb",
   "metadata": {},
   "outputs": [],
   "source": [
    "graphset_1 = gs.array([nx.to_numpy_matrix(nx.erdos_renyi_graph(n=5, p=0.6, directed=True)) for i in range(10)])\n",
    "graphset_2 = gs.array([nx.to_numpy_matrix(nx.erdos_renyi_graph(n=5, p=0.6, directed=True)) for i in range(100)])\n",
    "graphset_3 = gs.array([nx.to_numpy_matrix(nx.erdos_renyi_graph(n=3, p=0.6, directed=True)) for i in range(1000)])"
   ]
  },
  {
   "cell_type": "markdown",
   "id": "d766dd07",
   "metadata": {},
   "source": [
    "### A primer in space, metric and aligners"
   ]
  },
  {
   "cell_type": "markdown",
   "id": "e0e65cec",
   "metadata": {},
   "source": [
    "The first step is to create the embedding space and the corresponding metric."
   ]
  },
  {
   "cell_type": "code",
   "execution_count": 3,
   "id": "bade9271",
   "metadata": {},
   "outputs": [],
   "source": [
    "graph_space = GraphSpace(n_nodes=5)\n",
    "\n",
    "gs_m = GraphSpaceMetric(space=graph_space)"
   ]
  },
  {
   "cell_type": "markdown",
   "id": "36336c04",
   "metadata": {},
   "source": [
    "By default, the space comes with a total space (`Matrices`), which in turn comes equipped with a matric (`MatricesMetric`)."
   ]
  },
  {
   "cell_type": "code",
   "execution_count": 4,
   "id": "9f0f2adb",
   "metadata": {},
   "outputs": [
    {
     "data": {
      "text/plain": [
       "<geomstats.geometry.matrices.MatricesMetric at 0x7f9c46581640>"
      ]
     },
     "execution_count": 4,
     "metadata": {},
     "output_type": "execute_result"
    }
   ],
   "source": [
    "graph_space.total_space.metric"
   ]
  },
  {
   "cell_type": "markdown",
   "id": "305a7bf9",
   "metadata": {},
   "source": [
    "(`total_metric` can also be accessed from metric: `gs_m.total_space_metric`.)"
   ]
  },
  {
   "cell_type": "markdown",
   "id": "fdcf2f32",
   "metadata": {},
   "source": [
    "The default aligner is 'ID' (identity), which means the graphs are not permuted. To set 'FAQ', do:"
   ]
  },
  {
   "cell_type": "code",
   "execution_count": 5,
   "id": "aa8debc7",
   "metadata": {},
   "outputs": [
    {
     "data": {
      "text/plain": [
       "<geomstats.geometry.stratified.graph_space.FAQAligner at 0x7f9c0b5436a0>"
      ]
     },
     "execution_count": 5,
     "metadata": {},
     "output_type": "execute_result"
    }
   ],
   "source": [
    "gs_m.set_aligner('FAQ')"
   ]
  },
  {
   "cell_type": "markdown",
   "id": "a8656a77",
   "metadata": {},
   "source": [
    "With the FAQ alignment and the default Frobenious norm, we match two graphs and a set of graphs to a base graph:"
   ]
  },
  {
   "cell_type": "code",
   "execution_count": 6,
   "id": "4074d7e9",
   "metadata": {},
   "outputs": [
    {
     "data": {
      "text/plain": [
       "array([[[0., 1., 0., 0., 0.],\n",
       "        [1., 0., 1., 1., 1.],\n",
       "        [1., 1., 0., 0., 0.],\n",
       "        [1., 0., 1., 0., 1.],\n",
       "        [1., 0., 1., 1., 0.]],\n",
       "\n",
       "       [[0., 0., 0., 1., 0.],\n",
       "        [1., 0., 1., 1., 1.],\n",
       "        [1., 1., 0., 1., 0.],\n",
       "        [1., 1., 1., 0., 0.],\n",
       "        [1., 1., 1., 0., 0.]]])"
      ]
     },
     "execution_count": 6,
     "metadata": {},
     "output_type": "execute_result"
    }
   ],
   "source": [
    "graph_permuted = gs_m.align_point_to_point(base_graph=graphset_1[0], graph_to_permute=graphset_1[1])\n",
    "\n",
    "gs_m.align_point_to_point(base_graph= graphset_1[0], graph_to_permute =graphset_1[1:3])"
   ]
  },
  {
   "cell_type": "markdown",
   "id": "5d7bfb1e",
   "metadata": {},
   "source": [
    "To compute the distance we can either call the distance function:"
   ]
  },
  {
   "cell_type": "code",
   "execution_count": 7,
   "id": "abe70991",
   "metadata": {},
   "outputs": [
    {
     "data": {
      "text/plain": [
       "2.23606797749979"
      ]
     },
     "execution_count": 7,
     "metadata": {},
     "output_type": "execute_result"
    }
   ],
   "source": [
    "gs_m.dist(graphset_1[0], graphset_1[1])"
   ]
  },
  {
   "cell_type": "markdown",
   "id": "440de4b1",
   "metadata": {},
   "source": [
    "Or, if the matching has been already run, we can use the identity matcher in the distance, to avoid computing the matching twice:"
   ]
  },
  {
   "cell_type": "code",
   "execution_count": 8,
   "id": "8fb68953",
   "metadata": {},
   "outputs": [
    {
     "data": {
      "text/plain": [
       "2.23606797749979"
      ]
     },
     "execution_count": 8,
     "metadata": {},
     "output_type": "execute_result"
    }
   ],
   "source": [
    "gs_m.set_aligner('ID')\n",
    "\n",
    "gs_m.dist(graphset_1[0], graph_permuted)"
   ]
  },
  {
   "cell_type": "markdown",
   "id": "f113cc4b",
   "metadata": {},
   "source": [
    "Alternatively, use can use the total space metric instead."
   ]
  },
  {
   "cell_type": "code",
   "execution_count": 9,
   "id": "3b32bc9d",
   "metadata": {},
   "outputs": [
    {
     "data": {
      "text/plain": [
       "2.23606797749979"
      ]
     },
     "execution_count": 9,
     "metadata": {},
     "output_type": "execute_result"
    }
   ],
   "source": [
    "gs_m.total_space_metric.dist(graphset_1[0], graph_permuted)"
   ]
  },
  {
   "cell_type": "markdown",
   "id": "feecf768",
   "metadata": {},
   "source": [
    "We can change the total space metric by doing:"
   ]
  },
  {
   "cell_type": "code",
   "execution_count": 10,
   "id": "e67645dd",
   "metadata": {},
   "outputs": [],
   "source": [
    "gs_m.total_space_metric = SymmetricMatricesMetric(n=5, m=5)"
   ]
  },
  {
   "cell_type": "markdown",
   "id": "9b5edc3b",
   "metadata": {},
   "source": [
    "Or:"
   ]
  },
  {
   "cell_type": "code",
   "execution_count": 11,
   "id": "3a501c11",
   "metadata": {},
   "outputs": [],
   "source": [
    "graph_space.total_space.metric = SymmetricMatricesMetric(n=5, m=5)"
   ]
  },
  {
   "cell_type": "markdown",
   "id": "aefc53f6",
   "metadata": {},
   "source": [
    "For the point to geodesic aligner, there's no default set. In fact, if you try something like `gs_m.align_point_to_geodesic(geodesic, point)`, a (hopefully) meaningful error will be raised, explaining how to set the point to geodesic aligner."
   ]
  },
  {
   "cell_type": "code",
   "execution_count": 12,
   "id": "242626c0",
   "metadata": {},
   "outputs": [
    {
     "data": {
      "text/plain": [
       "<geomstats.geometry.stratified.graph_space.PointToGeodesicAligner at 0x7f9c0b50f730>"
      ]
     },
     "execution_count": 12,
     "metadata": {},
     "output_type": "execute_result"
    }
   ],
   "source": [
    "gs_m.set_point_to_geodesic_aligner(\"default\", s_min=-1., s_max=1., n_points=10)"
   ]
  },
  {
   "cell_type": "code",
   "execution_count": 13,
   "id": "488ff262",
   "metadata": {},
   "outputs": [
    {
     "data": {
      "text/plain": [
       "0.0"
      ]
     },
     "execution_count": 13,
     "metadata": {},
     "output_type": "execute_result"
    }
   ],
   "source": [
    "init_point, end_point = graph_space.random_point(2)\n",
    "\n",
    "geodesic = gs_m.geodesic(init_point, end_point)\n",
    "\n",
    "aligned_init_point = gs_m.align_point_to_geodesic(geodesic, init_point)\n",
    "\n",
    "gs_m.total_space_metric.dist(init_point, aligned_init_point)"
   ]
  },
  {
   "cell_type": "markdown",
   "id": "18fe3623",
   "metadata": {},
   "source": [
    "This short introduction should be enough to set you up for experimenting with the learning algorithms on graphs."
   ]
  },
  {
   "cell_type": "markdown",
   "id": "7dc0c7a5",
   "metadata": {},
   "source": [
    "### Frechet Mean\n",
    "Reference: Calissano, A., Feragen, A., & Vantini, S. (2020). Populations of unlabeled networks: Graph space geometry and geodesic principal components. MOX Report.\n",
    "\n",
    "Given $\\{[X_1], \\dots, [X_k]\\}, [x_i] \\in X/T$, we estimate the Frechet Mean using AAC consisting on two steps:\n",
    "1. Compute $\\hat{X}$ as arithmetic mean of $\\{X_1, \\dots, X_k\\}, X_i \\in X$ \n",
    "2. Using graph to graph alignment to find $\\{X_1, \\dots, X_k\\}, X_i \\in X$ optimally aligned with $\\hat{X}$"
   ]
  },
  {
   "cell_type": "markdown",
   "id": "cfbe01a3",
   "metadata": {},
   "source": [
    "Let's instantiate the graph space and the metric, and set the aligner."
   ]
  },
  {
   "cell_type": "code",
   "execution_count": 14,
   "id": "e1b4b3d1",
   "metadata": {},
   "outputs": [
    {
     "data": {
      "text/plain": [
       "<geomstats.geometry.stratified.graph_space.FAQAligner at 0x7f9c0b543040>"
      ]
     },
     "execution_count": 14,
     "metadata": {},
     "output_type": "execute_result"
    }
   ],
   "source": [
    "graph_space = GraphSpace(n_nodes=5)\n",
    "\n",
    "gs_m = GraphSpaceMetric(space=graph_space)\n",
    "\n",
    "gs_m.set_aligner('FAQ')"
   ]
  },
  {
   "cell_type": "markdown",
   "id": "fa8ede70",
   "metadata": {},
   "source": [
    "And now create the estimator, and fit the data."
   ]
  },
  {
   "cell_type": "code",
   "execution_count": 15,
   "id": "5073938a",
   "metadata": {},
   "outputs": [
    {
     "name": "stderr",
     "output_type": "stream",
     "text": [
      "WARNING: Maximum number of iterations 20 reached. The estimate may be inaccurate\n"
     ]
    },
    {
     "data": {
      "text/plain": [
       "array([[0.  , 0.57, 0.9 , 0.66, 0.48],\n",
       "       [0.86, 0.  , 0.85, 0.87, 0.6 ],\n",
       "       [0.64, 0.17, 0.  , 0.42, 0.2 ],\n",
       "       [0.95, 0.56, 0.89, 0.  , 0.55],\n",
       "       [0.74, 0.08, 0.6 , 0.36, 0.  ]])"
      ]
     },
     "execution_count": 15,
     "metadata": {},
     "output_type": "execute_result"
    }
   ],
   "source": [
    "aac_fm = AAC(estimate='frechet_mean', metric=gs_m)\n",
    "\n",
    "fm = aac_fm.fit(graphset_2)\n",
    "\n",
    "fm.estimate_"
   ]
  },
  {
   "cell_type": "markdown",
   "id": "83e636a5",
   "metadata": {},
   "source": [
    "### Principal Components\n",
    "Reference: Calissano, A., Feragen, A., & Vantini, S. (2020). Populations of unlabeled networks: Graph space geometry and geodesic principal components. MOX Report.\n",
    "\n",
    "We estimate the Generalized Geodesics Principal Components using AAC. Given $\\{[X_1], \\dots, [X_k]\\}, (s_i,[X_i]) \\in X/T $ we are searching for:\n",
    "$$\\gamma: \\mathbb{R}\\rightarrow X/T$$ generalized geodesic principal component capturing the majority of the variability of the dataset. The AAC for ggpca works in two steps: \n",
    "\n",
    "1. finding $\\delta: \\mathbb{R}\\rightarrow X$ principal component in the set of adjecency matrices $\\{X_1, \\dots, X_k\\}, X_i \\in X$ \n",
    "2. finding $\\{X_1, \\dots, X_k\\}, X_i \\in X$ as optimally aligned with respect to $\\gamma$. The estimation required a point to geodesic aligment defined in the metric."
   ]
  },
  {
   "cell_type": "markdown",
   "id": "1386fe6c",
   "metadata": {},
   "source": [
    "As before:"
   ]
  },
  {
   "cell_type": "code",
   "execution_count": 16,
   "id": "c51dea7f",
   "metadata": {},
   "outputs": [
    {
     "data": {
      "text/plain": [
       "<geomstats.geometry.stratified.graph_space.FAQAligner at 0x7f9c0b56da90>"
      ]
     },
     "execution_count": 16,
     "metadata": {},
     "output_type": "execute_result"
    }
   ],
   "source": [
    "graph_space = GraphSpace(n_nodes=5)\n",
    "\n",
    "gs_m = GraphSpaceMetric(space=graph_space)\n",
    "\n",
    "gs_m.set_aligner('FAQ')"
   ]
  },
  {
   "cell_type": "markdown",
   "id": "7d2c0141",
   "metadata": {},
   "source": [
    "For GGPCA, we also need to set the pont to geodesic aligner."
   ]
  },
  {
   "cell_type": "code",
   "execution_count": 17,
   "id": "41c11987",
   "metadata": {},
   "outputs": [
    {
     "data": {
      "text/plain": [
       "<geomstats.geometry.stratified.graph_space.PointToGeodesicAligner at 0x7f9c0b56dd30>"
      ]
     },
     "execution_count": 17,
     "metadata": {},
     "output_type": "execute_result"
    }
   ],
   "source": [
    "gs_m.set_point_to_geodesic_aligner('default', s_min=0, s_max=2)"
   ]
  },
  {
   "cell_type": "markdown",
   "id": "9754a5aa",
   "metadata": {},
   "source": [
    "Again, create the estimator and fit the data."
   ]
  },
  {
   "cell_type": "code",
   "execution_count": 18,
   "id": "434fef57",
   "metadata": {
    "scrolled": false
   },
   "outputs": [
    {
     "data": {
      "text/plain": [
       "_AACGGPCA(metric=<geomstats.geometry.stratified.graph_space.GraphSpaceMetric object at 0x7f9c0b56d130>)"
      ]
     },
     "execution_count": 18,
     "metadata": {},
     "output_type": "execute_result"
    }
   ],
   "source": [
    "aac_ggpca = AAC(estimate='ggpca', metric=gs_m, n_components=2)\n",
    "\n",
    "aac_ggpca.fit(graphset_3)"
   ]
  },
  {
   "cell_type": "markdown",
   "id": "7c85724c",
   "metadata": {},
   "source": [
    "## Regression\n",
    "Reference: Calissano, A., Feragen, A., & Vantini, S. (2022). Graph-valued regression: Prediction of unlabelled networks in a non-Euclidean graph space. Journal of Multivariate Analysis, 190, 104950.\n",
    "\n",
    "We estimate a graph-to-value regression model to predict graph from scalar or vectors. Given $\\{(s_1,[X_1]), \\dots, (s_k, [X_k])\\}, (s_i,[X_i]) \\in \\mathbb{R}^p\\times X/T $ we are searching for:\n",
    "$$f: \\mathbb{R}^p\\rightarrow X/T$$\n",
    "where $f\\in \\mathcal{F}(X/T)$ is a generalized geodesic regression model, i.e., the canonical projection onto Graph Space of a regression line $h_\\beta : \\mathbb{R}^p\\rightarrow X$ of the form $$h_\\beta(s) = \\sum_{j=1}^{p} \\beta_i s_i$$\n",
    "The AAC algorithm for regression combines the estimation of $h_\\beta$ given $\\{X_1, \\dots, X_k\\}, X_i \\in X$\n",
    "$$\\sum_{i=0}^{k} d_X(h_\\beta(s_i), X_i)$$\n",
    "and the searching for $\\{X_1, \\dots, X_k\\}, X_i \\in X$ optimally aligned with respect to the prediction along the current regression model:\n",
    "$$\\min_{t\\in T}d_X(h_\\beta(s_i),t^TX_it)$$"
   ]
  },
  {
   "cell_type": "code",
   "execution_count": 19,
   "id": "893da39b",
   "metadata": {},
   "outputs": [
    {
     "data": {
      "text/plain": [
       "<geomstats.geometry.stratified.graph_space.FAQAligner at 0x7f9c0bfad2b0>"
      ]
     },
     "execution_count": 19,
     "metadata": {},
     "output_type": "execute_result"
    }
   ],
   "source": [
    "graph_space = GraphSpace(n_nodes=5)\n",
    "\n",
    "gs_m = GraphSpaceMetric(space=graph_space)\n",
    "gs_m.set_aligner('FAQ')"
   ]
  },
  {
   "cell_type": "code",
   "execution_count": 20,
   "id": "6f33d152",
   "metadata": {},
   "outputs": [],
   "source": [
    "s = gs.array([random.randint(0,10) for i in range(10)])"
   ]
  },
  {
   "cell_type": "code",
   "execution_count": 21,
   "id": "a4cb1e48",
   "metadata": {},
   "outputs": [],
   "source": [
    "aac_reg = AAC(estimate='regression', metric=gs_m)"
   ]
  },
  {
   "cell_type": "code",
   "execution_count": 22,
   "id": "0a2152ae",
   "metadata": {},
   "outputs": [
    {
     "name": "stderr",
     "output_type": "stream",
     "text": [
      "WARNING: Maximum number of iterations 20 reached. The estimate may be inaccurate\n"
     ]
    },
    {
     "data": {
      "text/plain": [
       "_AACRegressor(metric=<geomstats.geometry.stratified.graph_space.GraphSpaceMetric object at 0x7f9c0bfad7c0>,\n",
       "              total_space_estimator_kwargs={})"
      ]
     },
     "execution_count": 22,
     "metadata": {},
     "output_type": "execute_result"
    }
   ],
   "source": [
    "aac_reg.fit(s, graphset_1)"
   ]
  },
  {
   "cell_type": "code",
   "execution_count": 23,
   "id": "9b71203c",
   "metadata": {},
   "outputs": [
    {
     "data": {
      "text/plain": [
       "array([[ 0.        ],\n",
       "       [-0.02278275],\n",
       "       [ 0.04393816],\n",
       "       [ 0.        ],\n",
       "       [ 0.02359642],\n",
       "       [ 0.00081367],\n",
       "       [ 0.        ],\n",
       "       [ 0.03336046],\n",
       "       [-0.05288853],\n",
       "       [ 0.        ],\n",
       "       [ 0.03336046],\n",
       "       [-0.04719284],\n",
       "       [ 0.        ],\n",
       "       [-0.02115541],\n",
       "       [ 0.07892596],\n",
       "       [-0.04800651],\n",
       "       [ 0.06834825],\n",
       "       [ 0.03336046],\n",
       "       [ 0.        ],\n",
       "       [-0.07160293],\n",
       "       [ 0.        ],\n",
       "       [ 0.02359642],\n",
       "       [-0.06916192],\n",
       "       [-0.01139138],\n",
       "       [ 0.        ]])"
      ]
     },
     "execution_count": 23,
     "metadata": {},
     "output_type": "execute_result"
    }
   ],
   "source": [
    "aac_reg.total_space_estimator.coef_"
   ]
  },
  {
   "cell_type": "code",
   "execution_count": 24,
   "id": "b03476b8",
   "metadata": {},
   "outputs": [
    {
     "data": {
      "text/plain": [
       "17.793453023515845"
      ]
     },
     "execution_count": 24,
     "metadata": {},
     "output_type": "execute_result"
    }
   ],
   "source": [
    "graph_pred = aac_reg.total_space_estimator.predict(s)\n",
    "\n",
    "gs.sum(gs_m.dist(graphset_1, graph_pred))"
   ]
  }
 ],
 "metadata": {
  "backends": [
   "numpy"
  ],
  "kernelspec": {
   "display_name": "Python 3 (ipykernel)",
   "language": "python",
   "name": "python3"
  },
  "language_info": {
   "codemirror_mode": {
    "name": "ipython",
    "version": 3
   },
   "file_extension": ".py",
   "mimetype": "text/x-python",
   "name": "python",
   "nbconvert_exporter": "python",
   "pygments_lexer": "ipython3",
   "version": "3.9.12"
  }
 },
 "nbformat": 4,
 "nbformat_minor": 5
}
