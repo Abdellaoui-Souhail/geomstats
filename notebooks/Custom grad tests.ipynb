{
 "cells": [
  {
   "cell_type": "code",
   "execution_count": 1,
   "id": "b67263e2",
   "metadata": {},
   "outputs": [],
   "source": [
    "import tensorflow as tf"
   ]
  },
  {
   "cell_type": "markdown",
   "id": "4d600936",
   "metadata": {},
   "source": [
    "# Automatic differentiation with GradientTape and g.gradient"
   ]
  },
  {
   "cell_type": "code",
   "execution_count": 2,
   "id": "4a3ebaca",
   "metadata": {},
   "outputs": [],
   "source": [
    "def dummy_func(x):\n",
    "    return tf.math.log(1 + tf.exp(x))"
   ]
  },
  {
   "cell_type": "code",
   "execution_count": 13,
   "id": "127f6984",
   "metadata": {},
   "outputs": [],
   "source": [
    "def hardcoded_grad(x):\n",
    "    return tf.exp(x) / (1 + tf.exp(x))"
   ]
  },
  {
   "cell_type": "code",
   "execution_count": 20,
   "id": "55781375",
   "metadata": {},
   "outputs": [
    {
     "data": {
      "text/plain": [
       "<tf.Tensor: shape=(), dtype=float32, numpy=10.000046>"
      ]
     },
     "execution_count": 20,
     "metadata": {},
     "output_type": "execute_result"
    }
   ],
   "source": [
    "dummy_log1pexp(10.)"
   ]
  },
  {
   "cell_type": "code",
   "execution_count": 19,
   "id": "7558c087",
   "metadata": {},
   "outputs": [
    {
     "data": {
      "text/plain": [
       "<tf.Tensor: shape=(), dtype=float32, numpy=0.9999546>"
      ]
     },
     "execution_count": 19,
     "metadata": {},
     "output_type": "execute_result"
    }
   ],
   "source": [
    "hardcoded_grad(10.)"
   ]
  },
  {
   "cell_type": "code",
   "execution_count": 21,
   "id": "6bff63fc",
   "metadata": {},
   "outputs": [
    {
     "name": "stdout",
     "output_type": "stream",
     "text": [
      "tf.Tensor(0.99995464, shape=(), dtype=float32)\n"
     ]
    }
   ],
   "source": [
    "x = tf.constant(10.)\n",
    "\n",
    "with tf.GradientTape() as g:\n",
    "    g.watch(x)\n",
    "    y = dummy_log1pexp(x)\n",
    "    dy_dx = g.gradient(y, x)\n",
    "print(dy_dx)"
   ]
  },
  {
   "cell_type": "markdown",
   "id": "84a850d7",
   "metadata": {},
   "source": [
    "# Custom gradients"
   ]
  },
  {
   "cell_type": "code",
   "execution_count": 11,
   "id": "8a0984fd",
   "metadata": {},
   "outputs": [],
   "source": [
    "@tf.custom_gradient\n",
    "def log1pexp(x):\n",
    "  e = tf.exp(x)\n",
    "  def grad(upstream):\n",
    "    return upstream * (1 - 1 / (1 + e))\n",
    "  return tf.math.log(1 + e), grad"
   ]
  },
  {
   "cell_type": "code",
   "execution_count": 12,
   "id": "32a2ca06",
   "metadata": {},
   "outputs": [
    {
     "data": {
      "text/plain": [
       "10.000046"
      ]
     },
     "execution_count": 12,
     "metadata": {},
     "output_type": "execute_result"
    }
   ],
   "source": [
    "log1pexp(10.).numpy()"
   ]
  },
  {
   "cell_type": "code",
   "execution_count": 22,
   "id": "a16fcab1",
   "metadata": {},
   "outputs": [
    {
     "name": "stdout",
     "output_type": "stream",
     "text": [
      "<class 'tensorflow.python.framework.ops.EagerTensor'>\n"
     ]
    }
   ],
   "source": [
    "a = log1pexp(10.)\n",
    "print(type(a))"
   ]
  },
  {
   "cell_type": "code",
   "execution_count": 23,
   "id": "35e442f2",
   "metadata": {},
   "outputs": [
    {
     "data": {
      "text/plain": [
       "10.000046"
      ]
     },
     "execution_count": 23,
     "metadata": {},
     "output_type": "execute_result"
    }
   ],
   "source": [
    "a.numpy()"
   ]
  },
  {
   "cell_type": "code",
   "execution_count": 4,
   "id": "ef5fe7bc",
   "metadata": {},
   "outputs": [
    {
     "data": {
      "text/plain": [
       "10.000046"
      ]
     },
     "execution_count": 4,
     "metadata": {},
     "output_type": "execute_result"
    }
   ],
   "source": []
  },
  {
   "cell_type": "code",
   "execution_count": null,
   "id": "b513d2f3",
   "metadata": {},
   "outputs": [],
   "source": [
    "tf.gradients()"
   ]
  }
 ],
 "metadata": {
  "kernelspec": {
   "display_name": "Python 3",
   "language": "python",
   "name": "python3"
  },
  "language_info": {
   "codemirror_mode": {
    "name": "ipython",
    "version": 3
   },
   "file_extension": ".py",
   "mimetype": "text/x-python",
   "name": "python",
   "nbconvert_exporter": "python",
   "pygments_lexer": "ipython3",
   "version": "3.8.8"
  }
 },
 "nbformat": 4,
 "nbformat_minor": 5
}
