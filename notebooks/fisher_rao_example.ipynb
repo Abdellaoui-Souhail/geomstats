{
 "cells": [
  {
   "cell_type": "code",
   "execution_count": 8,
   "id": "b20540f9",
   "metadata": {},
   "outputs": [],
   "source": [
    "import os\n",
    "os.environ[\"GEOMSTATS_BACKEND\"] = \"autograd\"\n",
    "from geomstats.information_geometry.fisher_rao_metric import FisherRaoMetric\n",
    "from geomstats.information_geometry.base import InformationManifoldMixin\n",
    "import geomstats.backend as gs"
   ]
  },
  {
   "cell_type": "code",
   "execution_count": 17,
   "id": "23d2cc24",
   "metadata": {},
   "outputs": [],
   "source": [
    "class MyInformationManifold(InformationManifoldMixin):\n",
    "    def __init__(self):\n",
    "        self.dim = 2\n",
    "    def point_to_pdf(self, point):\n",
    "        means = point[..., 0]\n",
    "        stds = point[..., 1]\n",
    "        def pdf(x):\n",
    "            constant = (1. / gs.sqrt(2 * gs.pi * stds**2))\n",
    "            return constant * gs.exp(-((x - means) ** 2) / (2 * stds**2))\n",
    "        return pdf"
   ]
  },
  {
   "cell_type": "code",
   "execution_count": 18,
   "id": "362ca8cf",
   "metadata": {},
   "outputs": [
    {
     "data": {
      "text/plain": [
       "array([[1.00000000e+00, 1.11022302e-16],\n",
       "       [1.11022302e-16, 2.00000000e+00]])"
      ]
     },
     "execution_count": 18,
     "metadata": {},
     "output_type": "execute_result"
    }
   ],
   "source": [
    "metric = FisherRaoMetric(information_manifold=MyInformationManifold(), support=(-10, 10))\n",
    "metric.metric_matrix(gs.array([1., 1.]))"
   ]
  },
  {
   "cell_type": "code",
   "execution_count": null,
   "id": "8a12d33e",
   "metadata": {},
   "outputs": [],
   "source": []
  },
  {
   "cell_type": "code",
   "execution_count": null,
   "id": "de04410b",
   "metadata": {},
   "outputs": [],
   "source": []
  },
  {
   "cell_type": "code",
   "execution_count": null,
   "id": "f590cf39",
   "metadata": {},
   "outputs": [],
   "source": []
  }
 ],
 "metadata": {
  "kernelspec": {
   "display_name": "Python 3 (ipykernel)",
   "language": "python",
   "name": "python3"
  },
  "language_info": {
   "codemirror_mode": {
    "name": "ipython",
    "version": 3
   },
   "file_extension": ".py",
   "mimetype": "text/x-python",
   "name": "python",
   "nbconvert_exporter": "python",
   "pygments_lexer": "ipython3",
   "version": "3.8.10"
  }
 },
 "nbformat": 4,
 "nbformat_minor": 5
}
