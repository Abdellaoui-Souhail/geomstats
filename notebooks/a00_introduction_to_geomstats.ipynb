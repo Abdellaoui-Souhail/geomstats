{
 "cells": [
  {
   "cell_type": "markdown",
   "id": "90376931",
   "metadata": {},
   "source": [
    "Dear Learner,\n",
    "\n",
    "Welcome. This is a set of notebooks designed to teach you how to use (and hopefully understand) a software package called Geomstats. Geomstats is an open source code that uses concepts from Riemannian Geometry to analyze data that lie on manifolds (what it means for \"data to lie on a manifold\" will be explained in further detail in the next section). Geomstats is one of the first software packages of its kind. Before Geomstats and software packages like it, only people with prior knowledge of Riemannian geometry could analyze data on manifolds. The Geomstats package aims to make this type of data analysis more accessible to people who do not have prioro knowledge of Riemannian geometry. These instructional notebooks word towards Geomstats' goal to foster accessibility."
   ]
  },
  {
   "cell_type": "markdown",
   "id": "c97afd26",
   "metadata": {},
   "source": [
    "For those interested, the following <a href=\"https://www.jmlr.org/papers/volume21/19-027/19-027.pdf\">paper</a> comares Geomstats to other software packages like it (on page 5). "
   ]
  },
  {
   "cell_type": "markdown",
   "id": "6025ab5a",
   "metadata": {},
   "source": [
    "# What is the motivation for analyzing data on manifolds?"
   ]
  },
  {
   "cell_type": "markdown",
   "id": "991d1f57",
   "metadata": {},
   "source": [
    "Many data sets lie on a manifold. Analyzing this data without Riemannain Geometry is often possible, but choosing to analyze data on manifolds is advantageous for three reasons:\n",
    "\n",
    "    1) Analyzing data on the manifold it lies on allows you to reduce the degrees of freedom of the system, making computations less complicated.\n",
    "    2) Knowing the manifold that a data set belongs to may give you more predictive power and a better understanding of the data's evolution.\n",
    "    3) Knowing the manifold a data set lives in will help you extract the \"signal\" from a noisy data set or a data set with very few datapoints."
   ]
  },
  {
   "cell_type": "markdown",
   "id": "4d84c555",
   "metadata": {},
   "source": [
    "### 1) Analyzing data on a manifold reduces the degrees of freedom of the system, making computations less complicated."
   ]
  },
  {
   "cell_type": "markdown",
   "id": "631532a8",
   "metadata": {},
   "source": [
    "The number of $\\textbf{Degrees of Freedom}$ a system has is equivalent to the number of variables needed to describe the system completely. For example, an object moving freely in three dimensions will require three variables to describe it completely $(x,y,z), (\\phi,\\theta, r)$. If you can describe an object's motion in three dimensions, you would not want to use four variables to describe its motion because keeping track of another variable is mentally taxing (if you are solving a problem on paper) and more computationally expensive (if you are solving the problem with a computer). Similarly, if you now know that this free particle is moving on the surface of a sphere, you would want to analyze the particle using two varibles $(\\theta,\\phi)$ instead of three ($\\phi,\\theta,$ r)."
   ]
  },
  {
   "cell_type": "markdown",
   "id": "fa1eca22",
   "metadata": {},
   "source": [
    "<img src=\"figures/intro_degrees_of_freedom.png\" />"
   ]
  },
  {
   "cell_type": "markdown",
   "id": "83cb9d11",
   "metadata": {},
   "source": [
    "This is one of the major motivations behind using manifolds to analyze data. Of course, it is sometimes possible to analyze data without manifolds and Riemannain Geometry, but this will be more complicated and computationally intensive."
   ]
  },
  {
   "cell_type": "markdown",
   "id": "dc917a23",
   "metadata": {},
   "source": [
    "### 2) Knowing the manifold that a data set belongs to may give you more predictive power and a better understanding of the data's evolution."
   ]
  },
  {
   "cell_type": "markdown",
   "id": "c3ee9db9",
   "metadata": {},
   "source": [
    "Objects travelling along a manifold often follow geodescics on that manifold. A geodescic is the shortest distance that a particle can travel in the space that it is in. For example, geodescics in 2D and 3D space follow straight lines because straight lines are the shortest way to get from one point to another. The figure below shows paths between two points in cartesian space. One path ($\\gamma$) follows the geodesic for cartesian coordinates, and the other path ($\\gamma^{'}$) does not follow the geodesic"
   ]
  },
  {
   "cell_type": "markdown",
   "id": "c4fa175e",
   "metadata": {},
   "source": [
    "<img src=\"figures/intro_cartesian_geodesic.png\" />"
   ]
  },
  {
   "cell_type": "markdown",
   "id": "d4f89c6f",
   "metadata": {},
   "source": [
    "However, when an object lies in a higher dimensional curved space, its geodescic will not follow a straight line. For example, if an object is constrained to move along the surface of a sphere, the shortest path between points is not a striaght line, but a curved line. A straight line in 3D space would not lie on the surface of a sphere, so it cannot be the shortest path along the sphere."
   ]
  },
  {
   "cell_type": "markdown",
   "id": "c95315a0",
   "metadata": {},
   "source": [
    "<img src=\"figures/intro_sphere_geodesic.png\" />"
   ]
  },
  {
   "cell_type": "markdown",
   "id": "7bc7d4bc",
   "metadata": {},
   "source": [
    "If you did not know that the object was moving along the surface of the sphere, you would wonder why it is taking such an \"irratic\" path instead of just going straight. The motion of the particles in your system might seem random because you do not understand the space they are moving in. However, if you learn more about the space they are moving in (the surface of a sphere), you would realize that the particles are following very reasonable and predictable paths along geodescics, and this would give you $\\textit{not only}$ a better understanding of how particles have moved in the past but $\\textit{also}$ predictive power to determine how particles will move in the future."
   ]
  },
  {
   "cell_type": "markdown",
   "id": "92d789e5",
   "metadata": {},
   "source": [
    "### 3) Knowing the manifold a data set lives in will help you extract the \"signal\" from a noisy data set or a data set with very few datapoints."
   ]
  },
  {
   "cell_type": "markdown",
   "id": "393b28f9",
   "metadata": {},
   "source": [
    "Let's dissect a \"noisy data set\" case. Let's say that you are measuring the position of a car moving at constant velocity, but you are measuring its position with very bad tools, and your data looks like this. "
   ]
  },
  {
   "cell_type": "markdown",
   "id": "c57e3147",
   "metadata": {},
   "source": [
    "<img src=\"figures/intro_random_points.png\" />"
   ]
  },
  {
   "cell_type": "markdown",
   "id": "f9adc331",
   "metadata": {},
   "source": [
    "How can you get any information from this? It would be very difficult to get information from this if you don't have a model for what the data $\\textit{should}$ look like. But if you know that a car moving at constant velocity should follow the curve $x_f = x_i + v\\Delta t$, then you can get more information from your data by fitting your data to a line with slope v (shown below in (a)). However, if you did not know that your data should follow a straight line, then you might try to fit the data using (b) or (c), and your (incorrect) model would not provide as much predictive power, or you might not be able to extract any information at all. Similarly, knowing the manifold your data lies on can help you extract information from noisy data."
   ]
  },
  {
   "cell_type": "markdown",
   "id": "e892a4e9",
   "metadata": {},
   "source": [
    "<img src=\"figures/intro_point_fits.png\" />"
   ]
  },
  {
   "cell_type": "markdown",
   "id": "f2801cc8",
   "metadata": {},
   "source": [
    "Let's now dissect the \"data set with very few data points\" case, and let's again use the example of a car moving at constant velocity. Let's say you measured the initial position and initial time (first point) and the final position and final time (second point), and saw these two data points."
   ]
  },
  {
   "cell_type": "markdown",
   "id": "da2fdcf4",
   "metadata": {},
   "source": [
    "<img src=\"figures/intro_two_points.png\" />"
   ]
  },
  {
   "cell_type": "markdown",
   "id": "b2706444",
   "metadata": {},
   "source": [
    "If you didn't know that the position of a car moving at constant velocity can be modeled by a line, you might not be able to accurately extrapolate the data beyond these two points. However, because you know that these two points should fall on a line, you can accurately predict where the car will be at a later time."
   ]
  },
  {
   "attachments": {},
   "cell_type": "markdown",
   "id": "2b152b6b",
   "metadata": {},
   "source": [
    "<img src=\"figures/intro_two_point_fits.png\" />"
   ]
  },
  {
   "cell_type": "markdown",
   "id": "988d0e5c",
   "metadata": {},
   "source": [
    "Similarly, if you know the manifold that a data set lies on, you can predict the trajectory of a data point along the manifold."
   ]
  },
  {
   "cell_type": "markdown",
   "id": "b75cda3f",
   "metadata": {},
   "source": [
    "# What will you learn in these tutorials?"
   ]
  },
  {
   "cell_type": "markdown",
   "id": "5cd75c7e",
   "metadata": {},
   "source": [
    "Geomstats is designed to be intuative and user friendly, but having some knowledge about Riemannian Geometry will put you in a good position to understand how to use Geomstats most effectively. Therefore, in the next three notebooks, we will give you an overview of three of the most important parent classes in Geomstats, along with a description of the matematical concepts implemented in each class."
   ]
  },
  {
   "cell_type": "markdown",
   "id": "fb00ea16",
   "metadata": {},
   "source": [
    "We will cover the parent classes:\n",
    "\n",
    "    1) Manifold\n",
    "    2) Connection\n",
    "    3) RiemannianMetric\n",
    "    \n",
    "One instructional notebook will be dedicated to each of these parent classes, starting with Manifold. In each of these notebooks, you should expect to gain an understanding of\n",
    "\n",
    "    1) the structure/hierarchy of the Geomstats code\n",
    "    2) how to perform calculations on manifolds\n",
    "    3) how and where this mathematics is implemented in the code"
   ]
  },
  {
   "cell_type": "markdown",
   "id": "9c5c22f9",
   "metadata": {},
   "source": [
    " # Beginning to build a hierarchal map"
   ]
  },
  {
   "cell_type": "markdown",
   "id": "cfe827e1",
   "metadata": {},
   "source": [
    "Now that we know about these three parent classes, we will begin to draw a hierarchal map of geomstats, which we will build out as we learn more about each parent class."
   ]
  },
  {
   "cell_type": "markdown",
   "id": "c2545baa",
   "metadata": {},
   "source": [
    "<img src=\"figures/intro_hierarchal_map.png\" />"
   ]
  },
  {
   "cell_type": "markdown",
   "id": "e96d68b9",
   "metadata": {},
   "source": [
    "In the next notebook, we will discuss the manifold class."
   ]
  }
 ],
 "metadata": {
  "kernelspec": {
   "display_name": "Python 3 (ipykernel)",
   "language": "python",
   "name": "python3"
  },
  "language_info": {
   "codemirror_mode": {
    "name": "ipython",
    "version": 3
   },
   "file_extension": ".py",
   "mimetype": "text/x-python",
   "name": "python",
   "nbconvert_exporter": "python",
   "pygments_lexer": "ipython3",
   "version": "3.8.12"
  }
 },
 "nbformat": 4,
 "nbformat_minor": 5
}
