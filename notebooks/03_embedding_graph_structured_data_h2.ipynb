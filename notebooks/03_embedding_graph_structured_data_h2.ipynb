{
 "cells": [
  {
   "cell_type": "markdown",
   "metadata": {},
   "source": [
    "# Embedding Graph-Structured Data on Manifolds"
   ]
  },
  {
   "cell_type": "markdown",
   "metadata": {},
   "source": [
    "## Introduction"
   ]
  },
  {
   "cell_type": "markdown",
   "metadata": {},
   "source": [
    "From social networks to parse trees, knowledge graphs to protein interaction networks, Graph-Structured Data is endemic to a wide variety of natural and engineered systems. Often, understanding the structure and/or dynamics of these graphs yields insight into the systems under investigation. Take, for example, the problems of finding key influencers or distinct communities within social networks. \n",
    "\n",
    "The goal of graph embedding is to find a way of representing the graph in a space which more readily lends itself to analysis/investigation. One approach is to identify points in a vector space with nodes of the graph in such a way that important relations between nodes are preserved via relations between their corresponding points.\n",
    "\n",
    "There are a wide variety of methods which approach this problem in different ways and for different aims, say for clustering or for link prediction. Recently, the embedding of Graph Structured Data (GSD) on manifolds has received considerable attention. In particular, much work has shown that hyperbolic spaces are beneficial for a wide variety of tasks with GSD. This tutorial shows how to learn such embeddings using the Poincaré Ball manifold and the well-known 'Karate Club' social network dataset with `geomstats`. This data and several others can be found in the `datasets.data` module of the project's github repository. "
   ]
  },
  {
   "cell_type": "markdown",
   "metadata": {},
   "source": [
    "![KarateEmbedding](figures/karate_embedding_iterations.gif \"segment\")\n",
    "*Learning a Poincaré disk embedding of the Karate club graph dataset*"
   ]
  },
  {
   "cell_type": "markdown",
   "metadata": {},
   "source": [
    "## Setup\n",
    "\n",
    "\n",
    "We start by importing standard tools for logging and visualization, allowing us to draw the embedding of the GSD on the manifold. Next, we import the manifold of interest, visualization tools, and other methods from `geomstats`."
   ]
  },
  {
   "cell_type": "code",
   "execution_count": 1,
   "metadata": {
    "pycharm": {
     "is_executing": false,
     "name": "#%%\n"
    }
   },
   "outputs": [
    {
     "name": "stderr",
     "text": [
      "INFO: Using numpy backend\n"
     ],
     "output_type": "stream"
    }
   ],
   "source": [
    "import logging\n",
    "import matplotlib.pyplot as plt\n",
    "\n",
    "import geomstats.backend as gs\n",
    "import geomstats.visualization as visualization\n",
    "\n",
    "from geomstats.datasets.utils import load_karate_graph\n",
    "from geomstats.geometry.poincare_ball import PoincareBall"
   ]
  },
  {
   "cell_type": "markdown",
   "metadata": {},
   "source": [
    "## Parameters and Initialization\n",
    "\n",
    "We define the following parameters needed for embedding:\n",
    "\n",
    "| Parameter | Description   |\n",
    "|:------|:------|\n",
    "|   random.seed  | An initial manually set number for generating pseudorandom numbers|\n",
    "| dim | Dimensions of the manifold used for embedding |\n",
    "|max_epochs|Number of iterations for learning the embedding |\n",
    "|lr| Learning rate|\n",
    "|n_negative| Number of negative samples|\n",
    "|context_size| Size of the considered context for each node of the graph|\n",
    "\n",
    "Let us discuss a few things about the parameters of the above table.\n",
    "The number of dimensions should be high (i.e., 10+) for large datasets \n",
    "(i.e., where the number of nodes/edges is significantly large). \n",
    "In this tutorial we consider a dataset that is quite small with only 34 nodes. The Poincaré disk of only two dimensions is therefore sufficient to\n",
    "capture the complexity of the graph and provide a faithful representation.\n",
    "Some parameters are hard to know in advance, such as `max_epochs` and `lr`. These should be tuned specifically for each dataset.\n",
    "Visualization can help with tuning the parameters. Also, one can perform a grid search to find values of these parameters which maximize some performance function. In learning embeddings, one can consider performance metrics such as\n",
    "a measure for cluster seperability or normalized mutual \n",
    "information (NMI) or others.\n",
    "Similarly, the number of negative samples and context size can also be thought of as hyperparameters and will\n",
    "be further discussed in the sequel. An instance of the `Graph` class is created\n",
    " and set to the Karate club dataset."
   ]
  },
  {
   "cell_type": "code",
   "execution_count": 2,
   "metadata": {
    "pycharm": {
     "is_executing": false
    }
   },
   "outputs": [],
   "source": [
    "gs.random.seed(1234)\n",
    "dim = 2\n",
    "max_epochs = 100\n",
    "lr = .05\n",
    "n_negative = 2\n",
    "context_size = 1\n",
    "karate_graph = load_karate_graph()"
   ]
  },
  {
   "cell_type": "markdown",
   "metadata": {},
   "source": [
    "The Zachary karate club network was collected from\n",
    "the members of a university karate club by Wayne Zachary\n",
    "in 1977. Each node represents a member of the club,\n",
    "and each edge represents an undirected relation between\n",
    "two members. An often discussed problem using this dataset\n",
    "is to find the two groups of people into which the\n",
    "karate club split after an argument between two teachers.\n",
    "<img src=\"figures/karate_graph.png\" width=\"60%\">\n",
    "Some information about the dataset is displayed to provide\n",
    "insight into its complexity."
   ]
  },
  {
   "cell_type": "code",
   "execution_count": 3,
   "metadata": {
    "pycharm": {
     "is_executing": false,
     "name": "#%%\n"
    }
   },
   "outputs": [
    {
     "name": "stderr",
     "text": [
      "INFO: Number of edges: 34\n",
      "INFO: Mean number of vertices per edge: 4.588235294117647\n"
     ],
     "output_type": "stream"
    }
   ],
   "source": [
    "nb_vertices_by_edges =\\\n",
    "    [len(e_2) for _, e_2 in karate_graph.edges.items()]\n",
    "logging.info('Number of edges: %s', len(karate_graph.edges))\n",
    "logging.info(\n",
    "    'Mean number of vertices per edge: %s',\n",
    "    (sum(nb_vertices_by_edges, 0) / len(karate_graph.edges)))"
   ]
  },
  {
   "cell_type": "markdown",
   "metadata": {},
   "source": [
    "Denote $V$ as the set of nodes and $E \\subset V\\times V$ the set \n",
    "of edges. The goal of embedding GSD is to provide a faithful and exploitable representation \n",
    "of the graph structure. It is mainly achieved by preserving  *first-order* proximity \n",
    "that enforces nodes sharing edges to be close to each other. It can additionally \n",
    "preserve *second-order* proximity that enforces two nodes sharing the same context \n",
    "(i.e., nodes that are neighbours but not necessarily directly connected) to be close. \n",
    "Let $\\mathbb{B}^m$ be the Poincaré Ball of dimension $m$ equipped with the distance function $d$.\n",
    "The below figure shows geodesics between pairs of points on $\\mathbb{B}^2$. Geodesics are\n",
    "the shortest path between two points. The distance function $d$ of two points is\n",
    "the length of the geodesic that links them.\n",
    "\n",
    "<img src=\"figures/geodesics.png\" width=\"40%\">\n"
   ]
  },
  {
   "cell_type": "markdown",
   "metadata": {
    "pycharm": {
     "name": "#%% md\n"
    }
   },
   "source": [
    "Declaring an instance of the `PoincareBall` manifold of two dimensions in `geomstats` is straightforward:"
   ]
  },
  {
   "cell_type": "code",
   "execution_count": 4,
   "metadata": {
    "pycharm": {
     "is_executing": false,
     "name": "#%%\n"
    }
   },
   "outputs": [],
   "source": [
    "hyperbolic_manifold = PoincareBall(2)"
   ]
  },
  {
   "cell_type": "markdown",
   "metadata": {},
   "source": [
    "*first* and *second-order* proximities can be achieved by optimising the following loss functions:"
   ]
  },
  {
   "cell_type": "markdown",
   "metadata": {},
   "source": [
    "## Loss function.\n",
    "\n",
    "To preserve first and second-order proximities we adopt a loss function similar to <cite data-cite=\"7875465/KRA9K53S\"></cite> and consider the negative sampling approach as in <cite data-cite=\"7875465/9CMMEH2F\"></cite> :\n",
    "\n",
    "$$     \\mathcal{L} = - \\sum_{v_i\\in V} \\sum_{v_j \\in C_i} \\bigg[ log(\\sigma(-d^2(\\phi_i, \\phi_j'))) + \\sum_{v_k\\sim \\mathcal{P}_n} log(\\sigma(d^2(\\phi_i, \\phi_k')))  \\bigg]$$\n",
    "\n",
    "where $\\sigma(x)=\\frac{1}{1+e^{-x}}$ is the sigmoid function and $\\phi_i \\in \\mathbb{B}^m$ \n",
    "is the embedding of the $i$-th node of $V$, $C_i$ the nodes in the context of the \n",
    "$i$-th node, $\\phi_j'\\in \\mathbb{B}^m$ the embedding of $v_j\\in C_i$ and \n",
    "$\\mathcal{P}_n$ the negative sampling distribution over $V$: \n",
    "$\\mathcal{P}_n(v)=\\frac{deg(v)^{3/4}}{\\sum_{v_i\\in V}deg(v_i)^{3/4}}$. \n",
    "Intuitively one can see that to minimizing $L$, the distance between $v_i$ and $v_j$ should get smaller, while the one between\n",
    "$v_i$ and $v_k$ would get larger.\n",
    "<img src=\"figures/notations.png\" width=\"40%\">"
   ]
  },
  {
   "cell_type": "markdown",
   "metadata": {
    "pycharm": {
     "name": "#%% md\n"
    }
   },
   "source": [
    "## Riemannian optimization.\n",
    "Following the idea of <cite data-cite=\"7875465/9DR2QEF9\"></cite> we use the following formula to optimize $L$:\n",
    "\n",
    "$$ \\phi^{t+1} = \\text{Exp}_{\\phi^t} \\left( -lr \\frac{\\partial L}{\\partial \\phi} \\right) $$\n",
    "\n",
    "where $\\phi$ is a parameter of $L$, $t\\in\\{1,2,\\cdots\\}$ is the epoch iteration number \n",
    "and $lr$ is the learning rate. The formula consists of first computing the usual gradient of the loss function\n",
    "giving the direction in which the parameter should move. \n",
    "The Riemannian exponential map $\\text{Exp}$ is a function that takes a base point $\\phi^t$ and some \n",
    "direction vector $T$ and returns the point $\\phi^{t+1}$ such that $\\phi^{t+1}$ belongs to the geodesic\n",
    "initiated from $\\phi{t}$ in the direction of $T$ and the length of the geoedesic curve between $\\phi^t$ and $\\phi^{t+1}$ is of 1 unit. \n",
    "The Riemannian exponential map is implemented as a method of the `PoincareBallMetric` class in the `geometry` module of `geomstats`.\n",
    "\n",
    "Therefore to minimize $L$ we will need to compute its gradient. Several steps are required to do so,\n",
    "1. Compute the gradient of the squared distance\n",
    "2. Compute the gradient of the log sigmoid\n",
    "3. Compute the gradient of the composision of 1. and 2."
   ]
  },
  {
   "cell_type": "markdown",
   "metadata": {},
   "source": [
    "For 1., we use the formula proposed by <cite data-cite=\"7875465/TLSACAEQ\"></cite> which uses the Riemannian logarithmic map to compute the gradient of the distance. \n",
    "This is implemented as"
   ]
  },
  {
   "cell_type": "code",
   "execution_count": 5,
   "metadata": {
    "pycharm": {
     "is_executing": false,
     "name": "#%%\n"
    }
   },
   "outputs": [],
   "source": [
    "def grad_squared_distance(point_a, point_b):\n",
    "    \"\"\"Gradient of squared hyperbolic distance.\n",
    "\n",
    "    Gradient of the squared distance based on the\n",
    "    Ball representation according to point_a\n",
    "\n",
    "    Parameters\n",
    "    ----------\n",
    "    point_a : array-like, shape=[n_samples, dim]\n",
    "        First point in hyperbolic space.\n",
    "    point_b : array-like, shape=[n_samples, dim]\n",
    "        Second point in hyperbolic space.\n",
    "\n",
    "    Returns\n",
    "    -------\n",
    "    dist : array-like, shape=[n_samples, 1]\n",
    "        Geodesic squared distance between the two points.\n",
    "    \"\"\"\n",
    "    hyperbolic_metric = PoincareBall(2).metric\n",
    "    log_map = hyperbolic_metric.log(point_b, point_a)\n",
    "\n",
    "    return -2 * log_map"
   ]
  },
  {
   "cell_type": "markdown",
   "metadata": {
    "pycharm": {
     "name": "#%% md\n"
    }
   },
   "source": [
    "For 2. define the `log_sigmoid` corresponding as follows:"
   ]
  },
  {
   "cell_type": "code",
   "execution_count": 6,
   "metadata": {
    "pycharm": {
     "is_executing": false,
     "name": "#%%\n"
    }
   },
   "outputs": [],
   "source": [
    "def log_sigmoid(vector):\n",
    "    \"\"\"Logsigmoid function.\n",
    "\n",
    "    Apply log sigmoid function\n",
    "\n",
    "    Parameters\n",
    "    ----------\n",
    "    vector : array-like, shape=[n_samples, dim]\n",
    "\n",
    "    Returns\n",
    "    -------\n",
    "    result : array-like, shape=[n_samples, dim]\n",
    "    \"\"\"\n",
    "    return gs.log((1 / (1 + gs.exp(-vector))))"
   ]
  },
  {
   "cell_type": "markdown",
   "metadata": {
    "pycharm": {
     "name": "#%% md\n"
    }
   },
   "source": [
    "The gradient of the logarithm of sigmoid function is implemented as:"
   ]
  },
  {
   "cell_type": "code",
   "execution_count": 7,
   "metadata": {
    "pycharm": {
     "is_executing": false,
     "name": "#%% \n"
    }
   },
   "outputs": [],
   "source": [
    "def grad_log_sigmoid(vector):\n",
    "    \"\"\"Gradient of log sigmoid function.\n",
    "\n",
    "    Parameters\n",
    "    ----------\n",
    "    vector : array-like, shape=[n_samples, dim]\n",
    "\n",
    "    Returns\n",
    "    -------\n",
    "    gradient : array-like, shape=[n_samples, dim]\n",
    "    \"\"\"\n",
    "    return 1 / (1 + gs.exp(vector))"
   ]
  },
  {
   "cell_type": "markdown",
   "metadata": {},
   "source": [
    "For 3., apply the composition rule to obtain the gradient of $L$. The following function given $\\phi_i$, $\\phi'_j$ and $\\phi'_k$ returns the total value of $L$ and its gradient vector at $\\phi_i$. For the value of $L$ the loss function formula is simply applied. For the gradient, we apply the composition of `grad_log_sigmoid` with `grad_squared_distance` while paying attention to the signs."
   ]
  },
  {
   "cell_type": "code",
   "execution_count": 8,
   "metadata": {
    "pycharm": {
     "is_executing": false,
     "name": "#%%\n"
    }
   },
   "outputs": [],
   "source": [
    "def loss(example_embedding, context_embedding, negative_embedding,\n",
    "         manifold):\n",
    "    \"\"\"Compute loss and grad.\n",
    "\n",
    "    Compute loss and grad given embedding of the current example,\n",
    "    embedding of the context and negative sampling embedding.\n",
    "    \"\"\"\n",
    "    n_edges, dim =\\\n",
    "        negative_embedding.shape[0], example_embedding.shape[-1]\n",
    "    example_embedding = gs.expand_dims(example_embedding, 0)\n",
    "    context_embedding = gs.expand_dims(context_embedding, 0)\n",
    "    positive_distance =\\\n",
    "        manifold.metric.squared_dist(\n",
    "            example_embedding, context_embedding)\n",
    "    positive_loss =\\\n",
    "        log_sigmoid(-positive_distance)\n",
    "\n",
    "    reshaped_example_embedding =\\\n",
    "        gs.repeat(example_embedding, n_edges, axis=0)\n",
    "    negative_distance =\\\n",
    "        manifold.metric.squared_dist(\n",
    "            reshaped_example_embedding, negative_embedding)\n",
    "    negative_loss = log_sigmoid(negative_distance)\n",
    "\n",
    "    total_loss = -(positive_loss + negative_loss.sum())\n",
    "\n",
    "    positive_log_sigmoid_grad =\\\n",
    "        -grad_log_sigmoid(-positive_distance)\n",
    "\n",
    "    positive_distance_grad =\\\n",
    "        grad_squared_distance(example_embedding, context_embedding)\n",
    "\n",
    "    positive_grad =\\\n",
    "        gs.repeat(positive_log_sigmoid_grad, dim, axis=-1)\\\n",
    "        * positive_distance_grad\n",
    "\n",
    "    negative_distance_grad =\\\n",
    "        grad_squared_distance(reshaped_example_embedding, negative_embedding)\n",
    "\n",
    "    negative_distance = gs.to_ndarray(negative_distance,\n",
    "                                      to_ndim=2, axis=-1)\n",
    "    negative_log_sigmoid_grad =\\\n",
    "        grad_log_sigmoid(negative_distance)\n",
    "\n",
    "    negative_grad = negative_log_sigmoid_grad\\\n",
    "        * negative_distance_grad\n",
    "    example_grad = -(positive_grad + negative_grad.sum(axis=0))\n",
    "\n",
    "    return total_loss, example_grad"
   ]
  },
  {
   "cell_type": "markdown",
   "metadata": {
    "pycharm": {
     "name": "#%% md\n"
    }
   },
   "source": [
    "## Capturing the graph structure\n",
    "At this point we have the necessary bricks to compute the resulting gradient of $L$. We are ready to prepare\n",
    "the nodes $v_i$, $v_j$ and $v_k$ and initialise their embeddings $\\phi_i$, $\\phi^{'}_j$ and $\\phi^{'}_k$.\n",
    "First, initialize an array that will hold embeddings $\\phi_i$ of each node $v_i\\in V$ with random points belonging to the Poincaré disk. "
   ]
  },
  {
   "cell_type": "code",
   "execution_count": 9,
   "metadata": {
    "pycharm": {
     "is_executing": false,
     "name": "#%%\n"
    }
   },
   "outputs": [],
   "source": [
    "embeddings = gs.random.normal(size=(karate_graph.n_nodes, dim))\n",
    "embeddings = embeddings * 0.2"
   ]
  },
  {
   "cell_type": "markdown",
   "metadata": {
    "pycharm": {
     "name": "#%% md\n"
    }
   },
   "source": [
    "Next, to prepare the context nodes $v_j$ for each node $v_i$, we compute random walks initialised from each $v_i$ \n",
    "up to some length (5 by default). The latter is done via a special function within the `Graph` class. The nodes $v_j$ will be later picked from the random walk of $v_i$.\n",
    "\n"
   ]
  },
  {
   "cell_type": "code",
   "execution_count": 10,
   "metadata": {
    "pycharm": {
     "is_executing": false,
     "name": "#%%\n"
    }
   },
   "outputs": [],
   "source": [
    "random_walks = karate_graph.random_walk()"
   ]
  },
  {
   "cell_type": "markdown",
   "metadata": {
    "pycharm": {
     "name": "#%% md\n"
    }
   },
   "source": [
    "Negatively sampled nodes $v_k$ are chosen according to the previously defined probability distribution function\n",
    "$\\mathcal{P}_n(v_k)$ implemented as"
   ]
  },
  {
   "cell_type": "code",
   "execution_count": 11,
   "metadata": {
    "pycharm": {
     "is_executing": false,
     "name": "#%%\n"
    }
   },
   "outputs": [],
   "source": [
    "negative_table_parameter = 5\n",
    "negative_sampling_table = []\n",
    "\n",
    "for i, nb_v in enumerate(nb_vertices_by_edges):\n",
    "    negative_sampling_table +=\\\n",
    "        ([i] * int((nb_v**(3. / 4.))) * negative_table_parameter)\n",
    "\n",
    "negative_sampling_table = gs.array(negative_sampling_table)"
   ]
  },
  {
   "cell_type": "markdown",
   "metadata": {
    "pycharm": {
     "name": "#%% md\n"
    }
   },
   "source": [
    "## Numerically optimizing the loss function\n",
    "Optimising the loss function is performed numerically over the number of epochs. \n",
    "At each iteration, we will compute the gradient of $L$. Then the graph nodes are moved in the direction\n",
    "pointed by the gradient. The movement of the nodes is performed by following geodesics in the gradient direction.\n",
    "The key to obtain an embedding representing accurately the dataset, is to move the nodes smoothly rather\n",
    "than brutal movements. This is done by tuning the learning rate, such as at each epoch\n",
    "all the nodes made small movements."
   ]
  },
  {
   "cell_type": "markdown",
   "metadata": {
    "pycharm": {
     "name": "#%% md\n"
    }
   },
   "source": [
    "A *first level* loop iterates over the epochs, the table `total_loss` will record the value of $L$ at each iteration\n",
    "and help us track the minimization of $L$."
   ]
  },
  {
   "cell_type": "markdown",
   "metadata": {
    "pycharm": {
     "name": "#%% md\n"
    }
   },
   "source": [
    "A *second level* nested loop iterates over each path in the previously computed random walks. Observing these walks, notice that nodes having \n",
    "many edges appear more often. Such nodes\n",
    "can be considered as important crossroads and will therefore be subject to a greater number of embedding updates. \n",
    "This is one of the main reasons why random walks have proven to be effective\n",
    "in capturing the structure of graphs. The context of each $v_i$ will be the set of nodes $v_j$ belonging \n",
    "to the random walk from $v_i$. The `context_size` specified earlier will limit the length of the walk to be considered. Similarly, we use\n",
    "the same `context_size` to limit the number of negative samples. We find $\\phi_i$ from the `embeddings` array.\n"
   ]
  },
  {
   "cell_type": "markdown",
   "metadata": {
    "pycharm": {
     "name": "#%% md\n"
    }
   },
   "source": [
    "\n",
    "A *third level* nested loop will iterate on each $v_j$ and $v_k$. From within, we find $\\phi'_j$ and $\\phi'_k$ then call the `loss` function to compute the gradient.\n",
    "Then the Riemannian exponential map is applied to find the new value of $\\phi_i$ as we mentioned before."
   ]
  },
  {
   "cell_type": "code",
   "execution_count": 12,
   "metadata": {
    "pycharm": {
     "is_executing": false,
     "name": "#%%\n"
    }
   },
   "outputs": [
    {
     "name": "stderr",
     "text": [
      "INFO: iteration 0 loss_value 1.831134\n",
      "INFO: iteration 1 loss_value 1.756577\n",
      "INFO: iteration 2 loss_value 1.732007\n",
      "INFO: iteration 3 loss_value 1.700528\n",
      "INFO: iteration 4 loss_value 1.625448\n",
      "INFO: iteration 5 loss_value 1.602360\n",
      "INFO: iteration 6 loss_value 1.528426\n",
      "INFO: iteration 7 loss_value 1.498064\n",
      "INFO: iteration 8 loss_value 1.490900\n",
      "INFO: iteration 9 loss_value 1.491361\n",
      "INFO: iteration 10 loss_value 1.462872\n",
      "INFO: iteration 11 loss_value 1.423908\n",
      "INFO: iteration 12 loss_value 1.410021\n",
      "INFO: iteration 13 loss_value 1.409570\n",
      "INFO: iteration 14 loss_value 1.360551\n",
      "INFO: iteration 15 loss_value 1.366309\n",
      "INFO: iteration 16 loss_value 1.378614\n",
      "INFO: iteration 17 loss_value 1.366773\n",
      "INFO: iteration 18 loss_value 1.353639\n",
      "INFO: iteration 19 loss_value 1.322307\n",
      "INFO: iteration 20 loss_value 1.328065\n",
      "INFO: iteration 21 loss_value 1.314103\n",
      "INFO: iteration 22 loss_value 1.328725\n",
      "INFO: iteration 23 loss_value 1.337897\n",
      "INFO: iteration 24 loss_value 1.335535\n",
      "INFO: iteration 25 loss_value 1.344733\n",
      "INFO: iteration 26 loss_value 1.298634\n",
      "INFO: iteration 27 loss_value 1.333758\n",
      "INFO: iteration 28 loss_value 1.340917\n",
      "INFO: iteration 29 loss_value 1.317375\n",
      "INFO: iteration 30 loss_value 1.294695\n",
      "INFO: iteration 31 loss_value 1.322252\n",
      "INFO: iteration 32 loss_value 1.298179\n",
      "INFO: iteration 33 loss_value 1.318222\n",
      "INFO: iteration 34 loss_value 1.332951\n",
      "INFO: iteration 35 loss_value 1.305245\n",
      "INFO: iteration 36 loss_value 1.333777\n",
      "INFO: iteration 37 loss_value 1.290690\n",
      "INFO: iteration 38 loss_value 1.290988\n",
      "INFO: iteration 39 loss_value 1.267858\n",
      "INFO: iteration 40 loss_value 1.336423\n",
      "INFO: iteration 41 loss_value 1.310937\n",
      "INFO: iteration 42 loss_value 1.332243\n",
      "INFO: iteration 43 loss_value 1.257189\n",
      "INFO: iteration 44 loss_value 1.300342\n",
      "INFO: iteration 45 loss_value 1.307356\n",
      "INFO: iteration 46 loss_value 1.299487\n",
      "INFO: iteration 47 loss_value 1.277873\n",
      "INFO: iteration 48 loss_value 1.311734\n",
      "INFO: iteration 49 loss_value 1.301636\n",
      "INFO: iteration 50 loss_value 1.311526\n",
      "INFO: iteration 51 loss_value 1.329873\n",
      "INFO: iteration 52 loss_value 1.289999\n",
      "INFO: iteration 53 loss_value 1.270359\n",
      "INFO: iteration 54 loss_value 1.302169\n",
      "INFO: iteration 55 loss_value 1.284781\n",
      "INFO: iteration 56 loss_value 1.291666\n",
      "INFO: iteration 57 loss_value 1.298739\n",
      "INFO: iteration 58 loss_value 1.301661\n",
      "INFO: iteration 59 loss_value 1.302442\n",
      "INFO: iteration 60 loss_value 1.305383\n",
      "INFO: iteration 61 loss_value 1.287210\n",
      "INFO: iteration 62 loss_value 1.287722\n",
      "INFO: iteration 63 loss_value 1.297307\n",
      "INFO: iteration 64 loss_value 1.316430\n",
      "INFO: iteration 65 loss_value 1.280540\n",
      "INFO: iteration 66 loss_value 1.299923\n",
      "INFO: iteration 67 loss_value 1.291297\n",
      "INFO: iteration 68 loss_value 1.256089\n",
      "INFO: iteration 69 loss_value 1.312982\n",
      "INFO: iteration 70 loss_value 1.268214\n",
      "INFO: iteration 71 loss_value 1.278418\n",
      "INFO: iteration 72 loss_value 1.259959\n",
      "INFO: iteration 73 loss_value 1.281143\n",
      "INFO: iteration 74 loss_value 1.309184\n",
      "INFO: iteration 75 loss_value 1.290599\n",
      "INFO: iteration 76 loss_value 1.298578\n",
      "INFO: iteration 77 loss_value 1.278831\n",
      "INFO: iteration 78 loss_value 1.294440\n",
      "INFO: iteration 79 loss_value 1.296877\n",
      "INFO: iteration 80 loss_value 1.304769\n",
      "INFO: iteration 81 loss_value 1.308534\n",
      "INFO: iteration 82 loss_value 1.334620\n",
      "INFO: iteration 83 loss_value 1.272269\n",
      "INFO: iteration 84 loss_value 1.307015\n",
      "INFO: iteration 85 loss_value 1.291332\n",
      "INFO: iteration 86 loss_value 1.306388\n",
      "INFO: iteration 87 loss_value 1.315105\n",
      "INFO: iteration 88 loss_value 1.280170\n",
      "INFO: iteration 89 loss_value 1.296186\n",
      "INFO: iteration 90 loss_value 1.307667\n",
      "INFO: iteration 91 loss_value 1.338244\n",
      "INFO: iteration 92 loss_value 1.292034\n",
      "INFO: iteration 93 loss_value 1.286888\n",
      "INFO: iteration 94 loss_value 1.278118\n",
      "INFO: iteration 95 loss_value 1.283444\n",
      "INFO: iteration 96 loss_value 1.286417\n",
      "INFO: iteration 97 loss_value 1.312697\n",
      "INFO: iteration 98 loss_value 1.313395\n",
      "INFO: iteration 99 loss_value 1.299745\n"
     ],
     "output_type": "stream"
    }
   ],
   "source": [
    "for epoch in range(max_epochs):\n",
    "    total_loss = []\n",
    "    for path in random_walks:\n",
    "\n",
    "        for example_index, one_path in enumerate(path):\n",
    "            context_index = path[max(0, example_index - context_size):\n",
    "                                 min(example_index + context_size,\n",
    "                                 len(path))]\n",
    "            negative_index =\\\n",
    "                gs.random.randint(negative_sampling_table.shape[0],\n",
    "                                  size=(len(context_index),\n",
    "                                  n_negative))\n",
    "            negative_index = negative_sampling_table[negative_index]\n",
    "\n",
    "            example_embedding = embeddings[one_path]\n",
    "            for one_context_i, one_negative_i in zip(context_index,\n",
    "                                                     negative_index):\n",
    "                context_embedding = embeddings[one_context_i]\n",
    "                negative_embedding = embeddings[one_negative_i]\n",
    "                l, g_ex = loss(\n",
    "                    example_embedding,\n",
    "                    context_embedding,\n",
    "                    negative_embedding,\n",
    "                    hyperbolic_manifold)\n",
    "                total_loss.append(l)\n",
    "\n",
    "                example_to_update = embeddings[one_path]\n",
    "                embeddings[one_path] = hyperbolic_manifold.metric.exp(\n",
    "                    -lr * g_ex, example_to_update)\n",
    "    logging.info(\n",
    "        'iteration %d loss_value %f',\n",
    "        epoch, sum(total_loss, 0) / len(total_loss))"
   ]
  },
  {
   "cell_type": "markdown",
   "metadata": {},
   "source": [
    "## Plotting results\n",
    "Once the `max_epochs` iterations of epochs is achieved, we can plot the resulting `embeddings` array and the true labels shown\n",
    "as two colors. At 15 epochs we can see that the two group of nodes with different labels are moving away from each other\n",
    "on the manifold. If one increases the `max_epochs`, then further separability is achieved."
   ]
  },
  {
   "cell_type": "code",
   "execution_count": 13,
   "metadata": {
    "pycharm": {
     "is_executing": false,
     "name": "#%%\n"
    }
   },
   "outputs": [
    {
     "data": {
      "text/plain": "<Figure size 576x576 with 1 Axes>",
      "image/png": "[encoded data removed]"
     },
     "metadata": {
      "needs_background": "light"
     },
     "output_type": "display_data"
    }
   ],
   "source": [
    "import matplotlib.patches as mpatches\n",
    "\n",
    "colors = {1: 'b', 2: 'r'}\n",
    "group_1 = mpatches.Patch(color=colors[1], label='Group 1')\n",
    "group_2 = mpatches.Patch(color=colors[2], label='Group 2')\n",
    "\n",
    "circle = visualization.PoincareDisk(point_type='ball')\n",
    "\n",
    "fig, ax = plt.subplots(figsize=(8, 8))\n",
    "circle.set_ax(ax)\n",
    "circle.draw(ax=ax)\n",
    "\n",
    "for i_embedding, embedding in enumerate(embeddings):\n",
    "    x = embedding[0]\n",
    "    y = embedding[1]\n",
    "    pt_id = i_embedding\n",
    "    plt.scatter(\n",
    "        x, y,\n",
    "        c=colors[karate_graph.labels[pt_id][0]],\n",
    "        s = 150\n",
    "        )\n",
    "    ax.annotate(pt_id, (x,y))\n",
    "    \n",
    "plt.title('Poincare Ball Embedding of the Karate Club Network')\n",
    "plt.legend(handles=[group_1, group_2])\n",
    "plt.show()"
   ]
  },
  {
   "cell_type": "markdown",
   "metadata": {},
   "source": [
    "In *geomstats*, several unsupervized clustering algorithms on manifolds are implemented such as $K$-means and Expectation-Maximization. \n",
    "\n",
    "Let us apply $K$-means to learn the node belonging of the two groups and see how well we predicted the true\n",
    "labels.\n",
    "Lets first import $K$-means"
   ]
  },
  {
   "cell_type": "code",
   "execution_count": 14,
   "metadata": {
    "pycharm": {
     "is_executing": false,
     "name": "#%%\n"
    }
   },
   "outputs": [],
   "source": [
    "from geomstats.learning.kmeans import RiemannianKMeans"
   ]
  },
  {
   "cell_type": "markdown",
   "metadata": {
    "pycharm": {
     "name": "#%% md\n"
    }
   },
   "source": [
    "Set the number of groups to 2"
   ]
  },
  {
   "cell_type": "code",
   "execution_count": 15,
   "metadata": {
    "pycharm": {
     "is_executing": false,
     "name": "#%%\n"
    }
   },
   "outputs": [],
   "source": [
    "n_clusters = 2"
   ]
  },
  {
   "cell_type": "markdown",
   "metadata": {
    "pycharm": {
     "name": "#%% md\n"
    }
   },
   "source": [
    "Initialize an instance of $K$-means"
   ]
  },
  {
   "cell_type": "code",
   "execution_count": 16,
   "metadata": {
    "pycharm": {
     "is_executing": false,
     "name": "#%%\n"
    }
   },
   "outputs": [],
   "source": [
    "kmeans = RiemannianKMeans(riemannian_metric= hyperbolic_manifold.metric,\n",
    "                          n_clusters=n_clusters,\n",
    "                          init='random',\n",
    "                          mean_method='frechet-poincare-ball'\n",
    "                              )"
   ]
  },
  {
   "cell_type": "markdown",
   "metadata": {
    "pycharm": {
     "name": "#%% md\n"
    }
   },
   "source": [
    "Fit the embedded nodes"
   ]
  },
  {
   "cell_type": "code",
   "execution_count": 17,
   "metadata": {
    "pycharm": {
     "is_executing": false,
     "name": "#%%\n"
    }
   },
   "outputs": [],
   "source": [
    "centroids = kmeans.fit(X=embeddings, max_iter=100)\n",
    "labels = kmeans.predict(X=embeddings)"
   ]
  },
  {
   "cell_type": "markdown",
   "metadata": {
    "pycharm": {
     "name": "#%% md\n"
    }
   },
   "source": [
    "And plot the resulting labels provided by $K$-means"
   ]
  },
  {
   "cell_type": "code",
   "execution_count": 18,
   "metadata": {
    "pycharm": {
     "is_executing": false,
     "name": "#%%\n"
    }
   },
   "outputs": [
    {
     "traceback": [
      "\u001b[1;31m---------------------------------------------------------------------------\u001b[0m",
      "\u001b[1;31mTypeError\u001b[0m                                 Traceback (most recent call last)",
      "\u001b[1;32m<ipython-input-18-fb512c930c1d>\u001b[0m in \u001b[0;36m<module>\u001b[1;34m\u001b[0m\n\u001b[0;32m      8\u001b[0m \u001b[0mgroup_1_predicted\u001b[0m \u001b[1;33m=\u001b[0m \u001b[0mmpatches\u001b[0m\u001b[1;33m.\u001b[0m\u001b[0mPatch\u001b[0m\u001b[1;33m(\u001b[0m\u001b[0mcolor\u001b[0m\u001b[1;33m=\u001b[0m\u001b[0mcolors\u001b[0m\u001b[1;33m[\u001b[0m\u001b[1;36m0\u001b[0m\u001b[1;33m]\u001b[0m\u001b[1;33m,\u001b[0m \u001b[0mlabel\u001b[0m\u001b[1;33m=\u001b[0m\u001b[1;34m'Group 1 predicted'\u001b[0m\u001b[1;33m)\u001b[0m\u001b[1;33m\u001b[0m\u001b[1;33m\u001b[0m\u001b[0m\n\u001b[0;32m      9\u001b[0m \u001b[0mgroup_2_predicted\u001b[0m \u001b[1;33m=\u001b[0m \u001b[0mmpatches\u001b[0m\u001b[1;33m.\u001b[0m\u001b[0mPatch\u001b[0m\u001b[1;33m(\u001b[0m\u001b[0mcolor\u001b[0m\u001b[1;33m=\u001b[0m\u001b[0mcolors\u001b[0m\u001b[1;33m[\u001b[0m\u001b[1;36m1\u001b[0m\u001b[1;33m]\u001b[0m\u001b[1;33m,\u001b[0m \u001b[0mlabel\u001b[0m\u001b[1;33m=\u001b[0m\u001b[1;34m'Group 2 predicted'\u001b[0m\u001b[1;33m)\u001b[0m\u001b[1;33m\u001b[0m\u001b[1;33m\u001b[0m\u001b[0m\n\u001b[1;32m---> 10\u001b[1;33m \u001b[0mgroup_centroids\u001b[0m \u001b[1;33m=\u001b[0m \u001b[0mLine2D\u001b[0m\u001b[1;33m(\u001b[0m\u001b[0mmarker\u001b[0m \u001b[1;33m=\u001b[0m \u001b[1;34m'*'\u001b[0m\u001b[1;33m,\u001b[0m \u001b[0mcolor\u001b[0m\u001b[1;33m=\u001b[0m\u001b[0mcolors\u001b[0m\u001b[1;33m[\u001b[0m\u001b[1;36m2\u001b[0m\u001b[1;33m]\u001b[0m\u001b[1;33m,\u001b[0m \u001b[0mlabel\u001b[0m\u001b[1;33m=\u001b[0m\u001b[1;34m'Cluster centroids'\u001b[0m\u001b[1;33m)\u001b[0m\u001b[1;33m\u001b[0m\u001b[1;33m\u001b[0m\u001b[0m\n\u001b[0m\u001b[0;32m     11\u001b[0m \u001b[1;33m\u001b[0m\u001b[0m\n\u001b[0;32m     12\u001b[0m \u001b[1;32mfor\u001b[0m \u001b[0mi\u001b[0m \u001b[1;32min\u001b[0m \u001b[0mrange\u001b[0m\u001b[1;33m(\u001b[0m\u001b[0mn_clusters\u001b[0m\u001b[1;33m)\u001b[0m\u001b[1;33m:\u001b[0m\u001b[1;33m\u001b[0m\u001b[1;33m\u001b[0m\u001b[0m\n",
      "\u001b[1;31mTypeError\u001b[0m: __init__() missing 2 required positional arguments: 'xdata' and 'ydata'"
     ],
     "ename": "TypeError",
     "evalue": "__init__() missing 2 required positional arguments: 'xdata' and 'ydata'",
     "output_type": "error"
    },
    {
     "data": {
      "text/plain": "<Figure size 576x576 with 1 Axes>",
      "image/png": "[encoded data removed]"
     },
     "metadata": {
      "needs_background": "light"
     },
     "output_type": "display_data"
    }
   ],
   "source": [
    "from matplotlib.lines import Line2D\n",
    "\n",
    "colors = ['g', 'c', 'm']\n",
    "circle = visualization.PoincareDisk(point_type='ball')\n",
    "fig2, ax2 = plt.subplots(figsize=(8, 8))\n",
    "circle.set_ax(ax2)\n",
    "circle.draw(ax=ax2)\n",
    "group_1_predicted = mpatches.Patch(color=colors[0], label='Group 1 predicted')\n",
    "group_2_predicted = mpatches.Patch(color=colors[1], label='Group 2 predicted')\n",
    "group_centroids = Line2D(marker = '*', color=colors[2], label='Cluster centroids')\n",
    "\n",
    "for i in range(n_clusters):\n",
    "    for i_embedding, embedding in enumerate(embeddings):\n",
    "        x = embedding[0]\n",
    "        y = embedding[1]\n",
    "        pt_id = i_embedding\n",
    "        if labels[i_embedding] == 0:\n",
    "            color = colors[0]\n",
    "        else:\n",
    "            color = colors[1]\n",
    "        plt.scatter(\n",
    "            x, y,\n",
    "            c=color,\n",
    "            s = 150\n",
    "            )\n",
    "        ax2.annotate(pt_id, (x,y))\n",
    "\n",
    "for i_centroid, centroid in enumerate(centroids): \n",
    "    x = centroid[0]\n",
    "    y = centroid[1]\n",
    "    plt.scatter(\n",
    "        x, y,\n",
    "        c=colors[2],\n",
    "        marker='*',\n",
    "        s = 150,\n",
    "        )\n",
    "\n",
    "plt.title('K-means applied to Karate club embedding')\n",
    "plt.legend(handles = [group_1_predicted, group_2_predicted, group_centroids])\n",
    "plt.show()"
   ]
  },
  {
   "cell_type": "markdown",
   "metadata": {
    "pycharm": {
     "name": "#%% md\n"
    }
   },
   "source": [
    "By comparing the $K$-means labels and the true labels, notice how $K$-means \n",
    "accurately find the two groups of nodes, we therefore achieved a high performance in\n",
    "predicting the belonging of each member of the Karate club to one of the two groups."
   ]
  },
  {
   "cell_type": "markdown",
   "metadata": {
    "pycharm": {
     "name": "#%% md\n"
    }
   },
   "source": [
    "\n",
    "\n",
    "## References\n",
    "<div class=\"cite2c-biblio\"></div>"
   ]
  }
 ],
 "metadata": {
  "cite2c": {
   "citations": {
    "7875465/9CMMEH2F": {
     "author": [
      {
       "family": "Mikolov",
       "given": "Tomas"
      },
      {
       "family": "Sutskever",
       "given": "Ilya"
      },
      {
       "family": "Chen",
       "given": "Kai"
      },
      {
       "family": "Corrado",
       "given": "Greg S"
      },
      {
       "family": "Dean",
       "given": "Jeff"
      }
     ],
     "container-title": "Advances in Neural Information Processing Systems 26 (NIPS)",
     "id": "7875465/9CMMEH2F",
     "issued": {
      "year": 2013
     },
     "page": "3111–3119",
     "page-first": "3111",
     "publisher": "Curran Associates, Inc.",
     "title": "Distributed Representations of Words and Phrases and their Compositionality",
     "type": "chapter"
    },
    "7875465/9DR2QEF9": {
     "author": [
      {
       "family": "Ganea",
       "given": "Octavian"
      },
      {
       "family": "Becigneul",
       "given": "Gary"
      },
      {
       "family": "Hofmann",
       "given": "Thomas"
      }
     ],
     "container-title": "Advances in Neural Information Processing Systems 31 (NIPS)",
     "id": "7875465/9DR2QEF9",
     "issued": {
      "year": 2018
     },
     "page": "5345–5355",
     "page-first": "5345",
     "publisher": "Curran Associates, Inc.",
     "title": "Hyperbolic Neural Networks",
     "type": "paper-conference"
    },
    "7875465/KRA9K53S": {
     "author": [
      {
       "family": "Nickel",
       "given": "Maximillian"
      },
      {
       "family": "Kiela",
       "given": "Douwe"
      }
     ],
     "container-title": "Advances in Neural Information Processing Systems 30 (NIPS)",
     "id": "7875465/KRA9K53S",
     "issued": {
      "year": 2017
     },
     "page": "6338–6347",
     "page-first": "6338",
     "publisher": "Curran Associates, Inc.",
     "title": "Poincaré Embeddings for Learning Hierarchical Representations",
     "type": "chapter"
    },
    "7875465/TLSACAEQ": {
     "author": [
      {
       "family": "Arnaudon",
       "given": "Marc"
      },
      {
       "family": "Barbaresco",
       "given": "Frédéric"
      },
      {
       "family": "Yang",
       "given": "Le"
      }
     ],
     "container-title": "Journal of Selected Topics in Signal Processing",
     "id": "7875465/TLSACAEQ",
     "issue": "4",
     "issued": {
      "year": 2013
     },
     "page": "595–604",
     "page-first": "595",
     "title": "Riemannian Medians and Means With Applications to Radar Signal Processing",
     "type": "article-journal",
     "volume": "7"
    }
   }
  },
  "kernelspec": {
   "display_name": "Python 3",
   "language": "python",
   "name": "python3"
  },
  "language_info": {
   "codemirror_mode": {
    "name": "ipython",
    "version": 3
   },
   "file_extension": ".py",
   "mimetype": "text/x-python",
   "name": "python",
   "nbconvert_exporter": "python",
   "pygments_lexer": "ipython3",
   "version": "3.7.4"
  },
  "pycharm": {
   "stem_cell": {
    "cell_type": "raw",
    "source": [],
    "metadata": {
     "collapsed": false
    }
   }
  }
 },
 "nbformat": 4,
 "nbformat_minor": 4
}